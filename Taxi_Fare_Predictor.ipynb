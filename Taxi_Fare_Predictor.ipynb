{
  "cells": [
    {
      "cell_type": "markdown",
      "metadata": {
        "id": "toXTm3L26r7C"
      },
      "source": [
        "#Taxi Fare Predictor"
      ]
    },
    {
      "cell_type": "markdown",
      "metadata": {
        "id": "v17mV6C4ABH2"
      },
      "source": [
        "**Description -**\n",
        "- As target variable is already known, we treat this as a Supervised Learning problem.\n",
        "- Fare is a continuous real variable, so regression models will be used.\n",
        "- As Taxi Fare is extremely dependent on Fuel price, we have used a public dataset which includes weekly average of fuel prices in New York City"
      ]
    },
    {
      "cell_type": "markdown",
      "metadata": {
        "id": "rQL4RlTWmvhZ"
      },
      "source": [
        "**Steps -**\n",
        "1. Downloading dataset, Installing packages & Loading dataset\n",
        "2. Exploratory Data Analysis & Visualization\n",
        "3. Preparing the dataset for Machine Learning\n",
        "4. Training Hardcoded & Baseline Models\n",
        "5. Feature Engineering\n",
        "6. Training & Evaluating Different Models\n",
        "7. Predicting Fares for test data & Creating the submission file"
      ]
    },
    {
      "cell_type": "markdown",
      "metadata": {
        "id": "J3Gob9dA6_Rs"
      },
      "source": [
        "##1. Downloading dataset, Installing packages & Loading dataset"
      ]
    },
    {
      "cell_type": "markdown",
      "metadata": {
        "id": "eY-skgnP7R9z"
      },
      "source": [
        "###Installing packages & downloading dataset"
      ]
    },
    {
      "cell_type": "code",
      "execution_count": 269,
      "metadata": {
        "id": "Eb4W4iOlzT3j"
      },
      "outputs": [],
      "source": [
        "!pip install opendatasets --quiet"
      ]
    },
    {
      "cell_type": "code",
      "execution_count": 270,
      "metadata": {
        "id": "dx12C6747W0i"
      },
      "outputs": [],
      "source": [
        "import opendatasets as od"
      ]
    },
    {
      "cell_type": "code",
      "execution_count": 271,
      "metadata": {
        "id": "yxrn2Rfo70UZ"
      },
      "outputs": [],
      "source": [
        "download_url = 'https://www.kaggle.com/competitions/new-york-city-taxi-fare-prediction/'\n",
        "download_url_fuel = 'https://www.kaggle.com/datasets/new-york-state/nys-diesel-retail-price-weekly-average'"
      ]
    },
    {
      "cell_type": "markdown",
      "metadata": {
        "id": "FtiLyGyonP_a"
      },
      "source": [
        "Upload the kaggle API key json file from kaggle or input the username & API key when asked after running the following two cells"
      ]
    },
    {
      "cell_type": "code",
      "execution_count": 272,
      "metadata": {
        "colab": {
          "base_uri": "https://localhost:8080/"
        },
        "id": "4ujB_dNfTmXd",
        "outputId": "1d4bb287-b3b5-4470-9dfe-04e831e8cccc"
      },
      "outputs": [
        {
          "output_type": "stream",
          "name": "stdout",
          "text": [
            "Skipping, found downloaded files in \"./new-york-city-taxi-fare-prediction\" (use force=True to force download)\n"
          ]
        }
      ],
      "source": [
        "od.download(download_url)"
      ]
    },
    {
      "cell_type": "code",
      "execution_count": 273,
      "metadata": {
        "colab": {
          "base_uri": "https://localhost:8080/"
        },
        "id": "44Y_1gUlTnBH",
        "outputId": "2f30da2b-4aba-4af8-9375-fd0bc94cd1f8"
      },
      "outputs": [
        {
          "output_type": "stream",
          "name": "stdout",
          "text": [
            "Skipping, found downloaded files in \"./nys-diesel-retail-price-weekly-average\" (use force=True to force download)\n"
          ]
        }
      ],
      "source": [
        "od.download(download_url_fuel)"
      ]
    },
    {
      "cell_type": "markdown",
      "metadata": {
        "id": "_G_hnytj-c0x"
      },
      "source": [
        "###Viewing Dataset Files"
      ]
    },
    {
      "cell_type": "code",
      "execution_count": 274,
      "metadata": {
        "id": "rckAqSB19uxB"
      },
      "outputs": [],
      "source": [
        "data_dir = 'new-york-city-taxi-fare-prediction/'"
      ]
    },
    {
      "cell_type": "code",
      "execution_count": 275,
      "metadata": {
        "id": "DNyLtP9WPmat"
      },
      "outputs": [],
      "source": [
        "data_dir_fuel = 'nys-diesel-retail-price-weekly-average/'"
      ]
    },
    {
      "cell_type": "code",
      "execution_count": 276,
      "metadata": {
        "colab": {
          "base_uri": "https://localhost:8080/"
        },
        "id": "89YIH_Vv-RDQ",
        "outputId": "093bae4c-3cd1-4378-c4e9-7095bee525ab"
      },
      "outputs": [
        {
          "output_type": "stream",
          "name": "stdout",
          "text": [
            "total 5.4G\n",
            "-rw-r--r-- 1 root root  486 Jul 10 04:34 GCP-Coupons-Instructions.rtf\n",
            "-rw-r--r-- 1 root root 336K Jul 10 04:34 sample_submission.csv\n",
            "-rw-r--r-- 1 root root 960K Jul 10 04:34 test.csv\n",
            "-rw-r--r-- 1 root root 5.4G Jul 10 04:35 train.csv\n"
          ]
        }
      ],
      "source": [
        "!ls -lh {data_dir} #'!' means run the command in shell"
      ]
    },
    {
      "cell_type": "code",
      "execution_count": 277,
      "metadata": {
        "colab": {
          "base_uri": "https://localhost:8080/"
        },
        "id": "9iujyHf6-amk",
        "outputId": "32ed6940-1647-4513-b457-77919c5fb916"
      },
      "outputs": [
        {
          "output_type": "stream",
          "name": "stdout",
          "text": [
            "55423856 new-york-city-taxi-fare-prediction/train.csv\n"
          ]
        }
      ],
      "source": [
        "!wc -l {data_dir}train.csv"
      ]
    },
    {
      "cell_type": "code",
      "execution_count": 278,
      "metadata": {
        "colab": {
          "base_uri": "https://localhost:8080/"
        },
        "id": "TqjngPQN-j4u",
        "outputId": "d0bad070-00d1-4f9c-df61-61e41e281878"
      },
      "outputs": [
        {
          "output_type": "stream",
          "name": "stdout",
          "text": [
            "9914 new-york-city-taxi-fare-prediction/test.csv\n"
          ]
        }
      ],
      "source": [
        "!wc -l {data_dir}test.csv"
      ]
    },
    {
      "cell_type": "code",
      "execution_count": 279,
      "metadata": {
        "colab": {
          "base_uri": "https://localhost:8080/"
        },
        "id": "DwsZteWZ-oMj",
        "outputId": "35dafce8-450e-4b42-e69b-00f8c87d8638"
      },
      "outputs": [
        {
          "output_type": "stream",
          "name": "stdout",
          "text": [
            "9915 new-york-city-taxi-fare-prediction/sample_submission.csv\n"
          ]
        }
      ],
      "source": [
        "!wc -l {data_dir}sample_submission.csv"
      ]
    },
    {
      "cell_type": "code",
      "execution_count": 280,
      "metadata": {
        "colab": {
          "base_uri": "https://localhost:8080/"
        },
        "id": "ED6KVCw3-tEd",
        "outputId": "a71de071-e41c-487b-d929-a164ef799136"
      },
      "outputs": [
        {
          "output_type": "stream",
          "name": "stdout",
          "text": [
            "key,fare_amount,pickup_datetime,pickup_longitude,pickup_latitude,dropoff_longitude,dropoff_latitude,passenger_count\r\n",
            "2009-06-15 17:26:21.0000001,4.5,2009-06-15 17:26:21 UTC,-73.844311,40.721319,-73.84161,40.712278,1\r\n",
            "2010-01-05 16:52:16.0000002,16.9,2010-01-05 16:52:16 UTC,-74.016048,40.711303,-73.979268,40.782004,1\r\n",
            "2011-08-18 00:35:00.00000049,5.7,2011-08-18 00:35:00 UTC,-73.982738,40.76127,-73.991242,40.750562,2\r\n",
            "2012-04-21 04:30:42.0000001,7.7,2012-04-21 04:30:42 UTC,-73.98713,40.733143,-73.991567,40.758092,1\r\n",
            "2010-03-09 07:51:00.000000135,5.3,2010-03-09 07:51:00 UTC,-73.968095,40.768008,-73.956655,40.783762,1\r\n",
            "2011-01-06 09:50:45.0000002,12.1,2011-01-06 09:50:45 UTC,-74.000964,40.73163,-73.972892,40.758233,1\r\n",
            "2012-11-20 20:35:00.0000001,7.5,2012-11-20 20:35:00 UTC,-73.980002,40.751662,-73.973802,40.764842,1\r\n",
            "2012-01-04 17:22:00.00000081,16.5,2012-01-04 17:22:00 UTC,-73.9513,40.774138,-73.990095,40.751048,1\r\n",
            "2012-12-03 13:10:00.000000125,9,2012-12-03 13:10:00 UTC,-74.006462,40.726713,-73.993078,40.731628,1\r\n"
          ]
        }
      ],
      "source": [
        "!head {data_dir}train.csv"
      ]
    },
    {
      "cell_type": "code",
      "execution_count": 281,
      "metadata": {
        "colab": {
          "base_uri": "https://localhost:8080/"
        },
        "id": "nRqScPzZ8ggy",
        "outputId": "2ea9272a-ad1a-4066-d49d-7ce355a432e8"
      },
      "outputs": [
        {
          "output_type": "stream",
          "name": "stdout",
          "text": [
            "key,pickup_datetime,pickup_longitude,pickup_latitude,dropoff_longitude,dropoff_latitude,passenger_count\r\n",
            "2015-01-27 13:08:24.0000002,2015-01-27 13:08:24 UTC,-73.973320007324219,40.7638053894043,-73.981430053710938,40.74383544921875,1\r\n",
            "2015-01-27 13:08:24.0000003,2015-01-27 13:08:24 UTC,-73.986862182617188,40.719383239746094,-73.998886108398438,40.739200592041016,1\r\n",
            "2011-10-08 11:53:44.0000002,2011-10-08 11:53:44 UTC,-73.982524,40.75126,-73.979654,40.746139,1\r\n",
            "2012-12-01 21:12:12.0000002,2012-12-01 21:12:12 UTC,-73.98116,40.767807,-73.990448,40.751635,1\r\n",
            "2012-12-01 21:12:12.0000003,2012-12-01 21:12:12 UTC,-73.966046,40.789775,-73.988565,40.744427,1\r\n",
            "2012-12-01 21:12:12.0000005,2012-12-01 21:12:12 UTC,-73.960983,40.765547,-73.979177,40.740053,1\r\n",
            "2011-10-06 12:10:20.0000001,2011-10-06 12:10:20 UTC,-73.949013,40.773204,-73.959622,40.770893,1\r\n",
            "2011-10-06 12:10:20.0000003,2011-10-06 12:10:20 UTC,-73.777282,40.646636,-73.985083,40.759368,1\r\n",
            "2011-10-06 12:10:20.0000002,2011-10-06 12:10:20 UTC,-74.014099,40.709638,-73.995106,40.741365,1\r\n"
          ]
        }
      ],
      "source": [
        "!head {data_dir}test.csv"
      ]
    },
    {
      "cell_type": "markdown",
      "metadata": {
        "id": "l7KR8VKOAT39"
      },
      "source": [
        "###Loading the dataset"
      ]
    },
    {
      "cell_type": "code",
      "execution_count": 282,
      "metadata": {
        "id": "xcHJg9ehAad1"
      },
      "outputs": [],
      "source": [
        "import numpy as np\n",
        "import pandas as pd\n",
        "import random\n",
        "import matplotlib.pyplot as plt"
      ]
    },
    {
      "cell_type": "code",
      "execution_count": 283,
      "metadata": {
        "colab": {
          "base_uri": "https://localhost:8080/"
        },
        "id": "p6Rygx-mBnJc",
        "outputId": "9a317d95-9bda-4b41-aadc-89900f008aa7"
      },
      "outputs": [
        {
          "output_type": "stream",
          "name": "stdout",
          "text": [
            "['fare_amount', 'pickup_datetime', 'pickup_longitude', 'pickup_latitude', 'dropoff_longitude', 'dropoff_latitude', 'passenger_count']\n"
          ]
        }
      ],
      "source": [
        "cols = ('fare_amount,pickup_datetime,pickup_longitude,pickup_latitude,dropoff_longitude,dropoff_latitude,passenger_count').split(',')\n",
        "print(cols)"
      ]
    },
    {
      "cell_type": "code",
      "execution_count": 284,
      "metadata": {
        "id": "ynzK5KAx8_Kt"
      },
      "outputs": [],
      "source": [
        "dtypes = {\n",
        "    'fare_amount':'float32',\n",
        "    'pickup_longitude':'float32',\n",
        "    'pickup_latitude':'float32',\n",
        "    'dropoff_longitude':'float32',\n",
        "    'dropoff_latitude':'float32',\n",
        "    'passenger_count':'uint8' #count can't be nagative, so we use unsigned int datatype\n",
        "}"
      ]
    },
    {
      "cell_type": "code",
      "execution_count": 285,
      "metadata": {
        "id": "F3DRL6szCvc5"
      },
      "outputs": [],
      "source": [
        "sample_fraction = 0.03 #We are going to use only 3% dataset\n",
        "random.seed(42) #Fixing the seed to get same results everytime \n",
        "\n",
        "#Utility Function to randomly read only 3% rows from the csv file\n",
        "def skip_row(row_idx):\n",
        "  if row_idx == 0:\n",
        "    return False\n",
        "  else:\n",
        "    return random.random() > sample_fraction"
      ]
    },
    {
      "cell_type": "markdown",
      "metadata": {
        "id": "PNoRePEK9LFh"
      },
      "source": [
        "Loading the training data"
      ]
    },
    {
      "cell_type": "code",
      "execution_count": 286,
      "metadata": {
        "id": "MOi1xQcDCuVh"
      },
      "outputs": [],
      "source": [
        "df = pd.read_csv(\n",
        "    data_dir+'train.csv',\n",
        "    usecols=cols,\n",
        "    parse_dates=['pickup_datetime'],\n",
        "    dtype=dtypes,\n",
        "    skiprows=skip_row)"
      ]
    },
    {
      "cell_type": "code",
      "execution_count": 287,
      "metadata": {
        "id": "aLWXf_6dINoU"
      },
      "outputs": [],
      "source": [
        "test_df = pd.read_csv(\n",
        "    data_dir+'/test.csv',\n",
        "    dtype=dtypes, \n",
        "    parse_dates=['pickup_datetime'])"
      ]
    },
    {
      "cell_type": "code",
      "execution_count": 288,
      "metadata": {
        "id": "zaMpw4rYPE5o"
      },
      "outputs": [],
      "source": [
        "df_fuel = pd.read_csv(\n",
        "    data_dir_fuel+'diesel-retail-price-weekly-average-by-region-beginning-2007.csv', \n",
        "    parse_dates=['Date'], \n",
        "    usecols=['Date', 'New York State Average ($/gal)'])"
      ]
    },
    {
      "cell_type": "markdown",
      "metadata": {
        "id": "NgB0jZmhKYJD"
      },
      "source": [
        "##2. Exploratory Data Analysis & Visualization"
      ]
    },
    {
      "cell_type": "markdown",
      "metadata": {
        "id": "rPVZGLMkIrhS"
      },
      "source": [
        "####Training Set"
      ]
    },
    {
      "cell_type": "code",
      "execution_count": 289,
      "metadata": {
        "colab": {
          "base_uri": "https://localhost:8080/",
          "height": 206
        },
        "id": "p78q7hxXQFhT",
        "outputId": "cca462f0-2ddb-4c7d-95c2-612843cda799"
      },
      "outputs": [
        {
          "output_type": "execute_result",
          "data": {
            "text/plain": [
              "   fare_amount           pickup_datetime  pickup_longitude  pickup_latitude  \\\n",
              "0         16.9 2010-01-05 16:52:16+00:00        -74.016045        40.711304   \n",
              "1          8.9 2009-09-02 01:11:00+00:00        -73.980659        40.733871   \n",
              "2          4.1 2009-11-06 01:04:03+00:00        -73.991600        40.744713   \n",
              "3          4.0 2014-12-06 20:36:22+00:00        -73.979813        40.751904   \n",
              "4         10.0 2014-11-12 12:40:29+00:00        -74.002579        40.739571   \n",
              "\n",
              "   dropoff_longitude  dropoff_latitude  passenger_count  \n",
              "0         -73.979271         40.782005                1  \n",
              "1         -73.991539         40.758137                2  \n",
              "2         -73.983078         40.744682                2  \n",
              "3         -73.979446         40.755482                1  \n",
              "4         -73.994583         40.760681                1  "
            ],
            "text/html": [
              "\n",
              "  <div id=\"df-1c91db56-8472-4467-883e-dc7b8e54b928\">\n",
              "    <div class=\"colab-df-container\">\n",
              "      <div>\n",
              "<style scoped>\n",
              "    .dataframe tbody tr th:only-of-type {\n",
              "        vertical-align: middle;\n",
              "    }\n",
              "\n",
              "    .dataframe tbody tr th {\n",
              "        vertical-align: top;\n",
              "    }\n",
              "\n",
              "    .dataframe thead th {\n",
              "        text-align: right;\n",
              "    }\n",
              "</style>\n",
              "<table border=\"1\" class=\"dataframe\">\n",
              "  <thead>\n",
              "    <tr style=\"text-align: right;\">\n",
              "      <th></th>\n",
              "      <th>fare_amount</th>\n",
              "      <th>pickup_datetime</th>\n",
              "      <th>pickup_longitude</th>\n",
              "      <th>pickup_latitude</th>\n",
              "      <th>dropoff_longitude</th>\n",
              "      <th>dropoff_latitude</th>\n",
              "      <th>passenger_count</th>\n",
              "    </tr>\n",
              "  </thead>\n",
              "  <tbody>\n",
              "    <tr>\n",
              "      <th>0</th>\n",
              "      <td>16.9</td>\n",
              "      <td>2010-01-05 16:52:16+00:00</td>\n",
              "      <td>-74.016045</td>\n",
              "      <td>40.711304</td>\n",
              "      <td>-73.979271</td>\n",
              "      <td>40.782005</td>\n",
              "      <td>1</td>\n",
              "    </tr>\n",
              "    <tr>\n",
              "      <th>1</th>\n",
              "      <td>8.9</td>\n",
              "      <td>2009-09-02 01:11:00+00:00</td>\n",
              "      <td>-73.980659</td>\n",
              "      <td>40.733871</td>\n",
              "      <td>-73.991539</td>\n",
              "      <td>40.758137</td>\n",
              "      <td>2</td>\n",
              "    </tr>\n",
              "    <tr>\n",
              "      <th>2</th>\n",
              "      <td>4.1</td>\n",
              "      <td>2009-11-06 01:04:03+00:00</td>\n",
              "      <td>-73.991600</td>\n",
              "      <td>40.744713</td>\n",
              "      <td>-73.983078</td>\n",
              "      <td>40.744682</td>\n",
              "      <td>2</td>\n",
              "    </tr>\n",
              "    <tr>\n",
              "      <th>3</th>\n",
              "      <td>4.0</td>\n",
              "      <td>2014-12-06 20:36:22+00:00</td>\n",
              "      <td>-73.979813</td>\n",
              "      <td>40.751904</td>\n",
              "      <td>-73.979446</td>\n",
              "      <td>40.755482</td>\n",
              "      <td>1</td>\n",
              "    </tr>\n",
              "    <tr>\n",
              "      <th>4</th>\n",
              "      <td>10.0</td>\n",
              "      <td>2014-11-12 12:40:29+00:00</td>\n",
              "      <td>-74.002579</td>\n",
              "      <td>40.739571</td>\n",
              "      <td>-73.994583</td>\n",
              "      <td>40.760681</td>\n",
              "      <td>1</td>\n",
              "    </tr>\n",
              "  </tbody>\n",
              "</table>\n",
              "</div>\n",
              "      <button class=\"colab-df-convert\" onclick=\"convertToInteractive('df-1c91db56-8472-4467-883e-dc7b8e54b928')\"\n",
              "              title=\"Convert this dataframe to an interactive table.\"\n",
              "              style=\"display:none;\">\n",
              "        \n",
              "  <svg xmlns=\"http://www.w3.org/2000/svg\" height=\"24px\"viewBox=\"0 0 24 24\"\n",
              "       width=\"24px\">\n",
              "    <path d=\"M0 0h24v24H0V0z\" fill=\"none\"/>\n",
              "    <path d=\"M18.56 5.44l.94 2.06.94-2.06 2.06-.94-2.06-.94-.94-2.06-.94 2.06-2.06.94zm-11 1L8.5 8.5l.94-2.06 2.06-.94-2.06-.94L8.5 2.5l-.94 2.06-2.06.94zm10 10l.94 2.06.94-2.06 2.06-.94-2.06-.94-.94-2.06-.94 2.06-2.06.94z\"/><path d=\"M17.41 7.96l-1.37-1.37c-.4-.4-.92-.59-1.43-.59-.52 0-1.04.2-1.43.59L10.3 9.45l-7.72 7.72c-.78.78-.78 2.05 0 2.83L4 21.41c.39.39.9.59 1.41.59.51 0 1.02-.2 1.41-.59l7.78-7.78 2.81-2.81c.8-.78.8-2.07 0-2.86zM5.41 20L4 18.59l7.72-7.72 1.47 1.35L5.41 20z\"/>\n",
              "  </svg>\n",
              "      </button>\n",
              "      \n",
              "  <style>\n",
              "    .colab-df-container {\n",
              "      display:flex;\n",
              "      flex-wrap:wrap;\n",
              "      gap: 12px;\n",
              "    }\n",
              "\n",
              "    .colab-df-convert {\n",
              "      background-color: #E8F0FE;\n",
              "      border: none;\n",
              "      border-radius: 50%;\n",
              "      cursor: pointer;\n",
              "      display: none;\n",
              "      fill: #1967D2;\n",
              "      height: 32px;\n",
              "      padding: 0 0 0 0;\n",
              "      width: 32px;\n",
              "    }\n",
              "\n",
              "    .colab-df-convert:hover {\n",
              "      background-color: #E2EBFA;\n",
              "      box-shadow: 0px 1px 2px rgba(60, 64, 67, 0.3), 0px 1px 3px 1px rgba(60, 64, 67, 0.15);\n",
              "      fill: #174EA6;\n",
              "    }\n",
              "\n",
              "    [theme=dark] .colab-df-convert {\n",
              "      background-color: #3B4455;\n",
              "      fill: #D2E3FC;\n",
              "    }\n",
              "\n",
              "    [theme=dark] .colab-df-convert:hover {\n",
              "      background-color: #434B5C;\n",
              "      box-shadow: 0px 1px 3px 1px rgba(0, 0, 0, 0.15);\n",
              "      filter: drop-shadow(0px 1px 2px rgba(0, 0, 0, 0.3));\n",
              "      fill: #FFFFFF;\n",
              "    }\n",
              "  </style>\n",
              "\n",
              "      <script>\n",
              "        const buttonEl =\n",
              "          document.querySelector('#df-1c91db56-8472-4467-883e-dc7b8e54b928 button.colab-df-convert');\n",
              "        buttonEl.style.display =\n",
              "          google.colab.kernel.accessAllowed ? 'block' : 'none';\n",
              "\n",
              "        async function convertToInteractive(key) {\n",
              "          const element = document.querySelector('#df-1c91db56-8472-4467-883e-dc7b8e54b928');\n",
              "          const dataTable =\n",
              "            await google.colab.kernel.invokeFunction('convertToInteractive',\n",
              "                                                     [key], {});\n",
              "          if (!dataTable) return;\n",
              "\n",
              "          const docLinkHtml = 'Like what you see? Visit the ' +\n",
              "            '<a target=\"_blank\" href=https://colab.research.google.com/notebooks/data_table.ipynb>data table notebook</a>'\n",
              "            + ' to learn more about interactive tables.';\n",
              "          element.innerHTML = '';\n",
              "          dataTable['output_type'] = 'display_data';\n",
              "          await google.colab.output.renderOutput(dataTable, element);\n",
              "          const docLink = document.createElement('div');\n",
              "          docLink.innerHTML = docLinkHtml;\n",
              "          element.appendChild(docLink);\n",
              "        }\n",
              "      </script>\n",
              "    </div>\n",
              "  </div>\n",
              "  "
            ]
          },
          "metadata": {},
          "execution_count": 289
        }
      ],
      "source": [
        "df.head()"
      ]
    },
    {
      "cell_type": "code",
      "execution_count": 290,
      "metadata": {
        "colab": {
          "base_uri": "https://localhost:8080/"
        },
        "id": "Yqgj4MJPIypU",
        "outputId": "4ea79256-1fc9-4afd-b0e8-965f195c3f77"
      },
      "outputs": [
        {
          "output_type": "stream",
          "name": "stdout",
          "text": [
            "<class 'pandas.core.frame.DataFrame'>\n",
            "RangeIndex: 1661731 entries, 0 to 1661730\n",
            "Data columns (total 7 columns):\n",
            " #   Column             Non-Null Count    Dtype              \n",
            "---  ------             --------------    -----              \n",
            " 0   fare_amount        1661731 non-null  float32            \n",
            " 1   pickup_datetime    1661731 non-null  datetime64[ns, UTC]\n",
            " 2   pickup_longitude   1661731 non-null  float32            \n",
            " 3   pickup_latitude    1661731 non-null  float32            \n",
            " 4   dropoff_longitude  1661717 non-null  float32            \n",
            " 5   dropoff_latitude   1661717 non-null  float32            \n",
            " 6   passenger_count    1661731 non-null  uint8              \n",
            "dtypes: datetime64[ns, UTC](1), float32(5), uint8(1)\n",
            "memory usage: 46.0 MB\n"
          ]
        }
      ],
      "source": [
        "df.info()"
      ]
    },
    {
      "cell_type": "code",
      "execution_count": 291,
      "metadata": {
        "colab": {
          "base_uri": "https://localhost:8080/",
          "height": 300
        },
        "id": "nhDYTecoI4ad",
        "outputId": "26d14b65-6968-49e2-89c7-9e27b7819f20"
      },
      "outputs": [
        {
          "output_type": "execute_result",
          "data": {
            "text/plain": [
              "        fare_amount  pickup_longitude  pickup_latitude  dropoff_longitude  \\\n",
              "count  1.661731e+06      1.661731e+06     1.661731e+06       1.661717e+06   \n",
              "mean   1.135368e+01     -7.250970e+01     3.991889e+01      -7.251003e+01   \n",
              "std    9.836679e+00      1.282921e+01     1.052012e+01       1.306792e+01   \n",
              "min   -3.000000e+02     -3.439245e+03    -3.474112e+03      -3.367929e+03   \n",
              "25%    6.000000e+00     -7.399203e+01     4.073491e+01      -7.399140e+01   \n",
              "50%    8.500000e+00     -7.398180e+01     4.075266e+01      -7.398017e+01   \n",
              "75%    1.250000e+01     -7.396710e+01     4.076711e+01      -7.396368e+01   \n",
              "max    1.097480e+03      3.442185e+03     3.347260e+03       3.442185e+03   \n",
              "\n",
              "       dropoff_latitude  passenger_count  \n",
              "count      1.661717e+06     1.661731e+06  \n",
              "mean       3.991955e+01     1.685489e+00  \n",
              "std        1.029647e+01     1.328315e+00  \n",
              "min       -3.474112e+03     0.000000e+00  \n",
              "25%        4.073399e+01     1.000000e+00  \n",
              "50%        4.075313e+01     1.000000e+00  \n",
              "75%        4.076806e+01     2.000000e+00  \n",
              "max        3.351403e+03     2.080000e+02  "
            ],
            "text/html": [
              "\n",
              "  <div id=\"df-ad8b1f3b-e9b5-411d-9bdf-1dccbd198d1e\">\n",
              "    <div class=\"colab-df-container\">\n",
              "      <div>\n",
              "<style scoped>\n",
              "    .dataframe tbody tr th:only-of-type {\n",
              "        vertical-align: middle;\n",
              "    }\n",
              "\n",
              "    .dataframe tbody tr th {\n",
              "        vertical-align: top;\n",
              "    }\n",
              "\n",
              "    .dataframe thead th {\n",
              "        text-align: right;\n",
              "    }\n",
              "</style>\n",
              "<table border=\"1\" class=\"dataframe\">\n",
              "  <thead>\n",
              "    <tr style=\"text-align: right;\">\n",
              "      <th></th>\n",
              "      <th>fare_amount</th>\n",
              "      <th>pickup_longitude</th>\n",
              "      <th>pickup_latitude</th>\n",
              "      <th>dropoff_longitude</th>\n",
              "      <th>dropoff_latitude</th>\n",
              "      <th>passenger_count</th>\n",
              "    </tr>\n",
              "  </thead>\n",
              "  <tbody>\n",
              "    <tr>\n",
              "      <th>count</th>\n",
              "      <td>1.661731e+06</td>\n",
              "      <td>1.661731e+06</td>\n",
              "      <td>1.661731e+06</td>\n",
              "      <td>1.661717e+06</td>\n",
              "      <td>1.661717e+06</td>\n",
              "      <td>1.661731e+06</td>\n",
              "    </tr>\n",
              "    <tr>\n",
              "      <th>mean</th>\n",
              "      <td>1.135368e+01</td>\n",
              "      <td>-7.250970e+01</td>\n",
              "      <td>3.991889e+01</td>\n",
              "      <td>-7.251003e+01</td>\n",
              "      <td>3.991955e+01</td>\n",
              "      <td>1.685489e+00</td>\n",
              "    </tr>\n",
              "    <tr>\n",
              "      <th>std</th>\n",
              "      <td>9.836679e+00</td>\n",
              "      <td>1.282921e+01</td>\n",
              "      <td>1.052012e+01</td>\n",
              "      <td>1.306792e+01</td>\n",
              "      <td>1.029647e+01</td>\n",
              "      <td>1.328315e+00</td>\n",
              "    </tr>\n",
              "    <tr>\n",
              "      <th>min</th>\n",
              "      <td>-3.000000e+02</td>\n",
              "      <td>-3.439245e+03</td>\n",
              "      <td>-3.474112e+03</td>\n",
              "      <td>-3.367929e+03</td>\n",
              "      <td>-3.474112e+03</td>\n",
              "      <td>0.000000e+00</td>\n",
              "    </tr>\n",
              "    <tr>\n",
              "      <th>25%</th>\n",
              "      <td>6.000000e+00</td>\n",
              "      <td>-7.399203e+01</td>\n",
              "      <td>4.073491e+01</td>\n",
              "      <td>-7.399140e+01</td>\n",
              "      <td>4.073399e+01</td>\n",
              "      <td>1.000000e+00</td>\n",
              "    </tr>\n",
              "    <tr>\n",
              "      <th>50%</th>\n",
              "      <td>8.500000e+00</td>\n",
              "      <td>-7.398180e+01</td>\n",
              "      <td>4.075266e+01</td>\n",
              "      <td>-7.398017e+01</td>\n",
              "      <td>4.075313e+01</td>\n",
              "      <td>1.000000e+00</td>\n",
              "    </tr>\n",
              "    <tr>\n",
              "      <th>75%</th>\n",
              "      <td>1.250000e+01</td>\n",
              "      <td>-7.396710e+01</td>\n",
              "      <td>4.076711e+01</td>\n",
              "      <td>-7.396368e+01</td>\n",
              "      <td>4.076806e+01</td>\n",
              "      <td>2.000000e+00</td>\n",
              "    </tr>\n",
              "    <tr>\n",
              "      <th>max</th>\n",
              "      <td>1.097480e+03</td>\n",
              "      <td>3.442185e+03</td>\n",
              "      <td>3.347260e+03</td>\n",
              "      <td>3.442185e+03</td>\n",
              "      <td>3.351403e+03</td>\n",
              "      <td>2.080000e+02</td>\n",
              "    </tr>\n",
              "  </tbody>\n",
              "</table>\n",
              "</div>\n",
              "      <button class=\"colab-df-convert\" onclick=\"convertToInteractive('df-ad8b1f3b-e9b5-411d-9bdf-1dccbd198d1e')\"\n",
              "              title=\"Convert this dataframe to an interactive table.\"\n",
              "              style=\"display:none;\">\n",
              "        \n",
              "  <svg xmlns=\"http://www.w3.org/2000/svg\" height=\"24px\"viewBox=\"0 0 24 24\"\n",
              "       width=\"24px\">\n",
              "    <path d=\"M0 0h24v24H0V0z\" fill=\"none\"/>\n",
              "    <path d=\"M18.56 5.44l.94 2.06.94-2.06 2.06-.94-2.06-.94-.94-2.06-.94 2.06-2.06.94zm-11 1L8.5 8.5l.94-2.06 2.06-.94-2.06-.94L8.5 2.5l-.94 2.06-2.06.94zm10 10l.94 2.06.94-2.06 2.06-.94-2.06-.94-.94-2.06-.94 2.06-2.06.94z\"/><path d=\"M17.41 7.96l-1.37-1.37c-.4-.4-.92-.59-1.43-.59-.52 0-1.04.2-1.43.59L10.3 9.45l-7.72 7.72c-.78.78-.78 2.05 0 2.83L4 21.41c.39.39.9.59 1.41.59.51 0 1.02-.2 1.41-.59l7.78-7.78 2.81-2.81c.8-.78.8-2.07 0-2.86zM5.41 20L4 18.59l7.72-7.72 1.47 1.35L5.41 20z\"/>\n",
              "  </svg>\n",
              "      </button>\n",
              "      \n",
              "  <style>\n",
              "    .colab-df-container {\n",
              "      display:flex;\n",
              "      flex-wrap:wrap;\n",
              "      gap: 12px;\n",
              "    }\n",
              "\n",
              "    .colab-df-convert {\n",
              "      background-color: #E8F0FE;\n",
              "      border: none;\n",
              "      border-radius: 50%;\n",
              "      cursor: pointer;\n",
              "      display: none;\n",
              "      fill: #1967D2;\n",
              "      height: 32px;\n",
              "      padding: 0 0 0 0;\n",
              "      width: 32px;\n",
              "    }\n",
              "\n",
              "    .colab-df-convert:hover {\n",
              "      background-color: #E2EBFA;\n",
              "      box-shadow: 0px 1px 2px rgba(60, 64, 67, 0.3), 0px 1px 3px 1px rgba(60, 64, 67, 0.15);\n",
              "      fill: #174EA6;\n",
              "    }\n",
              "\n",
              "    [theme=dark] .colab-df-convert {\n",
              "      background-color: #3B4455;\n",
              "      fill: #D2E3FC;\n",
              "    }\n",
              "\n",
              "    [theme=dark] .colab-df-convert:hover {\n",
              "      background-color: #434B5C;\n",
              "      box-shadow: 0px 1px 3px 1px rgba(0, 0, 0, 0.15);\n",
              "      filter: drop-shadow(0px 1px 2px rgba(0, 0, 0, 0.3));\n",
              "      fill: #FFFFFF;\n",
              "    }\n",
              "  </style>\n",
              "\n",
              "      <script>\n",
              "        const buttonEl =\n",
              "          document.querySelector('#df-ad8b1f3b-e9b5-411d-9bdf-1dccbd198d1e button.colab-df-convert');\n",
              "        buttonEl.style.display =\n",
              "          google.colab.kernel.accessAllowed ? 'block' : 'none';\n",
              "\n",
              "        async function convertToInteractive(key) {\n",
              "          const element = document.querySelector('#df-ad8b1f3b-e9b5-411d-9bdf-1dccbd198d1e');\n",
              "          const dataTable =\n",
              "            await google.colab.kernel.invokeFunction('convertToInteractive',\n",
              "                                                     [key], {});\n",
              "          if (!dataTable) return;\n",
              "\n",
              "          const docLinkHtml = 'Like what you see? Visit the ' +\n",
              "            '<a target=\"_blank\" href=https://colab.research.google.com/notebooks/data_table.ipynb>data table notebook</a>'\n",
              "            + ' to learn more about interactive tables.';\n",
              "          element.innerHTML = '';\n",
              "          dataTable['output_type'] = 'display_data';\n",
              "          await google.colab.output.renderOutput(dataTable, element);\n",
              "          const docLink = document.createElement('div');\n",
              "          docLink.innerHTML = docLinkHtml;\n",
              "          element.appendChild(docLink);\n",
              "        }\n",
              "      </script>\n",
              "    </div>\n",
              "  </div>\n",
              "  "
            ]
          },
          "metadata": {},
          "execution_count": 291
        }
      ],
      "source": [
        "df.describe()"
      ]
    },
    {
      "cell_type": "markdown",
      "metadata": {
        "id": "-p8upbpF9jq9"
      },
      "source": [
        "Time Period of Records"
      ]
    },
    {
      "cell_type": "code",
      "execution_count": 292,
      "metadata": {
        "colab": {
          "base_uri": "https://localhost:8080/"
        },
        "id": "u-D9VPRTJSwG",
        "outputId": "ffc8e723-52ea-4305-d189-81ec874cdfa3"
      },
      "outputs": [
        {
          "output_type": "execute_result",
          "data": {
            "text/plain": [
              "(Timestamp('2009-01-01 00:11:46+0000', tz='UTC'),\n",
              " Timestamp('2015-06-30 23:59:54+0000', tz='UTC'))"
            ]
          },
          "metadata": {},
          "execution_count": 292
        }
      ],
      "source": [
        "df.pickup_datetime.min(), df.pickup_datetime.max()"
      ]
    },
    {
      "cell_type": "markdown",
      "metadata": {
        "id": "BYdbuH73QeYT"
      },
      "source": [
        "Distribution of number of records in each year"
      ]
    },
    {
      "cell_type": "code",
      "execution_count": 293,
      "metadata": {
        "colab": {
          "base_uri": "https://localhost:8080/",
          "height": 282
        },
        "id": "FMA_5e3pKQvm",
        "outputId": "e195c1ed-a320-4504-9198-f62cdbb36d63"
      },
      "outputs": [
        {
          "output_type": "execute_result",
          "data": {
            "text/plain": [
              "<matplotlib.axes._subplots.AxesSubplot at 0x7fa7f6550590>"
            ]
          },
          "metadata": {},
          "execution_count": 293
        },
        {
          "output_type": "display_data",
          "data": {
            "text/plain": [
              "<Figure size 432x288 with 1 Axes>"
            ],
            "image/png": "[encoded data removed]"
          },
          "metadata": {
            "needs_background": "light"
          }
        }
      ],
      "source": [
        "df.pickup_datetime.dt.year.value_counts().plot(kind='barh')"
      ]
    },
    {
      "cell_type": "markdown",
      "metadata": {
        "id": "qRVv8FuP9-EG"
      },
      "source": [
        "Number of rows from each year are quite uniform, except for year 2015 as the dataset was recorded till June, 2015"
      ]
    },
    {
      "cell_type": "markdown",
      "metadata": {
        "id": "cg9YHkjAQo_s"
      },
      "source": [
        "Percentage of weekend trips"
      ]
    },
    {
      "cell_type": "code",
      "execution_count": 294,
      "metadata": {
        "colab": {
          "base_uri": "https://localhost:8080/"
        },
        "id": "umvOJT2kKrxe",
        "outputId": "576f5d7e-23e2-4442-da82-70b032117058"
      },
      "outputs": [
        {
          "output_type": "execute_result",
          "data": {
            "text/plain": [
              "28.249698657604633"
            ]
          },
          "metadata": {},
          "execution_count": 294
        }
      ],
      "source": [
        "len(df[df.pickup_datetime.dt.dayofweek.isin([5,6])])/len(df)*100"
      ]
    },
    {
      "cell_type": "markdown",
      "metadata": {
        "id": "Og1BoM_sJlLi"
      },
      "source": [
        "####Test Data"
      ]
    },
    {
      "cell_type": "code",
      "execution_count": 295,
      "metadata": {
        "colab": {
          "base_uri": "https://localhost:8080/",
          "height": 206
        },
        "id": "plFfgLgbQTH7",
        "outputId": "20e10d56-fa37-4fbf-e0f5-18eebf026d13"
      },
      "outputs": [
        {
          "output_type": "execute_result",
          "data": {
            "text/plain": [
              "                           key           pickup_datetime  pickup_longitude  \\\n",
              "0  2015-01-27 13:08:24.0000002 2015-01-27 13:08:24+00:00        -73.973320   \n",
              "1  2015-01-27 13:08:24.0000003 2015-01-27 13:08:24+00:00        -73.986862   \n",
              "2  2011-10-08 11:53:44.0000002 2011-10-08 11:53:44+00:00        -73.982521   \n",
              "3  2012-12-01 21:12:12.0000002 2012-12-01 21:12:12+00:00        -73.981163   \n",
              "4  2012-12-01 21:12:12.0000003 2012-12-01 21:12:12+00:00        -73.966049   \n",
              "\n",
              "   pickup_latitude  dropoff_longitude  dropoff_latitude  passenger_count  \n",
              "0        40.763805         -73.981430         40.743835                1  \n",
              "1        40.719383         -73.998886         40.739201                1  \n",
              "2        40.751259         -73.979652         40.746140                1  \n",
              "3        40.767807         -73.990448         40.751637                1  \n",
              "4        40.789776         -73.988564         40.744427                1  "
            ],
            "text/html": [
              "\n",
              "  <div id=\"df-e01935ca-663c-4bf1-aa15-642fa608bc89\">\n",
              "    <div class=\"colab-df-container\">\n",
              "      <div>\n",
              "<style scoped>\n",
              "    .dataframe tbody tr th:only-of-type {\n",
              "        vertical-align: middle;\n",
              "    }\n",
              "\n",
              "    .dataframe tbody tr th {\n",
              "        vertical-align: top;\n",
              "    }\n",
              "\n",
              "    .dataframe thead th {\n",
              "        text-align: right;\n",
              "    }\n",
              "</style>\n",
              "<table border=\"1\" class=\"dataframe\">\n",
              "  <thead>\n",
              "    <tr style=\"text-align: right;\">\n",
              "      <th></th>\n",
              "      <th>key</th>\n",
              "      <th>pickup_datetime</th>\n",
              "      <th>pickup_longitude</th>\n",
              "      <th>pickup_latitude</th>\n",
              "      <th>dropoff_longitude</th>\n",
              "      <th>dropoff_latitude</th>\n",
              "      <th>passenger_count</th>\n",
              "    </tr>\n",
              "  </thead>\n",
              "  <tbody>\n",
              "    <tr>\n",
              "      <th>0</th>\n",
              "      <td>2015-01-27 13:08:24.0000002</td>\n",
              "      <td>2015-01-27 13:08:24+00:00</td>\n",
              "      <td>-73.973320</td>\n",
              "      <td>40.763805</td>\n",
              "      <td>-73.981430</td>\n",
              "      <td>40.743835</td>\n",
              "      <td>1</td>\n",
              "    </tr>\n",
              "    <tr>\n",
              "      <th>1</th>\n",
              "      <td>2015-01-27 13:08:24.0000003</td>\n",
              "      <td>2015-01-27 13:08:24+00:00</td>\n",
              "      <td>-73.986862</td>\n",
              "      <td>40.719383</td>\n",
              "      <td>-73.998886</td>\n",
              "      <td>40.739201</td>\n",
              "      <td>1</td>\n",
              "    </tr>\n",
              "    <tr>\n",
              "      <th>2</th>\n",
              "      <td>2011-10-08 11:53:44.0000002</td>\n",
              "      <td>2011-10-08 11:53:44+00:00</td>\n",
              "      <td>-73.982521</td>\n",
              "      <td>40.751259</td>\n",
              "      <td>-73.979652</td>\n",
              "      <td>40.746140</td>\n",
              "      <td>1</td>\n",
              "    </tr>\n",
              "    <tr>\n",
              "      <th>3</th>\n",
              "      <td>2012-12-01 21:12:12.0000002</td>\n",
              "      <td>2012-12-01 21:12:12+00:00</td>\n",
              "      <td>-73.981163</td>\n",
              "      <td>40.767807</td>\n",
              "      <td>-73.990448</td>\n",
              "      <td>40.751637</td>\n",
              "      <td>1</td>\n",
              "    </tr>\n",
              "    <tr>\n",
              "      <th>4</th>\n",
              "      <td>2012-12-01 21:12:12.0000003</td>\n",
              "      <td>2012-12-01 21:12:12+00:00</td>\n",
              "      <td>-73.966049</td>\n",
              "      <td>40.789776</td>\n",
              "      <td>-73.988564</td>\n",
              "      <td>40.744427</td>\n",
              "      <td>1</td>\n",
              "    </tr>\n",
              "  </tbody>\n",
              "</table>\n",
              "</div>\n",
              "      <button class=\"colab-df-convert\" onclick=\"convertToInteractive('df-e01935ca-663c-4bf1-aa15-642fa608bc89')\"\n",
              "              title=\"Convert this dataframe to an interactive table.\"\n",
              "              style=\"display:none;\">\n",
              "        \n",
              "  <svg xmlns=\"http://www.w3.org/2000/svg\" height=\"24px\"viewBox=\"0 0 24 24\"\n",
              "       width=\"24px\">\n",
              "    <path d=\"M0 0h24v24H0V0z\" fill=\"none\"/>\n",
              "    <path d=\"M18.56 5.44l.94 2.06.94-2.06 2.06-.94-2.06-.94-.94-2.06-.94 2.06-2.06.94zm-11 1L8.5 8.5l.94-2.06 2.06-.94-2.06-.94L8.5 2.5l-.94 2.06-2.06.94zm10 10l.94 2.06.94-2.06 2.06-.94-2.06-.94-.94-2.06-.94 2.06-2.06.94z\"/><path d=\"M17.41 7.96l-1.37-1.37c-.4-.4-.92-.59-1.43-.59-.52 0-1.04.2-1.43.59L10.3 9.45l-7.72 7.72c-.78.78-.78 2.05 0 2.83L4 21.41c.39.39.9.59 1.41.59.51 0 1.02-.2 1.41-.59l7.78-7.78 2.81-2.81c.8-.78.8-2.07 0-2.86zM5.41 20L4 18.59l7.72-7.72 1.47 1.35L5.41 20z\"/>\n",
              "  </svg>\n",
              "      </button>\n",
              "      \n",
              "  <style>\n",
              "    .colab-df-container {\n",
              "      display:flex;\n",
              "      flex-wrap:wrap;\n",
              "      gap: 12px;\n",
              "    }\n",
              "\n",
              "    .colab-df-convert {\n",
              "      background-color: #E8F0FE;\n",
              "      border: none;\n",
              "      border-radius: 50%;\n",
              "      cursor: pointer;\n",
              "      display: none;\n",
              "      fill: #1967D2;\n",
              "      height: 32px;\n",
              "      padding: 0 0 0 0;\n",
              "      width: 32px;\n",
              "    }\n",
              "\n",
              "    .colab-df-convert:hover {\n",
              "      background-color: #E2EBFA;\n",
              "      box-shadow: 0px 1px 2px rgba(60, 64, 67, 0.3), 0px 1px 3px 1px rgba(60, 64, 67, 0.15);\n",
              "      fill: #174EA6;\n",
              "    }\n",
              "\n",
              "    [theme=dark] .colab-df-convert {\n",
              "      background-color: #3B4455;\n",
              "      fill: #D2E3FC;\n",
              "    }\n",
              "\n",
              "    [theme=dark] .colab-df-convert:hover {\n",
              "      background-color: #434B5C;\n",
              "      box-shadow: 0px 1px 3px 1px rgba(0, 0, 0, 0.15);\n",
              "      filter: drop-shadow(0px 1px 2px rgba(0, 0, 0, 0.3));\n",
              "      fill: #FFFFFF;\n",
              "    }\n",
              "  </style>\n",
              "\n",
              "      <script>\n",
              "        const buttonEl =\n",
              "          document.querySelector('#df-e01935ca-663c-4bf1-aa15-642fa608bc89 button.colab-df-convert');\n",
              "        buttonEl.style.display =\n",
              "          google.colab.kernel.accessAllowed ? 'block' : 'none';\n",
              "\n",
              "        async function convertToInteractive(key) {\n",
              "          const element = document.querySelector('#df-e01935ca-663c-4bf1-aa15-642fa608bc89');\n",
              "          const dataTable =\n",
              "            await google.colab.kernel.invokeFunction('convertToInteractive',\n",
              "                                                     [key], {});\n",
              "          if (!dataTable) return;\n",
              "\n",
              "          const docLinkHtml = 'Like what you see? Visit the ' +\n",
              "            '<a target=\"_blank\" href=https://colab.research.google.com/notebooks/data_table.ipynb>data table notebook</a>'\n",
              "            + ' to learn more about interactive tables.';\n",
              "          element.innerHTML = '';\n",
              "          dataTable['output_type'] = 'display_data';\n",
              "          await google.colab.output.renderOutput(dataTable, element);\n",
              "          const docLink = document.createElement('div');\n",
              "          docLink.innerHTML = docLinkHtml;\n",
              "          element.appendChild(docLink);\n",
              "        }\n",
              "      </script>\n",
              "    </div>\n",
              "  </div>\n",
              "  "
            ]
          },
          "metadata": {},
          "execution_count": 295
        }
      ],
      "source": [
        "test_df.head()"
      ]
    },
    {
      "cell_type": "code",
      "execution_count": 296,
      "metadata": {
        "colab": {
          "base_uri": "https://localhost:8080/"
        },
        "id": "iSSMI6ppJm9W",
        "outputId": "5f648de9-c8be-46b2-fad4-c76d986b2a1d"
      },
      "outputs": [
        {
          "output_type": "stream",
          "name": "stdout",
          "text": [
            "<class 'pandas.core.frame.DataFrame'>\n",
            "RangeIndex: 9914 entries, 0 to 9913\n",
            "Data columns (total 7 columns):\n",
            " #   Column             Non-Null Count  Dtype              \n",
            "---  ------             --------------  -----              \n",
            " 0   key                9914 non-null   object             \n",
            " 1   pickup_datetime    9914 non-null   datetime64[ns, UTC]\n",
            " 2   pickup_longitude   9914 non-null   float32            \n",
            " 3   pickup_latitude    9914 non-null   float32            \n",
            " 4   dropoff_longitude  9914 non-null   float32            \n",
            " 5   dropoff_latitude   9914 non-null   float32            \n",
            " 6   passenger_count    9914 non-null   uint8              \n",
            "dtypes: datetime64[ns, UTC](1), float32(4), object(1), uint8(1)\n",
            "memory usage: 319.6+ KB\n"
          ]
        }
      ],
      "source": [
        "test_df.info()"
      ]
    },
    {
      "cell_type": "code",
      "execution_count": 297,
      "metadata": {
        "colab": {
          "base_uri": "https://localhost:8080/",
          "height": 300
        },
        "id": "14h7JM8SJpWZ",
        "outputId": "e460ed4c-c652-4754-f5b7-89f16ddcc5c0"
      },
      "outputs": [
        {
          "output_type": "execute_result",
          "data": {
            "text/plain": [
              "       pickup_longitude  pickup_latitude  dropoff_longitude  dropoff_latitude  \\\n",
              "count       9914.000000      9914.000000        9914.000000       9914.000000   \n",
              "mean         -73.974716        40.751041         -73.973656         40.751740   \n",
              "std            0.042774         0.033541           0.039072          0.035435   \n",
              "min          -74.252190        40.573143         -74.263245         40.568974   \n",
              "25%          -73.992500        40.736125         -73.991249         40.735253   \n",
              "50%          -73.982327        40.753052         -73.980015         40.754065   \n",
              "75%          -73.968012        40.767113         -73.964062         40.768757   \n",
              "max          -72.986534        41.709557         -72.990967         41.696682   \n",
              "\n",
              "       passenger_count  \n",
              "count      9914.000000  \n",
              "mean          1.671273  \n",
              "std           1.278747  \n",
              "min           1.000000  \n",
              "25%           1.000000  \n",
              "50%           1.000000  \n",
              "75%           2.000000  \n",
              "max           6.000000  "
            ],
            "text/html": [
              "\n",
              "  <div id=\"df-71a80454-bab6-49ce-8653-de977b6a34f8\">\n",
              "    <div class=\"colab-df-container\">\n",
              "      <div>\n",
              "<style scoped>\n",
              "    .dataframe tbody tr th:only-of-type {\n",
              "        vertical-align: middle;\n",
              "    }\n",
              "\n",
              "    .dataframe tbody tr th {\n",
              "        vertical-align: top;\n",
              "    }\n",
              "\n",
              "    .dataframe thead th {\n",
              "        text-align: right;\n",
              "    }\n",
              "</style>\n",
              "<table border=\"1\" class=\"dataframe\">\n",
              "  <thead>\n",
              "    <tr style=\"text-align: right;\">\n",
              "      <th></th>\n",
              "      <th>pickup_longitude</th>\n",
              "      <th>pickup_latitude</th>\n",
              "      <th>dropoff_longitude</th>\n",
              "      <th>dropoff_latitude</th>\n",
              "      <th>passenger_count</th>\n",
              "    </tr>\n",
              "  </thead>\n",
              "  <tbody>\n",
              "    <tr>\n",
              "      <th>count</th>\n",
              "      <td>9914.000000</td>\n",
              "      <td>9914.000000</td>\n",
              "      <td>9914.000000</td>\n",
              "      <td>9914.000000</td>\n",
              "      <td>9914.000000</td>\n",
              "    </tr>\n",
              "    <tr>\n",
              "      <th>mean</th>\n",
              "      <td>-73.974716</td>\n",
              "      <td>40.751041</td>\n",
              "      <td>-73.973656</td>\n",
              "      <td>40.751740</td>\n",
              "      <td>1.671273</td>\n",
              "    </tr>\n",
              "    <tr>\n",
              "      <th>std</th>\n",
              "      <td>0.042774</td>\n",
              "      <td>0.033541</td>\n",
              "      <td>0.039072</td>\n",
              "      <td>0.035435</td>\n",
              "      <td>1.278747</td>\n",
              "    </tr>\n",
              "    <tr>\n",
              "      <th>min</th>\n",
              "      <td>-74.252190</td>\n",
              "      <td>40.573143</td>\n",
              "      <td>-74.263245</td>\n",
              "      <td>40.568974</td>\n",
              "      <td>1.000000</td>\n",
              "    </tr>\n",
              "    <tr>\n",
              "      <th>25%</th>\n",
              "      <td>-73.992500</td>\n",
              "      <td>40.736125</td>\n",
              "      <td>-73.991249</td>\n",
              "      <td>40.735253</td>\n",
              "      <td>1.000000</td>\n",
              "    </tr>\n",
              "    <tr>\n",
              "      <th>50%</th>\n",
              "      <td>-73.982327</td>\n",
              "      <td>40.753052</td>\n",
              "      <td>-73.980015</td>\n",
              "      <td>40.754065</td>\n",
              "      <td>1.000000</td>\n",
              "    </tr>\n",
              "    <tr>\n",
              "      <th>75%</th>\n",
              "      <td>-73.968012</td>\n",
              "      <td>40.767113</td>\n",
              "      <td>-73.964062</td>\n",
              "      <td>40.768757</td>\n",
              "      <td>2.000000</td>\n",
              "    </tr>\n",
              "    <tr>\n",
              "      <th>max</th>\n",
              "      <td>-72.986534</td>\n",
              "      <td>41.709557</td>\n",
              "      <td>-72.990967</td>\n",
              "      <td>41.696682</td>\n",
              "      <td>6.000000</td>\n",
              "    </tr>\n",
              "  </tbody>\n",
              "</table>\n",
              "</div>\n",
              "      <button class=\"colab-df-convert\" onclick=\"convertToInteractive('df-71a80454-bab6-49ce-8653-de977b6a34f8')\"\n",
              "              title=\"Convert this dataframe to an interactive table.\"\n",
              "              style=\"display:none;\">\n",
              "        \n",
              "  <svg xmlns=\"http://www.w3.org/2000/svg\" height=\"24px\"viewBox=\"0 0 24 24\"\n",
              "       width=\"24px\">\n",
              "    <path d=\"M0 0h24v24H0V0z\" fill=\"none\"/>\n",
              "    <path d=\"M18.56 5.44l.94 2.06.94-2.06 2.06-.94-2.06-.94-.94-2.06-.94 2.06-2.06.94zm-11 1L8.5 8.5l.94-2.06 2.06-.94-2.06-.94L8.5 2.5l-.94 2.06-2.06.94zm10 10l.94 2.06.94-2.06 2.06-.94-2.06-.94-.94-2.06-.94 2.06-2.06.94z\"/><path d=\"M17.41 7.96l-1.37-1.37c-.4-.4-.92-.59-1.43-.59-.52 0-1.04.2-1.43.59L10.3 9.45l-7.72 7.72c-.78.78-.78 2.05 0 2.83L4 21.41c.39.39.9.59 1.41.59.51 0 1.02-.2 1.41-.59l7.78-7.78 2.81-2.81c.8-.78.8-2.07 0-2.86zM5.41 20L4 18.59l7.72-7.72 1.47 1.35L5.41 20z\"/>\n",
              "  </svg>\n",
              "      </button>\n",
              "      \n",
              "  <style>\n",
              "    .colab-df-container {\n",
              "      display:flex;\n",
              "      flex-wrap:wrap;\n",
              "      gap: 12px;\n",
              "    }\n",
              "\n",
              "    .colab-df-convert {\n",
              "      background-color: #E8F0FE;\n",
              "      border: none;\n",
              "      border-radius: 50%;\n",
              "      cursor: pointer;\n",
              "      display: none;\n",
              "      fill: #1967D2;\n",
              "      height: 32px;\n",
              "      padding: 0 0 0 0;\n",
              "      width: 32px;\n",
              "    }\n",
              "\n",
              "    .colab-df-convert:hover {\n",
              "      background-color: #E2EBFA;\n",
              "      box-shadow: 0px 1px 2px rgba(60, 64, 67, 0.3), 0px 1px 3px 1px rgba(60, 64, 67, 0.15);\n",
              "      fill: #174EA6;\n",
              "    }\n",
              "\n",
              "    [theme=dark] .colab-df-convert {\n",
              "      background-color: #3B4455;\n",
              "      fill: #D2E3FC;\n",
              "    }\n",
              "\n",
              "    [theme=dark] .colab-df-convert:hover {\n",
              "      background-color: #434B5C;\n",
              "      box-shadow: 0px 1px 3px 1px rgba(0, 0, 0, 0.15);\n",
              "      filter: drop-shadow(0px 1px 2px rgba(0, 0, 0, 0.3));\n",
              "      fill: #FFFFFF;\n",
              "    }\n",
              "  </style>\n",
              "\n",
              "      <script>\n",
              "        const buttonEl =\n",
              "          document.querySelector('#df-71a80454-bab6-49ce-8653-de977b6a34f8 button.colab-df-convert');\n",
              "        buttonEl.style.display =\n",
              "          google.colab.kernel.accessAllowed ? 'block' : 'none';\n",
              "\n",
              "        async function convertToInteractive(key) {\n",
              "          const element = document.querySelector('#df-71a80454-bab6-49ce-8653-de977b6a34f8');\n",
              "          const dataTable =\n",
              "            await google.colab.kernel.invokeFunction('convertToInteractive',\n",
              "                                                     [key], {});\n",
              "          if (!dataTable) return;\n",
              "\n",
              "          const docLinkHtml = 'Like what you see? Visit the ' +\n",
              "            '<a target=\"_blank\" href=https://colab.research.google.com/notebooks/data_table.ipynb>data table notebook</a>'\n",
              "            + ' to learn more about interactive tables.';\n",
              "          element.innerHTML = '';\n",
              "          dataTable['output_type'] = 'display_data';\n",
              "          await google.colab.output.renderOutput(dataTable, element);\n",
              "          const docLink = document.createElement('div');\n",
              "          docLink.innerHTML = docLinkHtml;\n",
              "          element.appendChild(docLink);\n",
              "        }\n",
              "      </script>\n",
              "    </div>\n",
              "  </div>\n",
              "  "
            ]
          },
          "metadata": {},
          "execution_count": 297
        }
      ],
      "source": [
        "test_df.describe()"
      ]
    },
    {
      "cell_type": "markdown",
      "metadata": {
        "id": "3HwOSVDvQXp2"
      },
      "source": [
        "Time period of test records"
      ]
    },
    {
      "cell_type": "code",
      "execution_count": 298,
      "metadata": {
        "colab": {
          "base_uri": "https://localhost:8080/"
        },
        "id": "7-AG29nBJvVz",
        "outputId": "5fd36f9d-2736-49aa-d7ef-fb44197f23c1"
      },
      "outputs": [
        {
          "output_type": "execute_result",
          "data": {
            "text/plain": [
              "(Timestamp('2009-01-01 11:04:24+0000', tz='UTC'),\n",
              " Timestamp('2015-06-30 20:03:50+0000', tz='UTC'))"
            ]
          },
          "metadata": {},
          "execution_count": 298
        }
      ],
      "source": [
        "test_df.pickup_datetime.min(),test_df.pickup_datetime.max()"
      ]
    },
    {
      "cell_type": "markdown",
      "metadata": {
        "id": "OyWyWlwI-MKO"
      },
      "source": [
        "28% records are of weekends"
      ]
    },
    {
      "cell_type": "markdown",
      "metadata": {
        "id": "RcqEV86EP-8X"
      },
      "source": [
        "####Fuel Data"
      ]
    },
    {
      "cell_type": "code",
      "execution_count": 299,
      "metadata": {
        "colab": {
          "base_uri": "https://localhost:8080/",
          "height": 206
        },
        "id": "AnAymkcxQC-l",
        "outputId": "8c4e78fa-a9b4-4491-acac-ad3a33926e4a"
      },
      "outputs": [
        {
          "output_type": "execute_result",
          "data": {
            "text/plain": [
              "        Date  New York State Average ($/gal)\n",
              "0 2019-08-26                            3.18\n",
              "1 2019-08-19                            3.19\n",
              "2 2019-08-12                            3.20\n",
              "3 2019-08-05                            3.21\n",
              "4 2019-07-29                            3.22"
            ],
            "text/html": [
              "\n",
              "  <div id=\"df-718a3fd5-96e2-4d14-8ec8-ad15f9d56bdd\">\n",
              "    <div class=\"colab-df-container\">\n",
              "      <div>\n",
              "<style scoped>\n",
              "    .dataframe tbody tr th:only-of-type {\n",
              "        vertical-align: middle;\n",
              "    }\n",
              "\n",
              "    .dataframe tbody tr th {\n",
              "        vertical-align: top;\n",
              "    }\n",
              "\n",
              "    .dataframe thead th {\n",
              "        text-align: right;\n",
              "    }\n",
              "</style>\n",
              "<table border=\"1\" class=\"dataframe\">\n",
              "  <thead>\n",
              "    <tr style=\"text-align: right;\">\n",
              "      <th></th>\n",
              "      <th>Date</th>\n",
              "      <th>New York State Average ($/gal)</th>\n",
              "    </tr>\n",
              "  </thead>\n",
              "  <tbody>\n",
              "    <tr>\n",
              "      <th>0</th>\n",
              "      <td>2019-08-26</td>\n",
              "      <td>3.18</td>\n",
              "    </tr>\n",
              "    <tr>\n",
              "      <th>1</th>\n",
              "      <td>2019-08-19</td>\n",
              "      <td>3.19</td>\n",
              "    </tr>\n",
              "    <tr>\n",
              "      <th>2</th>\n",
              "      <td>2019-08-12</td>\n",
              "      <td>3.20</td>\n",
              "    </tr>\n",
              "    <tr>\n",
              "      <th>3</th>\n",
              "      <td>2019-08-05</td>\n",
              "      <td>3.21</td>\n",
              "    </tr>\n",
              "    <tr>\n",
              "      <th>4</th>\n",
              "      <td>2019-07-29</td>\n",
              "      <td>3.22</td>\n",
              "    </tr>\n",
              "  </tbody>\n",
              "</table>\n",
              "</div>\n",
              "      <button class=\"colab-df-convert\" onclick=\"convertToInteractive('df-718a3fd5-96e2-4d14-8ec8-ad15f9d56bdd')\"\n",
              "              title=\"Convert this dataframe to an interactive table.\"\n",
              "              style=\"display:none;\">\n",
              "        \n",
              "  <svg xmlns=\"http://www.w3.org/2000/svg\" height=\"24px\"viewBox=\"0 0 24 24\"\n",
              "       width=\"24px\">\n",
              "    <path d=\"M0 0h24v24H0V0z\" fill=\"none\"/>\n",
              "    <path d=\"M18.56 5.44l.94 2.06.94-2.06 2.06-.94-2.06-.94-.94-2.06-.94 2.06-2.06.94zm-11 1L8.5 8.5l.94-2.06 2.06-.94-2.06-.94L8.5 2.5l-.94 2.06-2.06.94zm10 10l.94 2.06.94-2.06 2.06-.94-2.06-.94-.94-2.06-.94 2.06-2.06.94z\"/><path d=\"M17.41 7.96l-1.37-1.37c-.4-.4-.92-.59-1.43-.59-.52 0-1.04.2-1.43.59L10.3 9.45l-7.72 7.72c-.78.78-.78 2.05 0 2.83L4 21.41c.39.39.9.59 1.41.59.51 0 1.02-.2 1.41-.59l7.78-7.78 2.81-2.81c.8-.78.8-2.07 0-2.86zM5.41 20L4 18.59l7.72-7.72 1.47 1.35L5.41 20z\"/>\n",
              "  </svg>\n",
              "      </button>\n",
              "      \n",
              "  <style>\n",
              "    .colab-df-container {\n",
              "      display:flex;\n",
              "      flex-wrap:wrap;\n",
              "      gap: 12px;\n",
              "    }\n",
              "\n",
              "    .colab-df-convert {\n",
              "      background-color: #E8F0FE;\n",
              "      border: none;\n",
              "      border-radius: 50%;\n",
              "      cursor: pointer;\n",
              "      display: none;\n",
              "      fill: #1967D2;\n",
              "      height: 32px;\n",
              "      padding: 0 0 0 0;\n",
              "      width: 32px;\n",
              "    }\n",
              "\n",
              "    .colab-df-convert:hover {\n",
              "      background-color: #E2EBFA;\n",
              "      box-shadow: 0px 1px 2px rgba(60, 64, 67, 0.3), 0px 1px 3px 1px rgba(60, 64, 67, 0.15);\n",
              "      fill: #174EA6;\n",
              "    }\n",
              "\n",
              "    [theme=dark] .colab-df-convert {\n",
              "      background-color: #3B4455;\n",
              "      fill: #D2E3FC;\n",
              "    }\n",
              "\n",
              "    [theme=dark] .colab-df-convert:hover {\n",
              "      background-color: #434B5C;\n",
              "      box-shadow: 0px 1px 3px 1px rgba(0, 0, 0, 0.15);\n",
              "      filter: drop-shadow(0px 1px 2px rgba(0, 0, 0, 0.3));\n",
              "      fill: #FFFFFF;\n",
              "    }\n",
              "  </style>\n",
              "\n",
              "      <script>\n",
              "        const buttonEl =\n",
              "          document.querySelector('#df-718a3fd5-96e2-4d14-8ec8-ad15f9d56bdd button.colab-df-convert');\n",
              "        buttonEl.style.display =\n",
              "          google.colab.kernel.accessAllowed ? 'block' : 'none';\n",
              "\n",
              "        async function convertToInteractive(key) {\n",
              "          const element = document.querySelector('#df-718a3fd5-96e2-4d14-8ec8-ad15f9d56bdd');\n",
              "          const dataTable =\n",
              "            await google.colab.kernel.invokeFunction('convertToInteractive',\n",
              "                                                     [key], {});\n",
              "          if (!dataTable) return;\n",
              "\n",
              "          const docLinkHtml = 'Like what you see? Visit the ' +\n",
              "            '<a target=\"_blank\" href=https://colab.research.google.com/notebooks/data_table.ipynb>data table notebook</a>'\n",
              "            + ' to learn more about interactive tables.';\n",
              "          element.innerHTML = '';\n",
              "          dataTable['output_type'] = 'display_data';\n",
              "          await google.colab.output.renderOutput(dataTable, element);\n",
              "          const docLink = document.createElement('div');\n",
              "          docLink.innerHTML = docLinkHtml;\n",
              "          element.appendChild(docLink);\n",
              "        }\n",
              "      </script>\n",
              "    </div>\n",
              "  </div>\n",
              "  "
            ]
          },
          "metadata": {},
          "execution_count": 299
        }
      ],
      "source": [
        "df_fuel.head()"
      ]
    },
    {
      "cell_type": "code",
      "execution_count": 300,
      "metadata": {
        "colab": {
          "base_uri": "https://localhost:8080/"
        },
        "id": "pzEAQOLAVRG8",
        "outputId": "739a4045-e701-47d3-f896-a9bb963d5a57"
      },
      "outputs": [
        {
          "output_type": "execute_result",
          "data": {
            "text/plain": [
              "618"
            ]
          },
          "metadata": {},
          "execution_count": 300
        }
      ],
      "source": [
        "len(df_fuel)"
      ]
    },
    {
      "cell_type": "markdown",
      "metadata": {
        "id": "0PJaKvHMVNCC"
      },
      "source": [
        "Time period of fuel data records"
      ]
    },
    {
      "cell_type": "code",
      "execution_count": 301,
      "metadata": {
        "colab": {
          "base_uri": "https://localhost:8080/"
        },
        "id": "n0OWpOPjRUBf",
        "outputId": "6d20a52a-592f-417b-a37e-a09b5d4ce99e"
      },
      "outputs": [
        {
          "output_type": "execute_result",
          "data": {
            "text/plain": [
              "(2007, 2019)"
            ]
          },
          "metadata": {},
          "execution_count": 301
        }
      ],
      "source": [
        "df_fuel.Date.dt.year.min(), df_fuel.Date.dt.year.max()"
      ]
    },
    {
      "cell_type": "code",
      "execution_count": 302,
      "metadata": {
        "colab": {
          "base_uri": "https://localhost:8080/",
          "height": 265
        },
        "id": "mSgVnUJ3Q35_",
        "outputId": "d6969b1a-4812-4718-a04f-3fd15b1b04e0"
      },
      "outputs": [
        {
          "output_type": "display_data",
          "data": {
            "text/plain": [
              "<Figure size 432x288 with 1 Axes>"
            ],
            "image/png": "[encoded data removed]"
          },
          "metadata": {
            "needs_background": "light"
          }
        }
      ],
      "source": [
        "plt.plot(df_fuel.Date.dt.date.values,df_fuel['New York State Average ($/gal)'].values)\n",
        "plt.show()"
      ]
    },
    {
      "cell_type": "markdown",
      "metadata": {
        "id": "o2V5IbGMKsW4"
      },
      "source": [
        "##3. Preparing the dataset for Machine Learning"
      ]
    },
    {
      "cell_type": "markdown",
      "metadata": {
        "id": "bARAeeA8KyOJ"
      },
      "source": [
        "###Splitting Training & Validation Set"
      ]
    },
    {
      "cell_type": "code",
      "execution_count": 303,
      "metadata": {
        "id": "GdTTzoHkK108"
      },
      "outputs": [],
      "source": [
        "X = df.iloc[:,1:].values\n",
        "y = df.iloc[:,1].values"
      ]
    },
    {
      "cell_type": "code",
      "execution_count": 304,
      "metadata": {
        "id": "Pd3prTnQLZ-1"
      },
      "outputs": [],
      "source": [
        "from sklearn.model_selection import train_test_split\n",
        "train_df, val_df = train_test_split(df, test_size=0.2,random_state=42)"
      ]
    },
    {
      "cell_type": "code",
      "execution_count": 305,
      "metadata": {
        "colab": {
          "base_uri": "https://localhost:8080/"
        },
        "id": "MxvozWffLnuW",
        "outputId": "fc1fa904-9e5d-4756-971c-e7a6a6199643"
      },
      "outputs": [
        {
          "output_type": "execute_result",
          "data": {
            "text/plain": [
              "(1329384, 332347)"
            ]
          },
          "metadata": {},
          "execution_count": 305
        }
      ],
      "source": [
        "len(train_df), len(val_df)"
      ]
    },
    {
      "cell_type": "markdown",
      "metadata": {
        "id": "EMjLABXeL0nO"
      },
      "source": [
        "###Filling/Removing Missing Values"
      ]
    },
    {
      "cell_type": "code",
      "execution_count": 306,
      "metadata": {
        "colab": {
          "base_uri": "https://localhost:8080/"
        },
        "id": "ts62wVa4LvBr",
        "outputId": "363fef79-6d05-4998-eb82-d18e6c6eb78a"
      },
      "outputs": [
        {
          "output_type": "stream",
          "name": "stdout",
          "text": [
            "fare_amount           0\n",
            "pickup_datetime       0\n",
            "pickup_longitude      0\n",
            "pickup_latitude       0\n",
            "dropoff_longitude    13\n",
            "dropoff_latitude     13\n",
            "passenger_count       0\n",
            "dtype: int64\n",
            "1329384\n",
            "fare_amount          0\n",
            "pickup_datetime      0\n",
            "pickup_longitude     0\n",
            "pickup_latitude      0\n",
            "dropoff_longitude    1\n",
            "dropoff_latitude     1\n",
            "passenger_count      0\n",
            "dtype: int64\n",
            "332347\n"
          ]
        }
      ],
      "source": [
        "print(train_df.isna().sum())\n",
        "print(len(train_df))\n",
        "print(val_df.isna().sum())\n",
        "print(len(val_df))"
      ]
    },
    {
      "cell_type": "code",
      "execution_count": 307,
      "metadata": {
        "id": "4-LN8k6ZMGKB"
      },
      "outputs": [],
      "source": [
        "#As the number of missing values is very less compared to the total size of the dataset, we drop the rows with null values\n",
        "train_df = train_df.dropna()\n",
        "val_df = val_df.dropna()"
      ]
    },
    {
      "cell_type": "code",
      "execution_count": 308,
      "metadata": {
        "colab": {
          "base_uri": "https://localhost:8080/"
        },
        "id": "k2_aJZmiNEnn",
        "outputId": "b34082b2-21ca-47d2-b5c4-c6b00b677e6c"
      },
      "outputs": [
        {
          "output_type": "execute_result",
          "data": {
            "text/plain": [
              "Index(['fare_amount', 'pickup_datetime', 'pickup_longitude', 'pickup_latitude',\n",
              "       'dropoff_longitude', 'dropoff_latitude', 'passenger_count'],\n",
              "      dtype='object')"
            ]
          },
          "metadata": {},
          "execution_count": 308
        }
      ],
      "source": [
        "train_df.columns"
      ]
    },
    {
      "cell_type": "code",
      "execution_count": 309,
      "metadata": {
        "id": "SU6q_nKdRW0p"
      },
      "outputs": [],
      "source": [
        "input_cols = ['pickup_longitude', 'pickup_latitude',\n",
        "       'dropoff_longitude', 'dropoff_latitude', 'passenger_count']"
      ]
    },
    {
      "cell_type": "code",
      "execution_count": 310,
      "metadata": {
        "id": "f7_e-mpsReJC"
      },
      "outputs": [],
      "source": [
        "target_col = 'fare_amount'"
      ]
    },
    {
      "cell_type": "markdown",
      "metadata": {
        "id": "QvuOr5-FRqnt"
      },
      "source": [
        "###Training"
      ]
    },
    {
      "cell_type": "code",
      "execution_count": 311,
      "metadata": {
        "id": "6fHEUKRSRmB6"
      },
      "outputs": [],
      "source": [
        "train_inputs = train_df[input_cols]"
      ]
    },
    {
      "cell_type": "code",
      "execution_count": 312,
      "metadata": {
        "id": "abXrEWA3R6cd"
      },
      "outputs": [],
      "source": [
        "train_targets = train_df[target_col]"
      ]
    },
    {
      "cell_type": "markdown",
      "metadata": {
        "id": "AYCpxF_0SCcO"
      },
      "source": [
        "####Validation"
      ]
    },
    {
      "cell_type": "code",
      "execution_count": 313,
      "metadata": {
        "id": "JzeogQRESECf"
      },
      "outputs": [],
      "source": [
        "val_inputs = val_df[input_cols]"
      ]
    },
    {
      "cell_type": "code",
      "execution_count": 314,
      "metadata": {
        "id": "xnlqxcAqSHZN"
      },
      "outputs": [],
      "source": [
        "val_targets = val_df[target_col]"
      ]
    },
    {
      "cell_type": "markdown",
      "metadata": {
        "id": "LyqmxFjLSi7L"
      },
      "source": [
        "###Testing"
      ]
    },
    {
      "cell_type": "code",
      "execution_count": 315,
      "metadata": {
        "id": "rcbhONfOSmSQ"
      },
      "outputs": [],
      "source": [
        "test_inputs = test_df[input_cols]"
      ]
    },
    {
      "cell_type": "markdown",
      "metadata": {
        "id": "fOUOcFkWS7un"
      },
      "source": [
        "##4. Training Hardcoded & Baseline Models"
      ]
    },
    {
      "cell_type": "markdown",
      "metadata": {
        "id": "0qT2NFoNttVg"
      },
      "source": [
        "- It is necessary to have a base model which will provide us the minimum performance that we should get.                                       \n",
        "- We obtain that minimum performance by simply predicting the fare amount for all trips as the mean of all the fare amounts in training set.\n",
        "- This will help in evaluating the performance of the models that we will build later."
      ]
    },
    {
      "cell_type": "code",
      "execution_count": 316,
      "metadata": {
        "id": "B9L7uf3SALvz"
      },
      "outputs": [],
      "source": [
        "class MeanRegressor:\n",
        "  def fit(self, inputs, targets):\n",
        "    self.mean = targets.mean()\n",
        "    \n",
        "  def predict(self, inputs):\n",
        "    return np.full(inputs.shape[0],self.mean)"
      ]
    },
    {
      "cell_type": "code",
      "execution_count": 317,
      "metadata": {
        "id": "oK9-BZQPT0l4"
      },
      "outputs": [],
      "source": [
        "mean_model = MeanRegressor()"
      ]
    },
    {
      "cell_type": "code",
      "execution_count": 318,
      "metadata": {
        "id": "8HoFGsM1T-8h"
      },
      "outputs": [],
      "source": [
        "mean_model.fit(train_inputs, train_targets)"
      ]
    },
    {
      "cell_type": "code",
      "execution_count": 319,
      "metadata": {
        "colab": {
          "base_uri": "https://localhost:8080/"
        },
        "id": "PY3ByCnSUK7H",
        "outputId": "d8576eb0-22d8-4c5d-d416-47479e7bfa6d"
      },
      "outputs": [
        {
          "output_type": "execute_result",
          "data": {
            "text/plain": [
              "11.352699"
            ]
          },
          "metadata": {},
          "execution_count": 319
        }
      ],
      "source": [
        "mean_model.mean"
      ]
    },
    {
      "cell_type": "code",
      "execution_count": 320,
      "metadata": {
        "id": "gNo_tN5WUJqq"
      },
      "outputs": [],
      "source": [
        "train_preds = mean_model.predict(train_inputs)"
      ]
    },
    {
      "cell_type": "code",
      "execution_count": 321,
      "metadata": {
        "id": "jINBu6_KUMac"
      },
      "outputs": [],
      "source": [
        "from sklearn.metrics import mean_squared_error"
      ]
    },
    {
      "cell_type": "code",
      "execution_count": 322,
      "metadata": {
        "id": "n2BTnA7SUWj3"
      },
      "outputs": [],
      "source": [
        "def rmse(targets,preds):\n",
        "  return mean_squared_error(targets, preds, squared=False)"
      ]
    },
    {
      "cell_type": "code",
      "execution_count": 323,
      "metadata": {
        "id": "YBr5dBRVUdi2"
      },
      "outputs": [],
      "source": [
        "train_rmse = rmse(train_targets, train_preds)"
      ]
    },
    {
      "cell_type": "code",
      "execution_count": 324,
      "metadata": {
        "colab": {
          "base_uri": "https://localhost:8080/"
        },
        "id": "A1Ernn_7U9ZM",
        "outputId": "fd607f68-a2cf-4ffb-de76-e52f3758d8df"
      },
      "outputs": [
        {
          "output_type": "execute_result",
          "data": {
            "text/plain": [
              "9.843743"
            ]
          },
          "metadata": {},
          "execution_count": 324
        }
      ],
      "source": [
        "train_rmse"
      ]
    },
    {
      "cell_type": "code",
      "execution_count": 325,
      "metadata": {
        "id": "ccDQy60GUw1V"
      },
      "outputs": [],
      "source": [
        "val_preds = mean_model.predict(val_inputs)"
      ]
    },
    {
      "cell_type": "code",
      "execution_count": 326,
      "metadata": {
        "id": "-cwFt4Z5VHT9"
      },
      "outputs": [],
      "source": [
        "val_rmse = rmse(val_targets, val_preds) "
      ]
    },
    {
      "cell_type": "code",
      "execution_count": 327,
      "metadata": {
        "colab": {
          "base_uri": "https://localhost:8080/"
        },
        "id": "QHcLQym4VNe1",
        "outputId": "160682f2-7fd3-460a-b8a4-9d001e2e943b"
      },
      "outputs": [
        {
          "output_type": "execute_result",
          "data": {
            "text/plain": [
              "9.808499"
            ]
          },
          "metadata": {},
          "execution_count": 327
        }
      ],
      "source": [
        "val_rmse"
      ]
    },
    {
      "cell_type": "markdown",
      "metadata": {
        "id": "hHLW2_87X4LW"
      },
      "source": [
        "###Training a basic Linear Regression model"
      ]
    },
    {
      "cell_type": "code",
      "execution_count": 328,
      "metadata": {
        "colab": {
          "base_uri": "https://localhost:8080/"
        },
        "id": "jjJTBbtgVPxx",
        "outputId": "7fe7b6d3-67e6-446d-961e-cddb9e4d023e"
      },
      "outputs": [
        {
          "output_type": "execute_result",
          "data": {
            "text/plain": [
              "LinearRegression()"
            ]
          },
          "metadata": {},
          "execution_count": 328
        }
      ],
      "source": [
        "from sklearn.linear_model import LinearRegression\n",
        "linear_model = LinearRegression()\n",
        "linear_model.fit(train_inputs,train_targets)"
      ]
    },
    {
      "cell_type": "code",
      "execution_count": 329,
      "metadata": {
        "id": "8-tqiJ_WYKiI"
      },
      "outputs": [],
      "source": [
        "train_preds = linear_model.predict(train_inputs)"
      ]
    },
    {
      "cell_type": "code",
      "execution_count": 330,
      "metadata": {
        "colab": {
          "base_uri": "https://localhost:8080/"
        },
        "id": "dpMVIo-zYVZz",
        "outputId": "f7ff9d21-417c-4308-ba25-1c796b4c2468"
      },
      "outputs": [
        {
          "output_type": "execute_result",
          "data": {
            "text/plain": [
              "array([11.369594, 11.637493, 11.28045 , ..., 11.459168, 11.280387,\n",
              "       11.280388], dtype=float32)"
            ]
          },
          "metadata": {},
          "execution_count": 330
        }
      ],
      "source": [
        "train_preds"
      ]
    },
    {
      "cell_type": "code",
      "execution_count": 331,
      "metadata": {
        "colab": {
          "base_uri": "https://localhost:8080/"
        },
        "id": "0CETK4kYYXKp",
        "outputId": "ba45c36e-160a-4e82-87eb-bfd73d7f859c"
      },
      "outputs": [
        {
          "output_type": "execute_result",
          "data": {
            "text/plain": [
              "9.842572"
            ]
          },
          "metadata": {},
          "execution_count": 331
        }
      ],
      "source": [
        "rmse(train_targets,train_preds)"
      ]
    },
    {
      "cell_type": "code",
      "execution_count": 332,
      "metadata": {
        "id": "KTWPk5seYbDL"
      },
      "outputs": [],
      "source": [
        "val_preds = linear_model.predict(val_inputs)"
      ]
    },
    {
      "cell_type": "code",
      "execution_count": 333,
      "metadata": {
        "colab": {
          "base_uri": "https://localhost:8080/"
        },
        "id": "2GEI1p-IYt4F",
        "outputId": "29301403-34b0-437c-f8c6-45c65601cdab"
      },
      "outputs": [
        {
          "output_type": "execute_result",
          "data": {
            "text/plain": [
              "array([11.369747 , 11.2802925, 11.280443 , ..., 11.280327 , 11.637991 ,\n",
              "       11.2805605], dtype=float32)"
            ]
          },
          "metadata": {},
          "execution_count": 333
        }
      ],
      "source": [
        "val_preds"
      ]
    },
    {
      "cell_type": "code",
      "execution_count": 334,
      "metadata": {
        "colab": {
          "base_uri": "https://localhost:8080/"
        },
        "id": "O0dVX8QnYu_L",
        "outputId": "a135f2fd-1128-4cfb-dfa6-169a3b2553ed"
      },
      "outputs": [
        {
          "output_type": "execute_result",
          "data": {
            "text/plain": [
              "9.807019"
            ]
          },
          "metadata": {},
          "execution_count": 334
        }
      ],
      "source": [
        "rmse(val_targets, val_preds)"
      ]
    },
    {
      "cell_type": "markdown",
      "metadata": {
        "id": "_gjhxJ46ckLU"
      },
      "source": [
        "##5. Feature Engineering\n",
        "  - Add Date based features like hour, is_weekend, is_holiday\n",
        "  - Add distance from popular landmarks\n",
        "  - Add fuel prices feature\n",
        "  - Add trip distance feature"
      ]
    },
    {
      "cell_type": "markdown",
      "metadata": {
        "id": "JmSMK8-wcoSG"
      },
      "source": [
        "###Adding Features related to date\n",
        "  - month\n",
        "  - is weekend\n",
        "  - hour\n",
        "  - is holiday"
      ]
    },
    {
      "cell_type": "code",
      "execution_count": 335,
      "metadata": {
        "id": "INO8NvHiAPSk"
      },
      "outputs": [],
      "source": [
        "import holidays"
      ]
    },
    {
      "cell_type": "code",
      "execution_count": 336,
      "metadata": {
        "id": "iHLR8RVZARIL"
      },
      "outputs": [],
      "source": [
        "holidays_list = []\n",
        "for item in holidays.USA(years=2016).items():\n",
        "  holidays_list.append(item[0])"
      ]
    },
    {
      "cell_type": "code",
      "execution_count": 337,
      "metadata": {
        "colab": {
          "base_uri": "https://localhost:8080/"
        },
        "id": "2Qdmrw-gAZCf",
        "outputId": "f7abb587-af03-46d3-db1f-ca343f94d48b"
      },
      "outputs": [
        {
          "output_type": "execute_result",
          "data": {
            "text/plain": [
              "[datetime.date(2016, 1, 1),\n",
              " datetime.date(2016, 1, 18),\n",
              " datetime.date(2016, 2, 15),\n",
              " datetime.date(2016, 5, 30),\n",
              " datetime.date(2016, 7, 4),\n",
              " datetime.date(2016, 9, 5),\n",
              " datetime.date(2016, 10, 10),\n",
              " datetime.date(2016, 11, 11),\n",
              " datetime.date(2016, 11, 24),\n",
              " datetime.date(2016, 12, 25),\n",
              " datetime.date(2016, 12, 26)]"
            ]
          },
          "metadata": {},
          "execution_count": 337
        }
      ],
      "source": [
        "holidays_list"
      ]
    },
    {
      "cell_type": "code",
      "execution_count": 338,
      "metadata": {
        "id": "YXFroKyLY0qo"
      },
      "outputs": [],
      "source": [
        "def add_dateparts(df, col):\n",
        "  df['is_weekend'] = df[col].dt.day.isin([5,6])\n",
        "  df['is_holiday'] = df[col].dt.date.isin(holidays_list)\n",
        "  df['hour'] = df[col].dt.hour\n",
        "  df['Date'] = df[col].dt.date"
      ]
    },
    {
      "cell_type": "code",
      "execution_count": 339,
      "metadata": {
        "id": "L59Qn1hCdUdd"
      },
      "outputs": [],
      "source": [
        "add_dateparts(train_df, 'pickup_datetime')\n",
        "add_dateparts(val_df, 'pickup_datetime')\n",
        "add_dateparts(test_df, 'pickup_datetime')"
      ]
    },
    {
      "cell_type": "code",
      "execution_count": 340,
      "metadata": {
        "colab": {
          "base_uri": "https://localhost:8080/",
          "height": 206
        },
        "id": "yGnoUjuYlcw4",
        "outputId": "69b519fd-0d8c-484e-e72e-7f3ee9a2031f"
      },
      "outputs": [
        {
          "output_type": "execute_result",
          "data": {
            "text/plain": [
              "         fare_amount           pickup_datetime  pickup_longitude  \\\n",
              "1344710     7.000000 2013-06-21 19:20:00+00:00        -73.986603   \n",
              "881046      4.500000 2014-01-09 18:36:00+00:00        -73.982513   \n",
              "484486      6.500000 2010-11-07 06:10:00+00:00        -73.988365   \n",
              "560794     25.299999 2009-11-02 08:07:00+00:00        -73.991158   \n",
              "1422663     7.300000 2010-05-25 23:15:23+00:00        -73.980354   \n",
              "\n",
              "         pickup_latitude  dropoff_longitude  dropoff_latitude  \\\n",
              "1344710        40.777008         -73.983513         40.762398   \n",
              "881046         40.775196         -73.985092         40.769451   \n",
              "484486         40.737541         -73.990646         40.756027   \n",
              "560794         40.749142         -73.982712         40.756866   \n",
              "1422663        40.780384         -73.955025         40.800144   \n",
              "\n",
              "         passenger_count  is_weekend  is_holiday  hour        Date  \n",
              "1344710                2       False       False    19  2013-06-21  \n",
              "881046                 5       False       False    18  2014-01-09  \n",
              "484486                 1       False       False     6  2010-11-07  \n",
              "560794                 1       False       False     8  2009-11-02  \n",
              "1422663                1       False       False    23  2010-05-25  "
            ],
            "text/html": [
              "\n",
              "  <div id=\"df-3cde7900-b179-4747-8a83-9abfa70b75b9\">\n",
              "    <div class=\"colab-df-container\">\n",
              "      <div>\n",
              "<style scoped>\n",
              "    .dataframe tbody tr th:only-of-type {\n",
              "        vertical-align: middle;\n",
              "    }\n",
              "\n",
              "    .dataframe tbody tr th {\n",
              "        vertical-align: top;\n",
              "    }\n",
              "\n",
              "    .dataframe thead th {\n",
              "        text-align: right;\n",
              "    }\n",
              "</style>\n",
              "<table border=\"1\" class=\"dataframe\">\n",
              "  <thead>\n",
              "    <tr style=\"text-align: right;\">\n",
              "      <th></th>\n",
              "      <th>fare_amount</th>\n",
              "      <th>pickup_datetime</th>\n",
              "      <th>pickup_longitude</th>\n",
              "      <th>pickup_latitude</th>\n",
              "      <th>dropoff_longitude</th>\n",
              "      <th>dropoff_latitude</th>\n",
              "      <th>passenger_count</th>\n",
              "      <th>is_weekend</th>\n",
              "      <th>is_holiday</th>\n",
              "      <th>hour</th>\n",
              "      <th>Date</th>\n",
              "    </tr>\n",
              "  </thead>\n",
              "  <tbody>\n",
              "    <tr>\n",
              "      <th>1344710</th>\n",
              "      <td>7.000000</td>\n",
              "      <td>2013-06-21 19:20:00+00:00</td>\n",
              "      <td>-73.986603</td>\n",
              "      <td>40.777008</td>\n",
              "      <td>-73.983513</td>\n",
              "      <td>40.762398</td>\n",
              "      <td>2</td>\n",
              "      <td>False</td>\n",
              "      <td>False</td>\n",
              "      <td>19</td>\n",
              "      <td>2013-06-21</td>\n",
              "    </tr>\n",
              "    <tr>\n",
              "      <th>881046</th>\n",
              "      <td>4.500000</td>\n",
              "      <td>2014-01-09 18:36:00+00:00</td>\n",
              "      <td>-73.982513</td>\n",
              "      <td>40.775196</td>\n",
              "      <td>-73.985092</td>\n",
              "      <td>40.769451</td>\n",
              "      <td>5</td>\n",
              "      <td>False</td>\n",
              "      <td>False</td>\n",
              "      <td>18</td>\n",
              "      <td>2014-01-09</td>\n",
              "    </tr>\n",
              "    <tr>\n",
              "      <th>484486</th>\n",
              "      <td>6.500000</td>\n",
              "      <td>2010-11-07 06:10:00+00:00</td>\n",
              "      <td>-73.988365</td>\n",
              "      <td>40.737541</td>\n",
              "      <td>-73.990646</td>\n",
              "      <td>40.756027</td>\n",
              "      <td>1</td>\n",
              "      <td>False</td>\n",
              "      <td>False</td>\n",
              "      <td>6</td>\n",
              "      <td>2010-11-07</td>\n",
              "    </tr>\n",
              "    <tr>\n",
              "      <th>560794</th>\n",
              "      <td>25.299999</td>\n",
              "      <td>2009-11-02 08:07:00+00:00</td>\n",
              "      <td>-73.991158</td>\n",
              "      <td>40.749142</td>\n",
              "      <td>-73.982712</td>\n",
              "      <td>40.756866</td>\n",
              "      <td>1</td>\n",
              "      <td>False</td>\n",
              "      <td>False</td>\n",
              "      <td>8</td>\n",
              "      <td>2009-11-02</td>\n",
              "    </tr>\n",
              "    <tr>\n",
              "      <th>1422663</th>\n",
              "      <td>7.300000</td>\n",
              "      <td>2010-05-25 23:15:23+00:00</td>\n",
              "      <td>-73.980354</td>\n",
              "      <td>40.780384</td>\n",
              "      <td>-73.955025</td>\n",
              "      <td>40.800144</td>\n",
              "      <td>1</td>\n",
              "      <td>False</td>\n",
              "      <td>False</td>\n",
              "      <td>23</td>\n",
              "      <td>2010-05-25</td>\n",
              "    </tr>\n",
              "  </tbody>\n",
              "</table>\n",
              "</div>\n",
              "      <button class=\"colab-df-convert\" onclick=\"convertToInteractive('df-3cde7900-b179-4747-8a83-9abfa70b75b9')\"\n",
              "              title=\"Convert this dataframe to an interactive table.\"\n",
              "              style=\"display:none;\">\n",
              "        \n",
              "  <svg xmlns=\"http://www.w3.org/2000/svg\" height=\"24px\"viewBox=\"0 0 24 24\"\n",
              "       width=\"24px\">\n",
              "    <path d=\"M0 0h24v24H0V0z\" fill=\"none\"/>\n",
              "    <path d=\"M18.56 5.44l.94 2.06.94-2.06 2.06-.94-2.06-.94-.94-2.06-.94 2.06-2.06.94zm-11 1L8.5 8.5l.94-2.06 2.06-.94-2.06-.94L8.5 2.5l-.94 2.06-2.06.94zm10 10l.94 2.06.94-2.06 2.06-.94-2.06-.94-.94-2.06-.94 2.06-2.06.94z\"/><path d=\"M17.41 7.96l-1.37-1.37c-.4-.4-.92-.59-1.43-.59-.52 0-1.04.2-1.43.59L10.3 9.45l-7.72 7.72c-.78.78-.78 2.05 0 2.83L4 21.41c.39.39.9.59 1.41.59.51 0 1.02-.2 1.41-.59l7.78-7.78 2.81-2.81c.8-.78.8-2.07 0-2.86zM5.41 20L4 18.59l7.72-7.72 1.47 1.35L5.41 20z\"/>\n",
              "  </svg>\n",
              "      </button>\n",
              "      \n",
              "  <style>\n",
              "    .colab-df-container {\n",
              "      display:flex;\n",
              "      flex-wrap:wrap;\n",
              "      gap: 12px;\n",
              "    }\n",
              "\n",
              "    .colab-df-convert {\n",
              "      background-color: #E8F0FE;\n",
              "      border: none;\n",
              "      border-radius: 50%;\n",
              "      cursor: pointer;\n",
              "      display: none;\n",
              "      fill: #1967D2;\n",
              "      height: 32px;\n",
              "      padding: 0 0 0 0;\n",
              "      width: 32px;\n",
              "    }\n",
              "\n",
              "    .colab-df-convert:hover {\n",
              "      background-color: #E2EBFA;\n",
              "      box-shadow: 0px 1px 2px rgba(60, 64, 67, 0.3), 0px 1px 3px 1px rgba(60, 64, 67, 0.15);\n",
              "      fill: #174EA6;\n",
              "    }\n",
              "\n",
              "    [theme=dark] .colab-df-convert {\n",
              "      background-color: #3B4455;\n",
              "      fill: #D2E3FC;\n",
              "    }\n",
              "\n",
              "    [theme=dark] .colab-df-convert:hover {\n",
              "      background-color: #434B5C;\n",
              "      box-shadow: 0px 1px 3px 1px rgba(0, 0, 0, 0.15);\n",
              "      filter: drop-shadow(0px 1px 2px rgba(0, 0, 0, 0.3));\n",
              "      fill: #FFFFFF;\n",
              "    }\n",
              "  </style>\n",
              "\n",
              "      <script>\n",
              "        const buttonEl =\n",
              "          document.querySelector('#df-3cde7900-b179-4747-8a83-9abfa70b75b9 button.colab-df-convert');\n",
              "        buttonEl.style.display =\n",
              "          google.colab.kernel.accessAllowed ? 'block' : 'none';\n",
              "\n",
              "        async function convertToInteractive(key) {\n",
              "          const element = document.querySelector('#df-3cde7900-b179-4747-8a83-9abfa70b75b9');\n",
              "          const dataTable =\n",
              "            await google.colab.kernel.invokeFunction('convertToInteractive',\n",
              "                                                     [key], {});\n",
              "          if (!dataTable) return;\n",
              "\n",
              "          const docLinkHtml = 'Like what you see? Visit the ' +\n",
              "            '<a target=\"_blank\" href=https://colab.research.google.com/notebooks/data_table.ipynb>data table notebook</a>'\n",
              "            + ' to learn more about interactive tables.';\n",
              "          element.innerHTML = '';\n",
              "          dataTable['output_type'] = 'display_data';\n",
              "          await google.colab.output.renderOutput(dataTable, element);\n",
              "          const docLink = document.createElement('div');\n",
              "          docLink.innerHTML = docLinkHtml;\n",
              "          element.appendChild(docLink);\n",
              "        }\n",
              "      </script>\n",
              "    </div>\n",
              "  </div>\n",
              "  "
            ]
          },
          "metadata": {},
          "execution_count": 340
        }
      ],
      "source": [
        "train_df.head()"
      ]
    },
    {
      "cell_type": "markdown",
      "metadata": {
        "id": "GplEqf26fRTI"
      },
      "source": [
        "###Calculate Journey Distance"
      ]
    },
    {
      "cell_type": "code",
      "execution_count": 341,
      "metadata": {
        "id": "KS3IV-KmdsaP"
      },
      "outputs": [],
      "source": [
        "import numpy as np\n",
        "\n",
        "def haversine_np(lon1, lat1, lon2, lat2):\n",
        "    \"\"\"\n",
        "    Calculate the great circle distance between two points\n",
        "    on the earth (specified in decimal degrees)\n",
        "\n",
        "    All args must be of equal length.    \n",
        "\n",
        "    \"\"\"\n",
        "    lon1, lat1, lon2, lat2 = map(np.radians, [lon1, lat1, lon2, lat2])\n",
        "\n",
        "    dlon = lon2 - lon1\n",
        "    dlat = lat2 - lat1\n",
        "\n",
        "    a = np.sin(dlat/2.0)**2 + np.cos(lat1) * np.cos(lat2) * np.sin(dlon/2.0)**2\n",
        "\n",
        "    c = 2 * np.arcsin(np.sqrt(a))\n",
        "    km = 6367 * c\n",
        "    return km"
      ]
    },
    {
      "cell_type": "code",
      "execution_count": 342,
      "metadata": {
        "id": "yNJ6CyCFfbM0"
      },
      "outputs": [],
      "source": [
        "def add_trip_distance(df):\n",
        "    df['trip_distance'] = haversine_np(df['pickup_longitude'], df['pickup_latitude'], df['dropoff_longitude'], df['dropoff_latitude'])"
      ]
    },
    {
      "cell_type": "code",
      "execution_count": 343,
      "metadata": {
        "colab": {
          "base_uri": "https://localhost:8080/"
        },
        "id": "pG7Yur8Qfezs",
        "outputId": "bbd6948d-d39f-49f5-e7f8-a9d8b9f85bf1"
      },
      "outputs": [
        {
          "output_type": "stream",
          "name": "stdout",
          "text": [
            "CPU times: user 242 ms, sys: 7.99 ms, total: 250 ms\n",
            "Wall time: 201 ms\n"
          ]
        }
      ],
      "source": [
        "%%time\n",
        "add_trip_distance(train_df)"
      ]
    },
    {
      "cell_type": "code",
      "execution_count": 344,
      "metadata": {
        "colab": {
          "base_uri": "https://localhost:8080/"
        },
        "id": "vdqYUeMrJl_T",
        "outputId": "f3d15e16-548b-461e-b910-06b28a260253"
      },
      "outputs": [
        {
          "output_type": "stream",
          "name": "stdout",
          "text": [
            "CPU times: user 20 ms, sys: 2.03 ms, total: 22 ms\n",
            "Wall time: 24.7 ms\n"
          ]
        }
      ],
      "source": [
        "%%time\n",
        "add_trip_distance(val_df)"
      ]
    },
    {
      "cell_type": "code",
      "execution_count": 345,
      "metadata": {
        "colab": {
          "base_uri": "https://localhost:8080/"
        },
        "id": "5bx5yS8ZcQwf",
        "outputId": "6208152b-9191-4e57-9f7b-69a5ad378e79"
      },
      "outputs": [
        {
          "output_type": "stream",
          "name": "stdout",
          "text": [
            "CPU times: user 7.25 ms, sys: 6 µs, total: 7.26 ms\n",
            "Wall time: 7.82 ms\n"
          ]
        }
      ],
      "source": [
        "%%time\n",
        "add_trip_distance(test_df)"
      ]
    },
    {
      "cell_type": "code",
      "execution_count": 346,
      "metadata": {
        "colab": {
          "base_uri": "https://localhost:8080/",
          "height": 337
        },
        "id": "So94nb3zllra",
        "outputId": "0ef82e08-7163-4984-87aa-71d0b8bdba15"
      },
      "outputs": [
        {
          "output_type": "execute_result",
          "data": {
            "text/plain": [
              "         fare_amount           pickup_datetime  pickup_longitude  \\\n",
              "1344710     7.000000 2013-06-21 19:20:00+00:00        -73.986603   \n",
              "881046      4.500000 2014-01-09 18:36:00+00:00        -73.982513   \n",
              "484486      6.500000 2010-11-07 06:10:00+00:00        -73.988365   \n",
              "560794     25.299999 2009-11-02 08:07:00+00:00        -73.991158   \n",
              "1422663     7.300000 2010-05-25 23:15:23+00:00        -73.980354   \n",
              "\n",
              "         pickup_latitude  dropoff_longitude  dropoff_latitude  \\\n",
              "1344710        40.777008         -73.983513         40.762398   \n",
              "881046         40.775196         -73.985092         40.769451   \n",
              "484486         40.737541         -73.990646         40.756027   \n",
              "560794         40.749142         -73.982712         40.756866   \n",
              "1422663        40.780384         -73.955025         40.800144   \n",
              "\n",
              "         passenger_count  is_weekend  is_holiday  hour        Date  \\\n",
              "1344710                2       False       False    19  2013-06-21   \n",
              "881046                 5       False       False    18  2014-01-09   \n",
              "484486                 1       False       False     6  2010-11-07   \n",
              "560794                 1       False       False     8  2009-11-02   \n",
              "1422663                1       False       False    23  2010-05-25   \n",
              "\n",
              "         trip_distance  \n",
              "1344710       1.644263  \n",
              "881046        0.674289  \n",
              "484486        2.063207  \n",
              "560794        1.114796  \n",
              "1422663       3.059984  "
            ],
            "text/html": [
              "\n",
              "  <div id=\"df-a2d342ed-22ce-4bd1-92ba-ce9c6dc2439b\">\n",
              "    <div class=\"colab-df-container\">\n",
              "      <div>\n",
              "<style scoped>\n",
              "    .dataframe tbody tr th:only-of-type {\n",
              "        vertical-align: middle;\n",
              "    }\n",
              "\n",
              "    .dataframe tbody tr th {\n",
              "        vertical-align: top;\n",
              "    }\n",
              "\n",
              "    .dataframe thead th {\n",
              "        text-align: right;\n",
              "    }\n",
              "</style>\n",
              "<table border=\"1\" class=\"dataframe\">\n",
              "  <thead>\n",
              "    <tr style=\"text-align: right;\">\n",
              "      <th></th>\n",
              "      <th>fare_amount</th>\n",
              "      <th>pickup_datetime</th>\n",
              "      <th>pickup_longitude</th>\n",
              "      <th>pickup_latitude</th>\n",
              "      <th>dropoff_longitude</th>\n",
              "      <th>dropoff_latitude</th>\n",
              "      <th>passenger_count</th>\n",
              "      <th>is_weekend</th>\n",
              "      <th>is_holiday</th>\n",
              "      <th>hour</th>\n",
              "      <th>Date</th>\n",
              "      <th>trip_distance</th>\n",
              "    </tr>\n",
              "  </thead>\n",
              "  <tbody>\n",
              "    <tr>\n",
              "      <th>1344710</th>\n",
              "      <td>7.000000</td>\n",
              "      <td>2013-06-21 19:20:00+00:00</td>\n",
              "      <td>-73.986603</td>\n",
              "      <td>40.777008</td>\n",
              "      <td>-73.983513</td>\n",
              "      <td>40.762398</td>\n",
              "      <td>2</td>\n",
              "      <td>False</td>\n",
              "      <td>False</td>\n",
              "      <td>19</td>\n",
              "      <td>2013-06-21</td>\n",
              "      <td>1.644263</td>\n",
              "    </tr>\n",
              "    <tr>\n",
              "      <th>881046</th>\n",
              "      <td>4.500000</td>\n",
              "      <td>2014-01-09 18:36:00+00:00</td>\n",
              "      <td>-73.982513</td>\n",
              "      <td>40.775196</td>\n",
              "      <td>-73.985092</td>\n",
              "      <td>40.769451</td>\n",
              "      <td>5</td>\n",
              "      <td>False</td>\n",
              "      <td>False</td>\n",
              "      <td>18</td>\n",
              "      <td>2014-01-09</td>\n",
              "      <td>0.674289</td>\n",
              "    </tr>\n",
              "    <tr>\n",
              "      <th>484486</th>\n",
              "      <td>6.500000</td>\n",
              "      <td>2010-11-07 06:10:00+00:00</td>\n",
              "      <td>-73.988365</td>\n",
              "      <td>40.737541</td>\n",
              "      <td>-73.990646</td>\n",
              "      <td>40.756027</td>\n",
              "      <td>1</td>\n",
              "      <td>False</td>\n",
              "      <td>False</td>\n",
              "      <td>6</td>\n",
              "      <td>2010-11-07</td>\n",
              "      <td>2.063207</td>\n",
              "    </tr>\n",
              "    <tr>\n",
              "      <th>560794</th>\n",
              "      <td>25.299999</td>\n",
              "      <td>2009-11-02 08:07:00+00:00</td>\n",
              "      <td>-73.991158</td>\n",
              "      <td>40.749142</td>\n",
              "      <td>-73.982712</td>\n",
              "      <td>40.756866</td>\n",
              "      <td>1</td>\n",
              "      <td>False</td>\n",
              "      <td>False</td>\n",
              "      <td>8</td>\n",
              "      <td>2009-11-02</td>\n",
              "      <td>1.114796</td>\n",
              "    </tr>\n",
              "    <tr>\n",
              "      <th>1422663</th>\n",
              "      <td>7.300000</td>\n",
              "      <td>2010-05-25 23:15:23+00:00</td>\n",
              "      <td>-73.980354</td>\n",
              "      <td>40.780384</td>\n",
              "      <td>-73.955025</td>\n",
              "      <td>40.800144</td>\n",
              "      <td>1</td>\n",
              "      <td>False</td>\n",
              "      <td>False</td>\n",
              "      <td>23</td>\n",
              "      <td>2010-05-25</td>\n",
              "      <td>3.059984</td>\n",
              "    </tr>\n",
              "  </tbody>\n",
              "</table>\n",
              "</div>\n",
              "      <button class=\"colab-df-convert\" onclick=\"convertToInteractive('df-a2d342ed-22ce-4bd1-92ba-ce9c6dc2439b')\"\n",
              "              title=\"Convert this dataframe to an interactive table.\"\n",
              "              style=\"display:none;\">\n",
              "        \n",
              "  <svg xmlns=\"http://www.w3.org/2000/svg\" height=\"24px\"viewBox=\"0 0 24 24\"\n",
              "       width=\"24px\">\n",
              "    <path d=\"M0 0h24v24H0V0z\" fill=\"none\"/>\n",
              "    <path d=\"M18.56 5.44l.94 2.06.94-2.06 2.06-.94-2.06-.94-.94-2.06-.94 2.06-2.06.94zm-11 1L8.5 8.5l.94-2.06 2.06-.94-2.06-.94L8.5 2.5l-.94 2.06-2.06.94zm10 10l.94 2.06.94-2.06 2.06-.94-2.06-.94-.94-2.06-.94 2.06-2.06.94z\"/><path d=\"M17.41 7.96l-1.37-1.37c-.4-.4-.92-.59-1.43-.59-.52 0-1.04.2-1.43.59L10.3 9.45l-7.72 7.72c-.78.78-.78 2.05 0 2.83L4 21.41c.39.39.9.59 1.41.59.51 0 1.02-.2 1.41-.59l7.78-7.78 2.81-2.81c.8-.78.8-2.07 0-2.86zM5.41 20L4 18.59l7.72-7.72 1.47 1.35L5.41 20z\"/>\n",
              "  </svg>\n",
              "      </button>\n",
              "      \n",
              "  <style>\n",
              "    .colab-df-container {\n",
              "      display:flex;\n",
              "      flex-wrap:wrap;\n",
              "      gap: 12px;\n",
              "    }\n",
              "\n",
              "    .colab-df-convert {\n",
              "      background-color: #E8F0FE;\n",
              "      border: none;\n",
              "      border-radius: 50%;\n",
              "      cursor: pointer;\n",
              "      display: none;\n",
              "      fill: #1967D2;\n",
              "      height: 32px;\n",
              "      padding: 0 0 0 0;\n",
              "      width: 32px;\n",
              "    }\n",
              "\n",
              "    .colab-df-convert:hover {\n",
              "      background-color: #E2EBFA;\n",
              "      box-shadow: 0px 1px 2px rgba(60, 64, 67, 0.3), 0px 1px 3px 1px rgba(60, 64, 67, 0.15);\n",
              "      fill: #174EA6;\n",
              "    }\n",
              "\n",
              "    [theme=dark] .colab-df-convert {\n",
              "      background-color: #3B4455;\n",
              "      fill: #D2E3FC;\n",
              "    }\n",
              "\n",
              "    [theme=dark] .colab-df-convert:hover {\n",
              "      background-color: #434B5C;\n",
              "      box-shadow: 0px 1px 3px 1px rgba(0, 0, 0, 0.15);\n",
              "      filter: drop-shadow(0px 1px 2px rgba(0, 0, 0, 0.3));\n",
              "      fill: #FFFFFF;\n",
              "    }\n",
              "  </style>\n",
              "\n",
              "      <script>\n",
              "        const buttonEl =\n",
              "          document.querySelector('#df-a2d342ed-22ce-4bd1-92ba-ce9c6dc2439b button.colab-df-convert');\n",
              "        buttonEl.style.display =\n",
              "          google.colab.kernel.accessAllowed ? 'block' : 'none';\n",
              "\n",
              "        async function convertToInteractive(key) {\n",
              "          const element = document.querySelector('#df-a2d342ed-22ce-4bd1-92ba-ce9c6dc2439b');\n",
              "          const dataTable =\n",
              "            await google.colab.kernel.invokeFunction('convertToInteractive',\n",
              "                                                     [key], {});\n",
              "          if (!dataTable) return;\n",
              "\n",
              "          const docLinkHtml = 'Like what you see? Visit the ' +\n",
              "            '<a target=\"_blank\" href=https://colab.research.google.com/notebooks/data_table.ipynb>data table notebook</a>'\n",
              "            + ' to learn more about interactive tables.';\n",
              "          element.innerHTML = '';\n",
              "          dataTable['output_type'] = 'display_data';\n",
              "          await google.colab.output.renderOutput(dataTable, element);\n",
              "          const docLink = document.createElement('div');\n",
              "          docLink.innerHTML = docLinkHtml;\n",
              "          element.appendChild(docLink);\n",
              "        }\n",
              "      </script>\n",
              "    </div>\n",
              "  </div>\n",
              "  "
            ]
          },
          "metadata": {},
          "execution_count": 346
        }
      ],
      "source": [
        "train_df.head()"
      ]
    },
    {
      "cell_type": "markdown",
      "metadata": {
        "id": "iIRMTS7-ltO9"
      },
      "source": [
        "###Calculate Distance from following landmarks\n",
        "  - JFK Airport\n",
        "  - LGA Airport\n",
        "  - EWR Airport\n",
        "  - Times Square\n",
        "  - Met Meuseum\n",
        "  - World Trade Center"
      ]
    },
    {
      "cell_type": "code",
      "execution_count": 347,
      "metadata": {
        "id": "xhlIP9tTln-u"
      },
      "outputs": [],
      "source": [
        "jfk_lonlat = -73.7781, 40.6413\n",
        "lga_lonlat = -73.8740, 40.7769\n",
        "ewr_lonlat = -74.1745, 40.6895\n",
        "met_lonlat = -73.9632, 40.7794\n",
        "wtc_lonlat = -74.0099, 40.7126"
      ]
    },
    {
      "cell_type": "code",
      "execution_count": 348,
      "metadata": {
        "id": "gUZhsgk6oS9b"
      },
      "outputs": [],
      "source": [
        "def add_landmark_dropoff_distance(df, landmark_name, landmark_lonlat):\n",
        "    lon, lat = landmark_lonlat\n",
        "    df[landmark_name + '_drop_distance'] = haversine_np(lon, lat, df['dropoff_longitude'], df['dropoff_latitude'])"
      ]
    },
    {
      "cell_type": "code",
      "execution_count": 349,
      "metadata": {
        "colab": {
          "base_uri": "https://localhost:8080/"
        },
        "id": "x-kb2VbgoVgw",
        "outputId": "2ced6796-01c9-46e2-c2d3-b51f09add08d"
      },
      "outputs": [
        {
          "output_type": "stream",
          "name": "stdout",
          "text": [
            "CPU times: user 928 ms, sys: 24 ms, total: 952 ms\n",
            "Wall time: 725 ms\n"
          ]
        }
      ],
      "source": [
        "%%time\n",
        "for a_df in [train_df, val_df, test_df]:\n",
        "    for name, lonlat in [('jfk', jfk_lonlat), ('lga', lga_lonlat), ('ewr', ewr_lonlat), ('met', met_lonlat), ('wtc', wtc_lonlat)]:\n",
        "        add_landmark_dropoff_distance(a_df, name, lonlat)"
      ]
    },
    {
      "cell_type": "code",
      "execution_count": 350,
      "metadata": {
        "colab": {
          "base_uri": "https://localhost:8080/",
          "height": 357
        },
        "id": "Ymh499ufohFy",
        "outputId": "84fbf797-9a37-452f-8c34-4539dc716f51"
      },
      "outputs": [
        {
          "output_type": "execute_result",
          "data": {
            "text/plain": [
              "         fare_amount           pickup_datetime  pickup_longitude  \\\n",
              "1266277          8.9 2011-01-10 21:41:00+00:00        -74.007759   \n",
              "560247           4.5 2010-07-15 14:32:00+00:00        -73.996368   \n",
              "704223           5.3 2011-03-07 01:10:00+00:00        -73.985420   \n",
              "1020841          3.3 2010-04-15 19:25:00+00:00        -73.996033   \n",
              "608485           5.7 2015-01-02 18:50:24+00:00        -73.979988   \n",
              "\n",
              "         pickup_latitude  dropoff_longitude  dropoff_latitude  \\\n",
              "1266277        40.717457         -73.987579         40.750172   \n",
              "560247         40.738041         -73.990685         40.745911   \n",
              "704223         40.731758         -73.998718         40.729664   \n",
              "1020841        40.755173         -74.001076         40.748936   \n",
              "608485         40.734707         -73.987831         40.725555   \n",
              "\n",
              "         passenger_count  is_weekend  is_holiday  hour        Date  \\\n",
              "1266277                2       False       False    21  2011-01-10   \n",
              "560247                 1       False       False    14  2010-07-15   \n",
              "704223                 5       False       False     1  2011-03-07   \n",
              "1020841                1       False       False    19  2010-04-15   \n",
              "608485                 1       False       False    18  2015-01-02   \n",
              "\n",
              "         trip_distance  jfk_drop_distance  lga_drop_distance  \\\n",
              "1266277       4.013015          21.397941          10.010516   \n",
              "560247        0.996995          21.352917          10.407332   \n",
              "704223        1.143750          21.024769          11.738029   \n",
              "1020841       0.812870          22.271169          11.138083   \n",
              "608485        1.212601          20.000817          11.152740   \n",
              "\n",
              "         ewr_drop_distance  met_drop_distance  wtc_drop_distance  \n",
              "1266277          17.125872           3.841845           4.578748  \n",
              "560247           16.703110           4.381806           4.039941  \n",
              "704223           15.464983           6.283835           2.117191  \n",
              "1020841          16.030218           4.650102           4.105623  \n",
              "608485           16.226951           6.332539           2.350994  "
            ],
            "text/html": [
              "\n",
              "  <div id=\"df-76626930-35d7-41b2-b981-052f410bfa4e\">\n",
              "    <div class=\"colab-df-container\">\n",
              "      <div>\n",
              "<style scoped>\n",
              "    .dataframe tbody tr th:only-of-type {\n",
              "        vertical-align: middle;\n",
              "    }\n",
              "\n",
              "    .dataframe tbody tr th {\n",
              "        vertical-align: top;\n",
              "    }\n",
              "\n",
              "    .dataframe thead th {\n",
              "        text-align: right;\n",
              "    }\n",
              "</style>\n",
              "<table border=\"1\" class=\"dataframe\">\n",
              "  <thead>\n",
              "    <tr style=\"text-align: right;\">\n",
              "      <th></th>\n",
              "      <th>fare_amount</th>\n",
              "      <th>pickup_datetime</th>\n",
              "      <th>pickup_longitude</th>\n",
              "      <th>pickup_latitude</th>\n",
              "      <th>dropoff_longitude</th>\n",
              "      <th>dropoff_latitude</th>\n",
              "      <th>passenger_count</th>\n",
              "      <th>is_weekend</th>\n",
              "      <th>is_holiday</th>\n",
              "      <th>hour</th>\n",
              "      <th>Date</th>\n",
              "      <th>trip_distance</th>\n",
              "      <th>jfk_drop_distance</th>\n",
              "      <th>lga_drop_distance</th>\n",
              "      <th>ewr_drop_distance</th>\n",
              "      <th>met_drop_distance</th>\n",
              "      <th>wtc_drop_distance</th>\n",
              "    </tr>\n",
              "  </thead>\n",
              "  <tbody>\n",
              "    <tr>\n",
              "      <th>1266277</th>\n",
              "      <td>8.9</td>\n",
              "      <td>2011-01-10 21:41:00+00:00</td>\n",
              "      <td>-74.007759</td>\n",
              "      <td>40.717457</td>\n",
              "      <td>-73.987579</td>\n",
              "      <td>40.750172</td>\n",
              "      <td>2</td>\n",
              "      <td>False</td>\n",
              "      <td>False</td>\n",
              "      <td>21</td>\n",
              "      <td>2011-01-10</td>\n",
              "      <td>4.013015</td>\n",
              "      <td>21.397941</td>\n",
              "      <td>10.010516</td>\n",
              "      <td>17.125872</td>\n",
              "      <td>3.841845</td>\n",
              "      <td>4.578748</td>\n",
              "    </tr>\n",
              "    <tr>\n",
              "      <th>560247</th>\n",
              "      <td>4.5</td>\n",
              "      <td>2010-07-15 14:32:00+00:00</td>\n",
              "      <td>-73.996368</td>\n",
              "      <td>40.738041</td>\n",
              "      <td>-73.990685</td>\n",
              "      <td>40.745911</td>\n",
              "      <td>1</td>\n",
              "      <td>False</td>\n",
              "      <td>False</td>\n",
              "      <td>14</td>\n",
              "      <td>2010-07-15</td>\n",
              "      <td>0.996995</td>\n",
              "      <td>21.352917</td>\n",
              "      <td>10.407332</td>\n",
              "      <td>16.703110</td>\n",
              "      <td>4.381806</td>\n",
              "      <td>4.039941</td>\n",
              "    </tr>\n",
              "    <tr>\n",
              "      <th>704223</th>\n",
              "      <td>5.3</td>\n",
              "      <td>2011-03-07 01:10:00+00:00</td>\n",
              "      <td>-73.985420</td>\n",
              "      <td>40.731758</td>\n",
              "      <td>-73.998718</td>\n",
              "      <td>40.729664</td>\n",
              "      <td>5</td>\n",
              "      <td>False</td>\n",
              "      <td>False</td>\n",
              "      <td>1</td>\n",
              "      <td>2011-03-07</td>\n",
              "      <td>1.143750</td>\n",
              "      <td>21.024769</td>\n",
              "      <td>11.738029</td>\n",
              "      <td>15.464983</td>\n",
              "      <td>6.283835</td>\n",
              "      <td>2.117191</td>\n",
              "    </tr>\n",
              "    <tr>\n",
              "      <th>1020841</th>\n",
              "      <td>3.3</td>\n",
              "      <td>2010-04-15 19:25:00+00:00</td>\n",
              "      <td>-73.996033</td>\n",
              "      <td>40.755173</td>\n",
              "      <td>-74.001076</td>\n",
              "      <td>40.748936</td>\n",
              "      <td>1</td>\n",
              "      <td>False</td>\n",
              "      <td>False</td>\n",
              "      <td>19</td>\n",
              "      <td>2010-04-15</td>\n",
              "      <td>0.812870</td>\n",
              "      <td>22.271169</td>\n",
              "      <td>11.138083</td>\n",
              "      <td>16.030218</td>\n",
              "      <td>4.650102</td>\n",
              "      <td>4.105623</td>\n",
              "    </tr>\n",
              "    <tr>\n",
              "      <th>608485</th>\n",
              "      <td>5.7</td>\n",
              "      <td>2015-01-02 18:50:24+00:00</td>\n",
              "      <td>-73.979988</td>\n",
              "      <td>40.734707</td>\n",
              "      <td>-73.987831</td>\n",
              "      <td>40.725555</td>\n",
              "      <td>1</td>\n",
              "      <td>False</td>\n",
              "      <td>False</td>\n",
              "      <td>18</td>\n",
              "      <td>2015-01-02</td>\n",
              "      <td>1.212601</td>\n",
              "      <td>20.000817</td>\n",
              "      <td>11.152740</td>\n",
              "      <td>16.226951</td>\n",
              "      <td>6.332539</td>\n",
              "      <td>2.350994</td>\n",
              "    </tr>\n",
              "  </tbody>\n",
              "</table>\n",
              "</div>\n",
              "      <button class=\"colab-df-convert\" onclick=\"convertToInteractive('df-76626930-35d7-41b2-b981-052f410bfa4e')\"\n",
              "              title=\"Convert this dataframe to an interactive table.\"\n",
              "              style=\"display:none;\">\n",
              "        \n",
              "  <svg xmlns=\"http://www.w3.org/2000/svg\" height=\"24px\"viewBox=\"0 0 24 24\"\n",
              "       width=\"24px\">\n",
              "    <path d=\"M0 0h24v24H0V0z\" fill=\"none\"/>\n",
              "    <path d=\"M18.56 5.44l.94 2.06.94-2.06 2.06-.94-2.06-.94-.94-2.06-.94 2.06-2.06.94zm-11 1L8.5 8.5l.94-2.06 2.06-.94-2.06-.94L8.5 2.5l-.94 2.06-2.06.94zm10 10l.94 2.06.94-2.06 2.06-.94-2.06-.94-.94-2.06-.94 2.06-2.06.94z\"/><path d=\"M17.41 7.96l-1.37-1.37c-.4-.4-.92-.59-1.43-.59-.52 0-1.04.2-1.43.59L10.3 9.45l-7.72 7.72c-.78.78-.78 2.05 0 2.83L4 21.41c.39.39.9.59 1.41.59.51 0 1.02-.2 1.41-.59l7.78-7.78 2.81-2.81c.8-.78.8-2.07 0-2.86zM5.41 20L4 18.59l7.72-7.72 1.47 1.35L5.41 20z\"/>\n",
              "  </svg>\n",
              "      </button>\n",
              "      \n",
              "  <style>\n",
              "    .colab-df-container {\n",
              "      display:flex;\n",
              "      flex-wrap:wrap;\n",
              "      gap: 12px;\n",
              "    }\n",
              "\n",
              "    .colab-df-convert {\n",
              "      background-color: #E8F0FE;\n",
              "      border: none;\n",
              "      border-radius: 50%;\n",
              "      cursor: pointer;\n",
              "      display: none;\n",
              "      fill: #1967D2;\n",
              "      height: 32px;\n",
              "      padding: 0 0 0 0;\n",
              "      width: 32px;\n",
              "    }\n",
              "\n",
              "    .colab-df-convert:hover {\n",
              "      background-color: #E2EBFA;\n",
              "      box-shadow: 0px 1px 2px rgba(60, 64, 67, 0.3), 0px 1px 3px 1px rgba(60, 64, 67, 0.15);\n",
              "      fill: #174EA6;\n",
              "    }\n",
              "\n",
              "    [theme=dark] .colab-df-convert {\n",
              "      background-color: #3B4455;\n",
              "      fill: #D2E3FC;\n",
              "    }\n",
              "\n",
              "    [theme=dark] .colab-df-convert:hover {\n",
              "      background-color: #434B5C;\n",
              "      box-shadow: 0px 1px 3px 1px rgba(0, 0, 0, 0.15);\n",
              "      filter: drop-shadow(0px 1px 2px rgba(0, 0, 0, 0.3));\n",
              "      fill: #FFFFFF;\n",
              "    }\n",
              "  </style>\n",
              "\n",
              "      <script>\n",
              "        const buttonEl =\n",
              "          document.querySelector('#df-76626930-35d7-41b2-b981-052f410bfa4e button.colab-df-convert');\n",
              "        buttonEl.style.display =\n",
              "          google.colab.kernel.accessAllowed ? 'block' : 'none';\n",
              "\n",
              "        async function convertToInteractive(key) {\n",
              "          const element = document.querySelector('#df-76626930-35d7-41b2-b981-052f410bfa4e');\n",
              "          const dataTable =\n",
              "            await google.colab.kernel.invokeFunction('convertToInteractive',\n",
              "                                                     [key], {});\n",
              "          if (!dataTable) return;\n",
              "\n",
              "          const docLinkHtml = 'Like what you see? Visit the ' +\n",
              "            '<a target=\"_blank\" href=https://colab.research.google.com/notebooks/data_table.ipynb>data table notebook</a>'\n",
              "            + ' to learn more about interactive tables.';\n",
              "          element.innerHTML = '';\n",
              "          dataTable['output_type'] = 'display_data';\n",
              "          await google.colab.output.renderOutput(dataTable, element);\n",
              "          const docLink = document.createElement('div');\n",
              "          docLink.innerHTML = docLinkHtml;\n",
              "          element.appendChild(docLink);\n",
              "        }\n",
              "      </script>\n",
              "    </div>\n",
              "  </div>\n",
              "  "
            ]
          },
          "metadata": {},
          "execution_count": 350
        }
      ],
      "source": [
        "train_df.sample(5)"
      ]
    },
    {
      "cell_type": "markdown",
      "metadata": {
        "id": "9BCwuglGWOTf"
      },
      "source": [
        "###Add Fuel Prices"
      ]
    },
    {
      "cell_type": "code",
      "execution_count": 351,
      "metadata": {
        "id": "AiZ8gCGk1-Pb"
      },
      "outputs": [],
      "source": [
        "train_df.Date = train_df.Date.astype('datetime64[ns]')\n",
        "val_df.Date = val_df.Date.astype('datetime64[ns]')\n",
        "test_df.Date = test_df.Date.astype('datetime64[ns]')"
      ]
    },
    {
      "cell_type": "code",
      "execution_count": 352,
      "metadata": {
        "colab": {
          "base_uri": "https://localhost:8080/"
        },
        "id": "Kxuv-4KD3Rl_",
        "outputId": "d7925ed1-9f1c-4451-f7cd-73db0c6c86f3"
      },
      "outputs": [
        {
          "output_type": "execute_result",
          "data": {
            "text/plain": [
              "2372"
            ]
          },
          "metadata": {},
          "execution_count": 352
        }
      ],
      "source": [
        "len(train_df.Date.dt.date.unique())"
      ]
    },
    {
      "cell_type": "code",
      "execution_count": 353,
      "metadata": {
        "id": "nm4pngdl3k8T"
      },
      "outputs": [],
      "source": [
        "x = df_fuel[df_fuel.Date.dt.date>train_df.Date.dt.date.min()]\n",
        "x = x[x.Date.dt.date<train_df.Date.dt.date.max()]"
      ]
    },
    {
      "cell_type": "code",
      "execution_count": 354,
      "metadata": {
        "colab": {
          "base_uri": "https://localhost:8080/"
        },
        "id": "uxj-XykL30rS",
        "outputId": "6c08c402-0ed7-4ac8-c771-ea71ca6b7ad2"
      },
      "outputs": [
        {
          "output_type": "execute_result",
          "data": {
            "text/plain": [
              "339"
            ]
          },
          "metadata": {},
          "execution_count": 354
        }
      ],
      "source": [
        "len(x.Date.dt.date.unique())"
      ]
    },
    {
      "cell_type": "code",
      "execution_count": 355,
      "metadata": {
        "id": "FIL0FabOfO5-"
      },
      "outputs": [],
      "source": [
        "df_fuel['Date'] = pd.to_datetime(df_fuel.Date, format='%Y-%m-%d')    \n",
        "df_fuel = df_fuel.set_index('Date').resample('D').ffill().reset_index()"
      ]
    },
    {
      "cell_type": "code",
      "execution_count": 356,
      "metadata": {
        "id": "KuVuVd7H4pSI"
      },
      "outputs": [],
      "source": [
        "x = df_fuel[df_fuel.Date.dt.date>train_df.Date.dt.date.min()]\n",
        "x = x[x.Date.dt.date<train_df.Date.dt.date.max()]"
      ]
    },
    {
      "cell_type": "code",
      "execution_count": 357,
      "metadata": {
        "colab": {
          "base_uri": "https://localhost:8080/"
        },
        "id": "qrRi_VSR4q3p",
        "outputId": "13dc2079-6745-4dee-90d8-365ed5613821"
      },
      "outputs": [
        {
          "output_type": "execute_result",
          "data": {
            "text/plain": [
              "2370"
            ]
          },
          "metadata": {},
          "execution_count": 357
        }
      ],
      "source": [
        "len(x.Date.dt.date.unique())"
      ]
    },
    {
      "cell_type": "code",
      "execution_count": 358,
      "metadata": {
        "id": "lXpt0SvqmbSx"
      },
      "outputs": [],
      "source": [
        "df_fuel.Date = df_fuel.Date.astype('string')"
      ]
    },
    {
      "cell_type": "code",
      "execution_count": 359,
      "metadata": {
        "colab": {
          "base_uri": "https://localhost:8080/"
        },
        "id": "u4xV-URUnj0K",
        "outputId": "ab1d9eb6-56fa-4dd3-ff31-24c9de7884eb"
      },
      "outputs": [
        {
          "output_type": "execute_result",
          "data": {
            "text/plain": [
              "string[python]"
            ]
          },
          "metadata": {},
          "execution_count": 359
        }
      ],
      "source": [
        "df_fuel.Date.dtype"
      ]
    },
    {
      "cell_type": "code",
      "execution_count": 360,
      "metadata": {
        "id": "qI5mecxan0dj"
      },
      "outputs": [],
      "source": [
        "train_df.Date = train_df.Date.astype('string')\n",
        "val_df.Date = val_df.Date.astype('string')\n",
        "test_df.Date = test_df.Date.astype('string')"
      ]
    },
    {
      "cell_type": "code",
      "execution_count": 361,
      "metadata": {
        "id": "Z3oKZ9WjYgvb"
      },
      "outputs": [],
      "source": [
        "train_df = train_df.merge(df_fuel, how='left', on = ['Date'], validate='many_to_one') #merging the Fuel data into the train data"
      ]
    },
    {
      "cell_type": "code",
      "execution_count": 362,
      "metadata": {
        "id": "iGlew23xcrKD"
      },
      "outputs": [],
      "source": [
        "val_df = val_df.merge(df_fuel, how='left', on = ['Date'], validate='many_to_one') #merging the Fuel data into the validation data"
      ]
    },
    {
      "cell_type": "code",
      "execution_count": 363,
      "metadata": {
        "id": "N3jbwO9kWxQR"
      },
      "outputs": [],
      "source": [
        "test_df = test_df.merge(df_fuel, how='left', on = ['Date'], validate='many_to_one') # merging the Fuel data into the test data"
      ]
    },
    {
      "cell_type": "markdown",
      "metadata": {
        "id": "6wzLtS69XNnd"
      },
      "source": [
        "###Impute Missing Values"
      ]
    },
    {
      "cell_type": "code",
      "execution_count": 364,
      "metadata": {
        "colab": {
          "base_uri": "https://localhost:8080/"
        },
        "id": "DpKUfFFXXQ98",
        "outputId": "98eb30cb-53dd-4cb9-c017-e05f3f5ee94f"
      },
      "outputs": [
        {
          "output_type": "execute_result",
          "data": {
            "text/plain": [
              "fare_amount                       0\n",
              "pickup_datetime                   0\n",
              "pickup_longitude                  0\n",
              "pickup_latitude                   0\n",
              "dropoff_longitude                 0\n",
              "dropoff_latitude                  0\n",
              "passenger_count                   0\n",
              "is_weekend                        0\n",
              "is_holiday                        0\n",
              "hour                              0\n",
              "Date                              0\n",
              "trip_distance                     0\n",
              "jfk_drop_distance                 0\n",
              "lga_drop_distance                 0\n",
              "ewr_drop_distance                 0\n",
              "met_drop_distance                 0\n",
              "wtc_drop_distance                 0\n",
              "New York State Average ($/gal)    0\n",
              "dtype: int64"
            ]
          },
          "metadata": {},
          "execution_count": 364
        }
      ],
      "source": [
        "train_df.isna().sum()"
      ]
    },
    {
      "cell_type": "code",
      "execution_count": 365,
      "metadata": {
        "colab": {
          "base_uri": "https://localhost:8080/"
        },
        "id": "BIxNHsThoJ6S",
        "outputId": "8fe9a53c-dec9-496e-b3d1-d25a646bafb7"
      },
      "outputs": [
        {
          "output_type": "execute_result",
          "data": {
            "text/plain": [
              "fare_amount                       0\n",
              "pickup_datetime                   0\n",
              "pickup_longitude                  0\n",
              "pickup_latitude                   0\n",
              "dropoff_longitude                 0\n",
              "dropoff_latitude                  0\n",
              "passenger_count                   0\n",
              "is_weekend                        0\n",
              "is_holiday                        0\n",
              "hour                              0\n",
              "Date                              0\n",
              "trip_distance                     0\n",
              "jfk_drop_distance                 0\n",
              "lga_drop_distance                 0\n",
              "ewr_drop_distance                 0\n",
              "met_drop_distance                 0\n",
              "wtc_drop_distance                 0\n",
              "New York State Average ($/gal)    0\n",
              "dtype: int64"
            ]
          },
          "metadata": {},
          "execution_count": 365
        }
      ],
      "source": [
        "val_df.isna().sum() "
      ]
    },
    {
      "cell_type": "code",
      "execution_count": 366,
      "metadata": {
        "colab": {
          "base_uri": "https://localhost:8080/"
        },
        "id": "7pVBzxbQXTyB",
        "outputId": "927af486-cb9c-4477-cf00-5a0ce7a6eca9"
      },
      "outputs": [
        {
          "output_type": "execute_result",
          "data": {
            "text/plain": [
              "key                               0\n",
              "pickup_datetime                   0\n",
              "pickup_longitude                  0\n",
              "pickup_latitude                   0\n",
              "dropoff_longitude                 0\n",
              "dropoff_latitude                  0\n",
              "passenger_count                   0\n",
              "is_weekend                        0\n",
              "is_holiday                        0\n",
              "hour                              0\n",
              "Date                              0\n",
              "trip_distance                     0\n",
              "jfk_drop_distance                 0\n",
              "lga_drop_distance                 0\n",
              "ewr_drop_distance                 0\n",
              "met_drop_distance                 0\n",
              "wtc_drop_distance                 0\n",
              "New York State Average ($/gal)    0\n",
              "dtype: int64"
            ]
          },
          "metadata": {},
          "execution_count": 366
        }
      ],
      "source": [
        "test_df.isna().sum() "
      ]
    },
    {
      "cell_type": "markdown",
      "metadata": {
        "id": "IIIAi4l4o1vt"
      },
      "source": [
        "###Remove Outliers & Invalid Data"
      ]
    },
    {
      "cell_type": "code",
      "execution_count": 367,
      "metadata": {
        "colab": {
          "base_uri": "https://localhost:8080/",
          "height": 416
        },
        "id": "CqulPnELokOE",
        "outputId": "428bb042-17c0-4c69-faf7-d4ab5adb54fb"
      },
      "outputs": [
        {
          "output_type": "execute_result",
          "data": {
            "text/plain": [
              "       pickup_longitude  pickup_latitude  dropoff_longitude  dropoff_latitude  \\\n",
              "count       9914.000000      9914.000000        9914.000000       9914.000000   \n",
              "mean         -73.974716        40.751041         -73.973656         40.751740   \n",
              "std            0.042774         0.033541           0.039072          0.035435   \n",
              "min          -74.252190        40.573143         -74.263245         40.568974   \n",
              "25%          -73.992500        40.736125         -73.991249         40.735253   \n",
              "50%          -73.982327        40.753052         -73.980015         40.754065   \n",
              "75%          -73.968012        40.767113         -73.964062         40.768757   \n",
              "max          -72.986534        41.709557         -72.990967         41.696682   \n",
              "\n",
              "       passenger_count         hour  trip_distance  jfk_drop_distance  \\\n",
              "count      9914.000000  9914.000000    9914.000000        9914.000000   \n",
              "mean          1.671273    13.467420       3.433216          20.916754   \n",
              "std           1.278747     6.868584       3.969883           3.303943   \n",
              "min           1.000000     0.000000       0.000000           0.401900   \n",
              "25%           1.000000     8.000000       1.297261          20.513337   \n",
              "50%           1.000000    15.000000       2.215648          21.181472   \n",
              "75%           2.000000    19.000000       4.043051          21.909794   \n",
              "max           6.000000    23.000000      99.933281         134.497726   \n",
              "\n",
              "       lga_drop_distance  ewr_drop_distance  met_drop_distance  \\\n",
              "count        9914.000000        9914.000000        9914.000000   \n",
              "mean            9.675180          18.546659           4.512898   \n",
              "std             3.295647           4.035820           4.018427   \n",
              "min             0.285629           0.284680           0.085747   \n",
              "25%             8.311565          16.520517           2.126287   \n",
              "50%             9.477797          18.024350           3.698123   \n",
              "75%            10.965272          19.880536           5.922544   \n",
              "max           126.062576         149.400787         130.347153   \n",
              "\n",
              "       wtc_drop_distance  New York State Average ($/gal)  \n",
              "count        9914.000000                     9914.000000  \n",
              "mean            6.037652                        3.845101  \n",
              "std             4.252539                        0.557749  \n",
              "min             0.040269                        2.610000  \n",
              "25%             3.670107                        3.260000  \n",
              "50%             5.541466                        4.170000  \n",
              "75%             7.757612                        4.290000  \n",
              "max           138.619492                        4.470000  "
            ],
            "text/html": [
              "\n",
              "  <div id=\"df-57b97cde-0316-4d19-bf89-6fbeec86ee97\">\n",
              "    <div class=\"colab-df-container\">\n",
              "      <div>\n",
              "<style scoped>\n",
              "    .dataframe tbody tr th:only-of-type {\n",
              "        vertical-align: middle;\n",
              "    }\n",
              "\n",
              "    .dataframe tbody tr th {\n",
              "        vertical-align: top;\n",
              "    }\n",
              "\n",
              "    .dataframe thead th {\n",
              "        text-align: right;\n",
              "    }\n",
              "</style>\n",
              "<table border=\"1\" class=\"dataframe\">\n",
              "  <thead>\n",
              "    <tr style=\"text-align: right;\">\n",
              "      <th></th>\n",
              "      <th>pickup_longitude</th>\n",
              "      <th>pickup_latitude</th>\n",
              "      <th>dropoff_longitude</th>\n",
              "      <th>dropoff_latitude</th>\n",
              "      <th>passenger_count</th>\n",
              "      <th>hour</th>\n",
              "      <th>trip_distance</th>\n",
              "      <th>jfk_drop_distance</th>\n",
              "      <th>lga_drop_distance</th>\n",
              "      <th>ewr_drop_distance</th>\n",
              "      <th>met_drop_distance</th>\n",
              "      <th>wtc_drop_distance</th>\n",
              "      <th>New York State Average ($/gal)</th>\n",
              "    </tr>\n",
              "  </thead>\n",
              "  <tbody>\n",
              "    <tr>\n",
              "      <th>count</th>\n",
              "      <td>9914.000000</td>\n",
              "      <td>9914.000000</td>\n",
              "      <td>9914.000000</td>\n",
              "      <td>9914.000000</td>\n",
              "      <td>9914.000000</td>\n",
              "      <td>9914.000000</td>\n",
              "      <td>9914.000000</td>\n",
              "      <td>9914.000000</td>\n",
              "      <td>9914.000000</td>\n",
              "      <td>9914.000000</td>\n",
              "      <td>9914.000000</td>\n",
              "      <td>9914.000000</td>\n",
              "      <td>9914.000000</td>\n",
              "    </tr>\n",
              "    <tr>\n",
              "      <th>mean</th>\n",
              "      <td>-73.974716</td>\n",
              "      <td>40.751041</td>\n",
              "      <td>-73.973656</td>\n",
              "      <td>40.751740</td>\n",
              "      <td>1.671273</td>\n",
              "      <td>13.467420</td>\n",
              "      <td>3.433216</td>\n",
              "      <td>20.916754</td>\n",
              "      <td>9.675180</td>\n",
              "      <td>18.546659</td>\n",
              "      <td>4.512898</td>\n",
              "      <td>6.037652</td>\n",
              "      <td>3.845101</td>\n",
              "    </tr>\n",
              "    <tr>\n",
              "      <th>std</th>\n",
              "      <td>0.042774</td>\n",
              "      <td>0.033541</td>\n",
              "      <td>0.039072</td>\n",
              "      <td>0.035435</td>\n",
              "      <td>1.278747</td>\n",
              "      <td>6.868584</td>\n",
              "      <td>3.969883</td>\n",
              "      <td>3.303943</td>\n",
              "      <td>3.295647</td>\n",
              "      <td>4.035820</td>\n",
              "      <td>4.018427</td>\n",
              "      <td>4.252539</td>\n",
              "      <td>0.557749</td>\n",
              "    </tr>\n",
              "    <tr>\n",
              "      <th>min</th>\n",
              "      <td>-74.252190</td>\n",
              "      <td>40.573143</td>\n",
              "      <td>-74.263245</td>\n",
              "      <td>40.568974</td>\n",
              "      <td>1.000000</td>\n",
              "      <td>0.000000</td>\n",
              "      <td>0.000000</td>\n",
              "      <td>0.401900</td>\n",
              "      <td>0.285629</td>\n",
              "      <td>0.284680</td>\n",
              "      <td>0.085747</td>\n",
              "      <td>0.040269</td>\n",
              "      <td>2.610000</td>\n",
              "    </tr>\n",
              "    <tr>\n",
              "      <th>25%</th>\n",
              "      <td>-73.992500</td>\n",
              "      <td>40.736125</td>\n",
              "      <td>-73.991249</td>\n",
              "      <td>40.735253</td>\n",
              "      <td>1.000000</td>\n",
              "      <td>8.000000</td>\n",
              "      <td>1.297261</td>\n",
              "      <td>20.513337</td>\n",
              "      <td>8.311565</td>\n",
              "      <td>16.520517</td>\n",
              "      <td>2.126287</td>\n",
              "      <td>3.670107</td>\n",
              "      <td>3.260000</td>\n",
              "    </tr>\n",
              "    <tr>\n",
              "      <th>50%</th>\n",
              "      <td>-73.982327</td>\n",
              "      <td>40.753052</td>\n",
              "      <td>-73.980015</td>\n",
              "      <td>40.754065</td>\n",
              "      <td>1.000000</td>\n",
              "      <td>15.000000</td>\n",
              "      <td>2.215648</td>\n",
              "      <td>21.181472</td>\n",
              "      <td>9.477797</td>\n",
              "      <td>18.024350</td>\n",
              "      <td>3.698123</td>\n",
              "      <td>5.541466</td>\n",
              "      <td>4.170000</td>\n",
              "    </tr>\n",
              "    <tr>\n",
              "      <th>75%</th>\n",
              "      <td>-73.968012</td>\n",
              "      <td>40.767113</td>\n",
              "      <td>-73.964062</td>\n",
              "      <td>40.768757</td>\n",
              "      <td>2.000000</td>\n",
              "      <td>19.000000</td>\n",
              "      <td>4.043051</td>\n",
              "      <td>21.909794</td>\n",
              "      <td>10.965272</td>\n",
              "      <td>19.880536</td>\n",
              "      <td>5.922544</td>\n",
              "      <td>7.757612</td>\n",
              "      <td>4.290000</td>\n",
              "    </tr>\n",
              "    <tr>\n",
              "      <th>max</th>\n",
              "      <td>-72.986534</td>\n",
              "      <td>41.709557</td>\n",
              "      <td>-72.990967</td>\n",
              "      <td>41.696682</td>\n",
              "      <td>6.000000</td>\n",
              "      <td>23.000000</td>\n",
              "      <td>99.933281</td>\n",
              "      <td>134.497726</td>\n",
              "      <td>126.062576</td>\n",
              "      <td>149.400787</td>\n",
              "      <td>130.347153</td>\n",
              "      <td>138.619492</td>\n",
              "      <td>4.470000</td>\n",
              "    </tr>\n",
              "  </tbody>\n",
              "</table>\n",
              "</div>\n",
              "      <button class=\"colab-df-convert\" onclick=\"convertToInteractive('df-57b97cde-0316-4d19-bf89-6fbeec86ee97')\"\n",
              "              title=\"Convert this dataframe to an interactive table.\"\n",
              "              style=\"display:none;\">\n",
              "        \n",
              "  <svg xmlns=\"http://www.w3.org/2000/svg\" height=\"24px\"viewBox=\"0 0 24 24\"\n",
              "       width=\"24px\">\n",
              "    <path d=\"M0 0h24v24H0V0z\" fill=\"none\"/>\n",
              "    <path d=\"M18.56 5.44l.94 2.06.94-2.06 2.06-.94-2.06-.94-.94-2.06-.94 2.06-2.06.94zm-11 1L8.5 8.5l.94-2.06 2.06-.94-2.06-.94L8.5 2.5l-.94 2.06-2.06.94zm10 10l.94 2.06.94-2.06 2.06-.94-2.06-.94-.94-2.06-.94 2.06-2.06.94z\"/><path d=\"M17.41 7.96l-1.37-1.37c-.4-.4-.92-.59-1.43-.59-.52 0-1.04.2-1.43.59L10.3 9.45l-7.72 7.72c-.78.78-.78 2.05 0 2.83L4 21.41c.39.39.9.59 1.41.59.51 0 1.02-.2 1.41-.59l7.78-7.78 2.81-2.81c.8-.78.8-2.07 0-2.86zM5.41 20L4 18.59l7.72-7.72 1.47 1.35L5.41 20z\"/>\n",
              "  </svg>\n",
              "      </button>\n",
              "      \n",
              "  <style>\n",
              "    .colab-df-container {\n",
              "      display:flex;\n",
              "      flex-wrap:wrap;\n",
              "      gap: 12px;\n",
              "    }\n",
              "\n",
              "    .colab-df-convert {\n",
              "      background-color: #E8F0FE;\n",
              "      border: none;\n",
              "      border-radius: 50%;\n",
              "      cursor: pointer;\n",
              "      display: none;\n",
              "      fill: #1967D2;\n",
              "      height: 32px;\n",
              "      padding: 0 0 0 0;\n",
              "      width: 32px;\n",
              "    }\n",
              "\n",
              "    .colab-df-convert:hover {\n",
              "      background-color: #E2EBFA;\n",
              "      box-shadow: 0px 1px 2px rgba(60, 64, 67, 0.3), 0px 1px 3px 1px rgba(60, 64, 67, 0.15);\n",
              "      fill: #174EA6;\n",
              "    }\n",
              "\n",
              "    [theme=dark] .colab-df-convert {\n",
              "      background-color: #3B4455;\n",
              "      fill: #D2E3FC;\n",
              "    }\n",
              "\n",
              "    [theme=dark] .colab-df-convert:hover {\n",
              "      background-color: #434B5C;\n",
              "      box-shadow: 0px 1px 3px 1px rgba(0, 0, 0, 0.15);\n",
              "      filter: drop-shadow(0px 1px 2px rgba(0, 0, 0, 0.3));\n",
              "      fill: #FFFFFF;\n",
              "    }\n",
              "  </style>\n",
              "\n",
              "      <script>\n",
              "        const buttonEl =\n",
              "          document.querySelector('#df-57b97cde-0316-4d19-bf89-6fbeec86ee97 button.colab-df-convert');\n",
              "        buttonEl.style.display =\n",
              "          google.colab.kernel.accessAllowed ? 'block' : 'none';\n",
              "\n",
              "        async function convertToInteractive(key) {\n",
              "          const element = document.querySelector('#df-57b97cde-0316-4d19-bf89-6fbeec86ee97');\n",
              "          const dataTable =\n",
              "            await google.colab.kernel.invokeFunction('convertToInteractive',\n",
              "                                                     [key], {});\n",
              "          if (!dataTable) return;\n",
              "\n",
              "          const docLinkHtml = 'Like what you see? Visit the ' +\n",
              "            '<a target=\"_blank\" href=https://colab.research.google.com/notebooks/data_table.ipynb>data table notebook</a>'\n",
              "            + ' to learn more about interactive tables.';\n",
              "          element.innerHTML = '';\n",
              "          dataTable['output_type'] = 'display_data';\n",
              "          await google.colab.output.renderOutput(dataTable, element);\n",
              "          const docLink = document.createElement('div');\n",
              "          docLink.innerHTML = docLinkHtml;\n",
              "          element.appendChild(docLink);\n",
              "        }\n",
              "      </script>\n",
              "    </div>\n",
              "  </div>\n",
              "  "
            ]
          },
          "metadata": {},
          "execution_count": 367
        }
      ],
      "source": [
        "test_df.describe()"
      ]
    },
    {
      "cell_type": "markdown",
      "metadata": {
        "id": "7lWyu2_sp4hN"
      },
      "source": [
        "Taking into account the statics obtained above, we can use the follwoing ranges:\n",
        "  - fare_amount: $1 to  $500\n",
        "  - longitudes: -75 to -72\n",
        "  - latitudes: 40 to 42\n",
        "  - passenger_count: 1 to 6"
      ]
    },
    {
      "cell_type": "code",
      "execution_count": 368,
      "metadata": {
        "id": "3XfOkpjTprBk"
      },
      "outputs": [],
      "source": [
        "def remove_outliers(df):\n",
        "    return df[(df['fare_amount'] >= 1.) & (df['fare_amount'] <= 500.) & (df['pickup_longitude'] >= -75) & (df['pickup_longitude'] <= -72) & \n",
        "              (df['dropoff_longitude'] >= -75) & (df['dropoff_longitude'] <= -72) & (df['pickup_latitude'] >= 40) & (df['pickup_latitude'] <= 42) & \n",
        "              (df['dropoff_latitude'] >=40) & (df['dropoff_latitude'] <= 42) & (df['passenger_count'] >= 1) & (df['passenger_count'] <= 6)]"
      ]
    },
    {
      "cell_type": "code",
      "execution_count": 369,
      "metadata": {
        "colab": {
          "base_uri": "https://localhost:8080/",
          "height": 730
        },
        "id": "dCwRSKdlqWLw",
        "outputId": "8f3cb5d8-f017-4b7d-eb79-6ec64f0e6c8f"
      },
      "outputs": [
        {
          "output_type": "execute_result",
          "data": {
            "text/plain": [
              "         fare_amount           pickup_datetime  pickup_longitude  \\\n",
              "0           7.000000 2013-06-21 19:20:00+00:00        -73.986603   \n",
              "1           4.500000 2014-01-09 18:36:00+00:00        -73.982513   \n",
              "2           6.500000 2010-11-07 06:10:00+00:00        -73.988365   \n",
              "3          25.299999 2009-11-02 08:07:00+00:00        -73.991158   \n",
              "4           7.300000 2010-05-25 23:15:23+00:00        -73.980354   \n",
              "...              ...                       ...               ...   \n",
              "1329366     6.500000 2013-08-17 21:02:16+00:00        -73.962624   \n",
              "1329367    40.500000 2010-04-12 16:52:11+00:00        -73.985069   \n",
              "1329368     7.700000 2010-10-16 09:48:35+00:00        -73.983635   \n",
              "1329369     8.500000 2011-09-07 12:30:19+00:00        -73.966866   \n",
              "1329370     9.500000 2014-04-19 16:29:44+00:00        -73.975594   \n",
              "\n",
              "         pickup_latitude  dropoff_longitude  dropoff_latitude  \\\n",
              "0              40.777008         -73.983513         40.762398   \n",
              "1              40.775196         -73.985092         40.769451   \n",
              "2              40.737541         -73.990646         40.756027   \n",
              "3              40.749142         -73.982712         40.756866   \n",
              "4              40.780384         -73.955025         40.800144   \n",
              "...                  ...                ...               ...   \n",
              "1329366        40.763153         -73.973259         40.750961   \n",
              "1329367        40.758743         -73.990257         40.754696   \n",
              "1329368        40.738041         -73.969292         40.768490   \n",
              "1329369        40.756706         -73.980789         40.749470   \n",
              "1329370        40.756962         -73.981903         40.768478   \n",
              "\n",
              "         passenger_count  is_weekend  is_holiday  hour        Date  \\\n",
              "0                      2       False       False    19  2013-06-21   \n",
              "1                      5       False       False    18  2014-01-09   \n",
              "2                      1       False       False     6  2010-11-07   \n",
              "3                      1       False       False     8  2009-11-02   \n",
              "4                      1       False       False    23  2010-05-25   \n",
              "...                  ...         ...         ...   ...         ...   \n",
              "1329366                1       False       False    21  2013-08-17   \n",
              "1329367                1       False       False    16  2010-04-12   \n",
              "1329368                3       False       False     9  2010-10-16   \n",
              "1329369                1       False       False    12  2011-09-07   \n",
              "1329370                1       False       False    16  2014-04-19   \n",
              "\n",
              "         trip_distance  jfk_drop_distance  lga_drop_distance  \\\n",
              "0             1.644263          21.921406           9.356100   \n",
              "1             0.674289          22.513548           9.385714   \n",
              "2             2.063207          21.981661          10.087758   \n",
              "3             1.114796          21.496013           9.416364   \n",
              "4             3.059984          23.100325           7.290286   \n",
              "...                ...                ...                ...   \n",
              "1329366       1.623849          20.465999           8.837469   \n",
              "1329367       0.627031          21.869701          10.091044   \n",
              "1329368       3.592625          21.428418           8.073380   \n",
              "1329369       1.421660          20.883614           9.491200   \n",
              "1329370       1.385553          22.237280           9.128883   \n",
              "\n",
              "         ewr_drop_distance  met_drop_distance  wtc_drop_distance  \\\n",
              "0                18.009067           2.547729           5.963304   \n",
              "1                18.257477           2.148751           6.653792   \n",
              "2                17.158174           3.476056           5.090721   \n",
              "3                17.802666           2.994468           5.425738   \n",
              "4                22.194601           2.405673          10.769313   \n",
              "...                    ...                ...                ...   \n",
              "1329366          18.273443           3.271681           5.262413   \n",
              "1329367          17.124931           3.566717           4.961840   \n",
              "1329368          19.382592           1.316138           7.089886   \n",
              "1329369          17.623306           3.640766           4.774326   \n",
              "1329370          18.440981           1.987703           6.641692   \n",
              "\n",
              "         New York State Average ($/gal)  \n",
              "0                                  4.17  \n",
              "1                                  4.21  \n",
              "2                                  3.31  \n",
              "3                                  3.02  \n",
              "4                                  3.29  \n",
              "...                                 ...  \n",
              "1329366                            4.20  \n",
              "1329367                            3.22  \n",
              "1329368                            3.26  \n",
              "1329369                            4.22  \n",
              "1329370                            4.39  \n",
              "\n",
              "[1296907 rows x 18 columns]"
            ],
            "text/html": [
              "\n",
              "  <div id=\"df-7011b426-7270-44ab-b1b3-dfd1902cf933\">\n",
              "    <div class=\"colab-df-container\">\n",
              "      <div>\n",
              "<style scoped>\n",
              "    .dataframe tbody tr th:only-of-type {\n",
              "        vertical-align: middle;\n",
              "    }\n",
              "\n",
              "    .dataframe tbody tr th {\n",
              "        vertical-align: top;\n",
              "    }\n",
              "\n",
              "    .dataframe thead th {\n",
              "        text-align: right;\n",
              "    }\n",
              "</style>\n",
              "<table border=\"1\" class=\"dataframe\">\n",
              "  <thead>\n",
              "    <tr style=\"text-align: right;\">\n",
              "      <th></th>\n",
              "      <th>fare_amount</th>\n",
              "      <th>pickup_datetime</th>\n",
              "      <th>pickup_longitude</th>\n",
              "      <th>pickup_latitude</th>\n",
              "      <th>dropoff_longitude</th>\n",
              "      <th>dropoff_latitude</th>\n",
              "      <th>passenger_count</th>\n",
              "      <th>is_weekend</th>\n",
              "      <th>is_holiday</th>\n",
              "      <th>hour</th>\n",
              "      <th>Date</th>\n",
              "      <th>trip_distance</th>\n",
              "      <th>jfk_drop_distance</th>\n",
              "      <th>lga_drop_distance</th>\n",
              "      <th>ewr_drop_distance</th>\n",
              "      <th>met_drop_distance</th>\n",
              "      <th>wtc_drop_distance</th>\n",
              "      <th>New York State Average ($/gal)</th>\n",
              "    </tr>\n",
              "  </thead>\n",
              "  <tbody>\n",
              "    <tr>\n",
              "      <th>0</th>\n",
              "      <td>7.000000</td>\n",
              "      <td>2013-06-21 19:20:00+00:00</td>\n",
              "      <td>-73.986603</td>\n",
              "      <td>40.777008</td>\n",
              "      <td>-73.983513</td>\n",
              "      <td>40.762398</td>\n",
              "      <td>2</td>\n",
              "      <td>False</td>\n",
              "      <td>False</td>\n",
              "      <td>19</td>\n",
              "      <td>2013-06-21</td>\n",
              "      <td>1.644263</td>\n",
              "      <td>21.921406</td>\n",
              "      <td>9.356100</td>\n",
              "      <td>18.009067</td>\n",
              "      <td>2.547729</td>\n",
              "      <td>5.963304</td>\n",
              "      <td>4.17</td>\n",
              "    </tr>\n",
              "    <tr>\n",
              "      <th>1</th>\n",
              "      <td>4.500000</td>\n",
              "      <td>2014-01-09 18:36:00+00:00</td>\n",
              "      <td>-73.982513</td>\n",
              "      <td>40.775196</td>\n",
              "      <td>-73.985092</td>\n",
              "      <td>40.769451</td>\n",
              "      <td>5</td>\n",
              "      <td>False</td>\n",
              "      <td>False</td>\n",
              "      <td>18</td>\n",
              "      <td>2014-01-09</td>\n",
              "      <td>0.674289</td>\n",
              "      <td>22.513548</td>\n",
              "      <td>9.385714</td>\n",
              "      <td>18.257477</td>\n",
              "      <td>2.148751</td>\n",
              "      <td>6.653792</td>\n",
              "      <td>4.21</td>\n",
              "    </tr>\n",
              "    <tr>\n",
              "      <th>2</th>\n",
              "      <td>6.500000</td>\n",
              "      <td>2010-11-07 06:10:00+00:00</td>\n",
              "      <td>-73.988365</td>\n",
              "      <td>40.737541</td>\n",
              "      <td>-73.990646</td>\n",
              "      <td>40.756027</td>\n",
              "      <td>1</td>\n",
              "      <td>False</td>\n",
              "      <td>False</td>\n",
              "      <td>6</td>\n",
              "      <td>2010-11-07</td>\n",
              "      <td>2.063207</td>\n",
              "      <td>21.981661</td>\n",
              "      <td>10.087758</td>\n",
              "      <td>17.158174</td>\n",
              "      <td>3.476056</td>\n",
              "      <td>5.090721</td>\n",
              "      <td>3.31</td>\n",
              "    </tr>\n",
              "    <tr>\n",
              "      <th>3</th>\n",
              "      <td>25.299999</td>\n",
              "      <td>2009-11-02 08:07:00+00:00</td>\n",
              "      <td>-73.991158</td>\n",
              "      <td>40.749142</td>\n",
              "      <td>-73.982712</td>\n",
              "      <td>40.756866</td>\n",
              "      <td>1</td>\n",
              "      <td>False</td>\n",
              "      <td>False</td>\n",
              "      <td>8</td>\n",
              "      <td>2009-11-02</td>\n",
              "      <td>1.114796</td>\n",
              "      <td>21.496013</td>\n",
              "      <td>9.416364</td>\n",
              "      <td>17.802666</td>\n",
              "      <td>2.994468</td>\n",
              "      <td>5.425738</td>\n",
              "      <td>3.02</td>\n",
              "    </tr>\n",
              "    <tr>\n",
              "      <th>4</th>\n",
              "      <td>7.300000</td>\n",
              "      <td>2010-05-25 23:15:23+00:00</td>\n",
              "      <td>-73.980354</td>\n",
              "      <td>40.780384</td>\n",
              "      <td>-73.955025</td>\n",
              "      <td>40.800144</td>\n",
              "      <td>1</td>\n",
              "      <td>False</td>\n",
              "      <td>False</td>\n",
              "      <td>23</td>\n",
              "      <td>2010-05-25</td>\n",
              "      <td>3.059984</td>\n",
              "      <td>23.100325</td>\n",
              "      <td>7.290286</td>\n",
              "      <td>22.194601</td>\n",
              "      <td>2.405673</td>\n",
              "      <td>10.769313</td>\n",
              "      <td>3.29</td>\n",
              "    </tr>\n",
              "    <tr>\n",
              "      <th>...</th>\n",
              "      <td>...</td>\n",
              "      <td>...</td>\n",
              "      <td>...</td>\n",
              "      <td>...</td>\n",
              "      <td>...</td>\n",
              "      <td>...</td>\n",
              "      <td>...</td>\n",
              "      <td>...</td>\n",
              "      <td>...</td>\n",
              "      <td>...</td>\n",
              "      <td>...</td>\n",
              "      <td>...</td>\n",
              "      <td>...</td>\n",
              "      <td>...</td>\n",
              "      <td>...</td>\n",
              "      <td>...</td>\n",
              "      <td>...</td>\n",
              "      <td>...</td>\n",
              "    </tr>\n",
              "    <tr>\n",
              "      <th>1329366</th>\n",
              "      <td>6.500000</td>\n",
              "      <td>2013-08-17 21:02:16+00:00</td>\n",
              "      <td>-73.962624</td>\n",
              "      <td>40.763153</td>\n",
              "      <td>-73.973259</td>\n",
              "      <td>40.750961</td>\n",
              "      <td>1</td>\n",
              "      <td>False</td>\n",
              "      <td>False</td>\n",
              "      <td>21</td>\n",
              "      <td>2013-08-17</td>\n",
              "      <td>1.623849</td>\n",
              "      <td>20.465999</td>\n",
              "      <td>8.837469</td>\n",
              "      <td>18.273443</td>\n",
              "      <td>3.271681</td>\n",
              "      <td>5.262413</td>\n",
              "      <td>4.20</td>\n",
              "    </tr>\n",
              "    <tr>\n",
              "      <th>1329367</th>\n",
              "      <td>40.500000</td>\n",
              "      <td>2010-04-12 16:52:11+00:00</td>\n",
              "      <td>-73.985069</td>\n",
              "      <td>40.758743</td>\n",
              "      <td>-73.990257</td>\n",
              "      <td>40.754696</td>\n",
              "      <td>1</td>\n",
              "      <td>False</td>\n",
              "      <td>False</td>\n",
              "      <td>16</td>\n",
              "      <td>2010-04-12</td>\n",
              "      <td>0.627031</td>\n",
              "      <td>21.869701</td>\n",
              "      <td>10.091044</td>\n",
              "      <td>17.124931</td>\n",
              "      <td>3.566717</td>\n",
              "      <td>4.961840</td>\n",
              "      <td>3.22</td>\n",
              "    </tr>\n",
              "    <tr>\n",
              "      <th>1329368</th>\n",
              "      <td>7.700000</td>\n",
              "      <td>2010-10-16 09:48:35+00:00</td>\n",
              "      <td>-73.983635</td>\n",
              "      <td>40.738041</td>\n",
              "      <td>-73.969292</td>\n",
              "      <td>40.768490</td>\n",
              "      <td>3</td>\n",
              "      <td>False</td>\n",
              "      <td>False</td>\n",
              "      <td>9</td>\n",
              "      <td>2010-10-16</td>\n",
              "      <td>3.592625</td>\n",
              "      <td>21.428418</td>\n",
              "      <td>8.073380</td>\n",
              "      <td>19.382592</td>\n",
              "      <td>1.316138</td>\n",
              "      <td>7.089886</td>\n",
              "      <td>3.26</td>\n",
              "    </tr>\n",
              "    <tr>\n",
              "      <th>1329369</th>\n",
              "      <td>8.500000</td>\n",
              "      <td>2011-09-07 12:30:19+00:00</td>\n",
              "      <td>-73.966866</td>\n",
              "      <td>40.756706</td>\n",
              "      <td>-73.980789</td>\n",
              "      <td>40.749470</td>\n",
              "      <td>1</td>\n",
              "      <td>False</td>\n",
              "      <td>False</td>\n",
              "      <td>12</td>\n",
              "      <td>2011-09-07</td>\n",
              "      <td>1.421660</td>\n",
              "      <td>20.883614</td>\n",
              "      <td>9.491200</td>\n",
              "      <td>17.623306</td>\n",
              "      <td>3.640766</td>\n",
              "      <td>4.774326</td>\n",
              "      <td>4.22</td>\n",
              "    </tr>\n",
              "    <tr>\n",
              "      <th>1329370</th>\n",
              "      <td>9.500000</td>\n",
              "      <td>2014-04-19 16:29:44+00:00</td>\n",
              "      <td>-73.975594</td>\n",
              "      <td>40.756962</td>\n",
              "      <td>-73.981903</td>\n",
              "      <td>40.768478</td>\n",
              "      <td>1</td>\n",
              "      <td>False</td>\n",
              "      <td>False</td>\n",
              "      <td>16</td>\n",
              "      <td>2014-04-19</td>\n",
              "      <td>1.385553</td>\n",
              "      <td>22.237280</td>\n",
              "      <td>9.128883</td>\n",
              "      <td>18.440981</td>\n",
              "      <td>1.987703</td>\n",
              "      <td>6.641692</td>\n",
              "      <td>4.39</td>\n",
              "    </tr>\n",
              "  </tbody>\n",
              "</table>\n",
              "<p>1296907 rows × 18 columns</p>\n",
              "</div>\n",
              "      <button class=\"colab-df-convert\" onclick=\"convertToInteractive('df-7011b426-7270-44ab-b1b3-dfd1902cf933')\"\n",
              "              title=\"Convert this dataframe to an interactive table.\"\n",
              "              style=\"display:none;\">\n",
              "        \n",
              "  <svg xmlns=\"http://www.w3.org/2000/svg\" height=\"24px\"viewBox=\"0 0 24 24\"\n",
              "       width=\"24px\">\n",
              "    <path d=\"M0 0h24v24H0V0z\" fill=\"none\"/>\n",
              "    <path d=\"M18.56 5.44l.94 2.06.94-2.06 2.06-.94-2.06-.94-.94-2.06-.94 2.06-2.06.94zm-11 1L8.5 8.5l.94-2.06 2.06-.94-2.06-.94L8.5 2.5l-.94 2.06-2.06.94zm10 10l.94 2.06.94-2.06 2.06-.94-2.06-.94-.94-2.06-.94 2.06-2.06.94z\"/><path d=\"M17.41 7.96l-1.37-1.37c-.4-.4-.92-.59-1.43-.59-.52 0-1.04.2-1.43.59L10.3 9.45l-7.72 7.72c-.78.78-.78 2.05 0 2.83L4 21.41c.39.39.9.59 1.41.59.51 0 1.02-.2 1.41-.59l7.78-7.78 2.81-2.81c.8-.78.8-2.07 0-2.86zM5.41 20L4 18.59l7.72-7.72 1.47 1.35L5.41 20z\"/>\n",
              "  </svg>\n",
              "      </button>\n",
              "      \n",
              "  <style>\n",
              "    .colab-df-container {\n",
              "      display:flex;\n",
              "      flex-wrap:wrap;\n",
              "      gap: 12px;\n",
              "    }\n",
              "\n",
              "    .colab-df-convert {\n",
              "      background-color: #E8F0FE;\n",
              "      border: none;\n",
              "      border-radius: 50%;\n",
              "      cursor: pointer;\n",
              "      display: none;\n",
              "      fill: #1967D2;\n",
              "      height: 32px;\n",
              "      padding: 0 0 0 0;\n",
              "      width: 32px;\n",
              "    }\n",
              "\n",
              "    .colab-df-convert:hover {\n",
              "      background-color: #E2EBFA;\n",
              "      box-shadow: 0px 1px 2px rgba(60, 64, 67, 0.3), 0px 1px 3px 1px rgba(60, 64, 67, 0.15);\n",
              "      fill: #174EA6;\n",
              "    }\n",
              "\n",
              "    [theme=dark] .colab-df-convert {\n",
              "      background-color: #3B4455;\n",
              "      fill: #D2E3FC;\n",
              "    }\n",
              "\n",
              "    [theme=dark] .colab-df-convert:hover {\n",
              "      background-color: #434B5C;\n",
              "      box-shadow: 0px 1px 3px 1px rgba(0, 0, 0, 0.15);\n",
              "      filter: drop-shadow(0px 1px 2px rgba(0, 0, 0, 0.3));\n",
              "      fill: #FFFFFF;\n",
              "    }\n",
              "  </style>\n",
              "\n",
              "      <script>\n",
              "        const buttonEl =\n",
              "          document.querySelector('#df-7011b426-7270-44ab-b1b3-dfd1902cf933 button.colab-df-convert');\n",
              "        buttonEl.style.display =\n",
              "          google.colab.kernel.accessAllowed ? 'block' : 'none';\n",
              "\n",
              "        async function convertToInteractive(key) {\n",
              "          const element = document.querySelector('#df-7011b426-7270-44ab-b1b3-dfd1902cf933');\n",
              "          const dataTable =\n",
              "            await google.colab.kernel.invokeFunction('convertToInteractive',\n",
              "                                                     [key], {});\n",
              "          if (!dataTable) return;\n",
              "\n",
              "          const docLinkHtml = 'Like what you see? Visit the ' +\n",
              "            '<a target=\"_blank\" href=https://colab.research.google.com/notebooks/data_table.ipynb>data table notebook</a>'\n",
              "            + ' to learn more about interactive tables.';\n",
              "          element.innerHTML = '';\n",
              "          dataTable['output_type'] = 'display_data';\n",
              "          await google.colab.output.renderOutput(dataTable, element);\n",
              "          const docLink = document.createElement('div');\n",
              "          docLink.innerHTML = docLinkHtml;\n",
              "          element.appendChild(docLink);\n",
              "        }\n",
              "      </script>\n",
              "    </div>\n",
              "  </div>\n",
              "  "
            ]
          },
          "metadata": {},
          "execution_count": 369
        }
      ],
      "source": [
        "remove_outliers(train_df)"
      ]
    },
    {
      "cell_type": "code",
      "execution_count": 370,
      "metadata": {
        "colab": {
          "base_uri": "https://localhost:8080/",
          "height": 730
        },
        "id": "Jd3tgQSOqhBI",
        "outputId": "a7417698-f22c-4cc4-b917-61b5d98d0bd8"
      },
      "outputs": [
        {
          "output_type": "execute_result",
          "data": {
            "text/plain": [
              "        fare_amount           pickup_datetime  pickup_longitude  \\\n",
              "0          4.100000 2009-03-15 19:34:00+00:00        -73.965759   \n",
              "1         11.500000 2014-10-10 19:19:23+00:00        -73.947441   \n",
              "2         14.900000 2010-11-14 22:19:00+00:00        -73.975182   \n",
              "3          3.500000 2014-05-12 10:25:46+00:00        -73.989113   \n",
              "4          5.000000 2014-02-03 01:02:28+00:00        -73.921646   \n",
              "...             ...                       ...               ...   \n",
              "332341     6.500000 2012-07-11 20:09:00+00:00        -73.977676   \n",
              "332342    10.000000 2013-07-04 11:53:19+00:00        -73.977531   \n",
              "332343     6.500000 2012-07-31 15:57:40+00:00        -73.956017   \n",
              "332344    56.799999 2012-10-09 19:14:00+00:00        -73.789238   \n",
              "332345     6.900000 2010-04-01 23:54:17+00:00        -74.010979   \n",
              "\n",
              "        pickup_latitude  dropoff_longitude  dropoff_latitude  passenger_count  \\\n",
              "0             40.773941         -73.955383         40.775158                2   \n",
              "1             40.783585         -73.969872         40.756138                1   \n",
              "2             40.733097         -73.994156         40.686237                1   \n",
              "3             40.748135         -73.989113         40.748135                1   \n",
              "4             40.767036         -73.914055         40.759014                1   \n",
              "...                 ...                ...               ...              ...   \n",
              "332341        40.746468         -73.962479         40.766636                1   \n",
              "332342        40.758072         -73.951759         40.769730                1   \n",
              "332343        40.785038         -73.964355         40.768024                1   \n",
              "332344        40.646133         -73.970551         40.756645                5   \n",
              "332345        40.710999         -73.999542         40.723389                1   \n",
              "\n",
              "        is_weekend  is_holiday  hour        Date  trip_distance  \\\n",
              "0            False       False    19  2009-03-15       0.883488   \n",
              "1            False       False    19  2014-10-10       3.586975   \n",
              "2            False       False    22  2010-11-14       5.446932   \n",
              "3            False       False    10  2014-05-12       0.000000   \n",
              "4            False       False     1  2014-02-03       1.096974   \n",
              "...            ...         ...   ...         ...            ...   \n",
              "332341       False       False    20  2012-07-11       2.580712   \n",
              "332342       False       False    11  2013-07-04       2.526998   \n",
              "332343       False       False    15  2012-07-31       2.016728   \n",
              "332344       False       False    19  2012-10-09      19.599277   \n",
              "332345       False       False    23  2010-04-01       1.680533   \n",
              "\n",
              "        jfk_drop_distance  lga_drop_distance  ewr_drop_distance  \\\n",
              "0               21.078148           6.851129          20.761919   \n",
              "1               20.588648           8.391970          18.757540   \n",
              "2               18.884666          14.278491          15.200688   \n",
              "3               21.378151          10.202284          16.919353   \n",
              "4               17.386938           3.913147          23.254728   \n",
              "...                   ...                ...                ...   \n",
              "332341          20.862862           7.532883          19.805904   \n",
              "332342          20.437653           6.591766          20.768559   \n",
              "332343          21.083412           7.667755          19.730917   \n",
              "332344          20.668571           8.432059          18.726952   \n",
              "332345          20.771173          12.126464          15.212222   \n",
              "\n",
              "        met_drop_distance  wtc_drop_distance  New York State Average ($/gal)  \n",
              "0                0.809481           8.330369                            2.69  \n",
              "1                2.644982           5.896741                            4.05  \n",
              "2               10.675554           3.215672                            3.32  \n",
              "3                4.101915           4.319462                            4.33  \n",
              "4                4.716121           9.578014                            4.32  \n",
              "...                   ...                ...                             ...  \n",
              "332341           1.419510           7.211180                            4.03  \n",
              "332342           1.443016           8.017034                            4.16  \n",
              "332343           1.267851           7.255141                            4.09  \n",
              "332344           2.603177           5.910473                            4.35  \n",
              "332345           6.935267           1.482844                            3.16  \n",
              "\n",
              "[323976 rows x 18 columns]"
            ],
            "text/html": [
              "\n",
              "  <div id=\"df-36cbc6b5-3b4d-41d8-85dc-f022bc25b833\">\n",
              "    <div class=\"colab-df-container\">\n",
              "      <div>\n",
              "<style scoped>\n",
              "    .dataframe tbody tr th:only-of-type {\n",
              "        vertical-align: middle;\n",
              "    }\n",
              "\n",
              "    .dataframe tbody tr th {\n",
              "        vertical-align: top;\n",
              "    }\n",
              "\n",
              "    .dataframe thead th {\n",
              "        text-align: right;\n",
              "    }\n",
              "</style>\n",
              "<table border=\"1\" class=\"dataframe\">\n",
              "  <thead>\n",
              "    <tr style=\"text-align: right;\">\n",
              "      <th></th>\n",
              "      <th>fare_amount</th>\n",
              "      <th>pickup_datetime</th>\n",
              "      <th>pickup_longitude</th>\n",
              "      <th>pickup_latitude</th>\n",
              "      <th>dropoff_longitude</th>\n",
              "      <th>dropoff_latitude</th>\n",
              "      <th>passenger_count</th>\n",
              "      <th>is_weekend</th>\n",
              "      <th>is_holiday</th>\n",
              "      <th>hour</th>\n",
              "      <th>Date</th>\n",
              "      <th>trip_distance</th>\n",
              "      <th>jfk_drop_distance</th>\n",
              "      <th>lga_drop_distance</th>\n",
              "      <th>ewr_drop_distance</th>\n",
              "      <th>met_drop_distance</th>\n",
              "      <th>wtc_drop_distance</th>\n",
              "      <th>New York State Average ($/gal)</th>\n",
              "    </tr>\n",
              "  </thead>\n",
              "  <tbody>\n",
              "    <tr>\n",
              "      <th>0</th>\n",
              "      <td>4.100000</td>\n",
              "      <td>2009-03-15 19:34:00+00:00</td>\n",
              "      <td>-73.965759</td>\n",
              "      <td>40.773941</td>\n",
              "      <td>-73.955383</td>\n",
              "      <td>40.775158</td>\n",
              "      <td>2</td>\n",
              "      <td>False</td>\n",
              "      <td>False</td>\n",
              "      <td>19</td>\n",
              "      <td>2009-03-15</td>\n",
              "      <td>0.883488</td>\n",
              "      <td>21.078148</td>\n",
              "      <td>6.851129</td>\n",
              "      <td>20.761919</td>\n",
              "      <td>0.809481</td>\n",
              "      <td>8.330369</td>\n",
              "      <td>2.69</td>\n",
              "    </tr>\n",
              "    <tr>\n",
              "      <th>1</th>\n",
              "      <td>11.500000</td>\n",
              "      <td>2014-10-10 19:19:23+00:00</td>\n",
              "      <td>-73.947441</td>\n",
              "      <td>40.783585</td>\n",
              "      <td>-73.969872</td>\n",
              "      <td>40.756138</td>\n",
              "      <td>1</td>\n",
              "      <td>False</td>\n",
              "      <td>False</td>\n",
              "      <td>19</td>\n",
              "      <td>2014-10-10</td>\n",
              "      <td>3.586975</td>\n",
              "      <td>20.588648</td>\n",
              "      <td>8.391970</td>\n",
              "      <td>18.757540</td>\n",
              "      <td>2.644982</td>\n",
              "      <td>5.896741</td>\n",
              "      <td>4.05</td>\n",
              "    </tr>\n",
              "    <tr>\n",
              "      <th>2</th>\n",
              "      <td>14.900000</td>\n",
              "      <td>2010-11-14 22:19:00+00:00</td>\n",
              "      <td>-73.975182</td>\n",
              "      <td>40.733097</td>\n",
              "      <td>-73.994156</td>\n",
              "      <td>40.686237</td>\n",
              "      <td>1</td>\n",
              "      <td>False</td>\n",
              "      <td>False</td>\n",
              "      <td>22</td>\n",
              "      <td>2010-11-14</td>\n",
              "      <td>5.446932</td>\n",
              "      <td>18.884666</td>\n",
              "      <td>14.278491</td>\n",
              "      <td>15.200688</td>\n",
              "      <td>10.675554</td>\n",
              "      <td>3.215672</td>\n",
              "      <td>3.32</td>\n",
              "    </tr>\n",
              "    <tr>\n",
              "      <th>3</th>\n",
              "      <td>3.500000</td>\n",
              "      <td>2014-05-12 10:25:46+00:00</td>\n",
              "      <td>-73.989113</td>\n",
              "      <td>40.748135</td>\n",
              "      <td>-73.989113</td>\n",
              "      <td>40.748135</td>\n",
              "      <td>1</td>\n",
              "      <td>False</td>\n",
              "      <td>False</td>\n",
              "      <td>10</td>\n",
              "      <td>2014-05-12</td>\n",
              "      <td>0.000000</td>\n",
              "      <td>21.378151</td>\n",
              "      <td>10.202284</td>\n",
              "      <td>16.919353</td>\n",
              "      <td>4.101915</td>\n",
              "      <td>4.319462</td>\n",
              "      <td>4.33</td>\n",
              "    </tr>\n",
              "    <tr>\n",
              "      <th>4</th>\n",
              "      <td>5.000000</td>\n",
              "      <td>2014-02-03 01:02:28+00:00</td>\n",
              "      <td>-73.921646</td>\n",
              "      <td>40.767036</td>\n",
              "      <td>-73.914055</td>\n",
              "      <td>40.759014</td>\n",
              "      <td>1</td>\n",
              "      <td>False</td>\n",
              "      <td>False</td>\n",
              "      <td>1</td>\n",
              "      <td>2014-02-03</td>\n",
              "      <td>1.096974</td>\n",
              "      <td>17.386938</td>\n",
              "      <td>3.913147</td>\n",
              "      <td>23.254728</td>\n",
              "      <td>4.716121</td>\n",
              "      <td>9.578014</td>\n",
              "      <td>4.32</td>\n",
              "    </tr>\n",
              "    <tr>\n",
              "      <th>...</th>\n",
              "      <td>...</td>\n",
              "      <td>...</td>\n",
              "      <td>...</td>\n",
              "      <td>...</td>\n",
              "      <td>...</td>\n",
              "      <td>...</td>\n",
              "      <td>...</td>\n",
              "      <td>...</td>\n",
              "      <td>...</td>\n",
              "      <td>...</td>\n",
              "      <td>...</td>\n",
              "      <td>...</td>\n",
              "      <td>...</td>\n",
              "      <td>...</td>\n",
              "      <td>...</td>\n",
              "      <td>...</td>\n",
              "      <td>...</td>\n",
              "      <td>...</td>\n",
              "    </tr>\n",
              "    <tr>\n",
              "      <th>332341</th>\n",
              "      <td>6.500000</td>\n",
              "      <td>2012-07-11 20:09:00+00:00</td>\n",
              "      <td>-73.977676</td>\n",
              "      <td>40.746468</td>\n",
              "      <td>-73.962479</td>\n",
              "      <td>40.766636</td>\n",
              "      <td>1</td>\n",
              "      <td>False</td>\n",
              "      <td>False</td>\n",
              "      <td>20</td>\n",
              "      <td>2012-07-11</td>\n",
              "      <td>2.580712</td>\n",
              "      <td>20.862862</td>\n",
              "      <td>7.532883</td>\n",
              "      <td>19.805904</td>\n",
              "      <td>1.419510</td>\n",
              "      <td>7.211180</td>\n",
              "      <td>4.03</td>\n",
              "    </tr>\n",
              "    <tr>\n",
              "      <th>332342</th>\n",
              "      <td>10.000000</td>\n",
              "      <td>2013-07-04 11:53:19+00:00</td>\n",
              "      <td>-73.977531</td>\n",
              "      <td>40.758072</td>\n",
              "      <td>-73.951759</td>\n",
              "      <td>40.769730</td>\n",
              "      <td>1</td>\n",
              "      <td>False</td>\n",
              "      <td>False</td>\n",
              "      <td>11</td>\n",
              "      <td>2013-07-04</td>\n",
              "      <td>2.526998</td>\n",
              "      <td>20.437653</td>\n",
              "      <td>6.591766</td>\n",
              "      <td>20.768559</td>\n",
              "      <td>1.443016</td>\n",
              "      <td>8.017034</td>\n",
              "      <td>4.16</td>\n",
              "    </tr>\n",
              "    <tr>\n",
              "      <th>332343</th>\n",
              "      <td>6.500000</td>\n",
              "      <td>2012-07-31 15:57:40+00:00</td>\n",
              "      <td>-73.956017</td>\n",
              "      <td>40.785038</td>\n",
              "      <td>-73.964355</td>\n",
              "      <td>40.768024</td>\n",
              "      <td>1</td>\n",
              "      <td>False</td>\n",
              "      <td>False</td>\n",
              "      <td>15</td>\n",
              "      <td>2012-07-31</td>\n",
              "      <td>2.016728</td>\n",
              "      <td>21.083412</td>\n",
              "      <td>7.667755</td>\n",
              "      <td>19.730917</td>\n",
              "      <td>1.267851</td>\n",
              "      <td>7.255141</td>\n",
              "      <td>4.09</td>\n",
              "    </tr>\n",
              "    <tr>\n",
              "      <th>332344</th>\n",
              "      <td>56.799999</td>\n",
              "      <td>2012-10-09 19:14:00+00:00</td>\n",
              "      <td>-73.789238</td>\n",
              "      <td>40.646133</td>\n",
              "      <td>-73.970551</td>\n",
              "      <td>40.756645</td>\n",
              "      <td>5</td>\n",
              "      <td>False</td>\n",
              "      <td>False</td>\n",
              "      <td>19</td>\n",
              "      <td>2012-10-09</td>\n",
              "      <td>19.599277</td>\n",
              "      <td>20.668571</td>\n",
              "      <td>8.432059</td>\n",
              "      <td>18.726952</td>\n",
              "      <td>2.603177</td>\n",
              "      <td>5.910473</td>\n",
              "      <td>4.35</td>\n",
              "    </tr>\n",
              "    <tr>\n",
              "      <th>332345</th>\n",
              "      <td>6.900000</td>\n",
              "      <td>2010-04-01 23:54:17+00:00</td>\n",
              "      <td>-74.010979</td>\n",
              "      <td>40.710999</td>\n",
              "      <td>-73.999542</td>\n",
              "      <td>40.723389</td>\n",
              "      <td>1</td>\n",
              "      <td>False</td>\n",
              "      <td>False</td>\n",
              "      <td>23</td>\n",
              "      <td>2010-04-01</td>\n",
              "      <td>1.680533</td>\n",
              "      <td>20.771173</td>\n",
              "      <td>12.126464</td>\n",
              "      <td>15.212222</td>\n",
              "      <td>6.935267</td>\n",
              "      <td>1.482844</td>\n",
              "      <td>3.16</td>\n",
              "    </tr>\n",
              "  </tbody>\n",
              "</table>\n",
              "<p>323976 rows × 18 columns</p>\n",
              "</div>\n",
              "      <button class=\"colab-df-convert\" onclick=\"convertToInteractive('df-36cbc6b5-3b4d-41d8-85dc-f022bc25b833')\"\n",
              "              title=\"Convert this dataframe to an interactive table.\"\n",
              "              style=\"display:none;\">\n",
              "        \n",
              "  <svg xmlns=\"http://www.w3.org/2000/svg\" height=\"24px\"viewBox=\"0 0 24 24\"\n",
              "       width=\"24px\">\n",
              "    <path d=\"M0 0h24v24H0V0z\" fill=\"none\"/>\n",
              "    <path d=\"M18.56 5.44l.94 2.06.94-2.06 2.06-.94-2.06-.94-.94-2.06-.94 2.06-2.06.94zm-11 1L8.5 8.5l.94-2.06 2.06-.94-2.06-.94L8.5 2.5l-.94 2.06-2.06.94zm10 10l.94 2.06.94-2.06 2.06-.94-2.06-.94-.94-2.06-.94 2.06-2.06.94z\"/><path d=\"M17.41 7.96l-1.37-1.37c-.4-.4-.92-.59-1.43-.59-.52 0-1.04.2-1.43.59L10.3 9.45l-7.72 7.72c-.78.78-.78 2.05 0 2.83L4 21.41c.39.39.9.59 1.41.59.51 0 1.02-.2 1.41-.59l7.78-7.78 2.81-2.81c.8-.78.8-2.07 0-2.86zM5.41 20L4 18.59l7.72-7.72 1.47 1.35L5.41 20z\"/>\n",
              "  </svg>\n",
              "      </button>\n",
              "      \n",
              "  <style>\n",
              "    .colab-df-container {\n",
              "      display:flex;\n",
              "      flex-wrap:wrap;\n",
              "      gap: 12px;\n",
              "    }\n",
              "\n",
              "    .colab-df-convert {\n",
              "      background-color: #E8F0FE;\n",
              "      border: none;\n",
              "      border-radius: 50%;\n",
              "      cursor: pointer;\n",
              "      display: none;\n",
              "      fill: #1967D2;\n",
              "      height: 32px;\n",
              "      padding: 0 0 0 0;\n",
              "      width: 32px;\n",
              "    }\n",
              "\n",
              "    .colab-df-convert:hover {\n",
              "      background-color: #E2EBFA;\n",
              "      box-shadow: 0px 1px 2px rgba(60, 64, 67, 0.3), 0px 1px 3px 1px rgba(60, 64, 67, 0.15);\n",
              "      fill: #174EA6;\n",
              "    }\n",
              "\n",
              "    [theme=dark] .colab-df-convert {\n",
              "      background-color: #3B4455;\n",
              "      fill: #D2E3FC;\n",
              "    }\n",
              "\n",
              "    [theme=dark] .colab-df-convert:hover {\n",
              "      background-color: #434B5C;\n",
              "      box-shadow: 0px 1px 3px 1px rgba(0, 0, 0, 0.15);\n",
              "      filter: drop-shadow(0px 1px 2px rgba(0, 0, 0, 0.3));\n",
              "      fill: #FFFFFF;\n",
              "    }\n",
              "  </style>\n",
              "\n",
              "      <script>\n",
              "        const buttonEl =\n",
              "          document.querySelector('#df-36cbc6b5-3b4d-41d8-85dc-f022bc25b833 button.colab-df-convert');\n",
              "        buttonEl.style.display =\n",
              "          google.colab.kernel.accessAllowed ? 'block' : 'none';\n",
              "\n",
              "        async function convertToInteractive(key) {\n",
              "          const element = document.querySelector('#df-36cbc6b5-3b4d-41d8-85dc-f022bc25b833');\n",
              "          const dataTable =\n",
              "            await google.colab.kernel.invokeFunction('convertToInteractive',\n",
              "                                                     [key], {});\n",
              "          if (!dataTable) return;\n",
              "\n",
              "          const docLinkHtml = 'Like what you see? Visit the ' +\n",
              "            '<a target=\"_blank\" href=https://colab.research.google.com/notebooks/data_table.ipynb>data table notebook</a>'\n",
              "            + ' to learn more about interactive tables.';\n",
              "          element.innerHTML = '';\n",
              "          dataTable['output_type'] = 'display_data';\n",
              "          await google.colab.output.renderOutput(dataTable, element);\n",
              "          const docLink = document.createElement('div');\n",
              "          docLink.innerHTML = docLinkHtml;\n",
              "          element.appendChild(docLink);\n",
              "        }\n",
              "      </script>\n",
              "    </div>\n",
              "  </div>\n",
              "  "
            ]
          },
          "metadata": {},
          "execution_count": 370
        }
      ],
      "source": [
        "remove_outliers(val_df)"
      ]
    },
    {
      "cell_type": "markdown",
      "metadata": {
        "id": "mMw3G3Z9sMKE"
      },
      "source": [
        "##6. Training & Evaluating Different Models\n",
        "  - Ridge Regression\n",
        "  - Gradient Boosting"
      ]
    },
    {
      "cell_type": "markdown",
      "metadata": {
        "id": "mUP9ydpf73Pu"
      },
      "source": [
        "####Preparing inputs & targets"
      ]
    },
    {
      "cell_type": "code",
      "execution_count": 371,
      "metadata": {
        "colab": {
          "base_uri": "https://localhost:8080/"
        },
        "id": "elWUVm0mrlkN",
        "outputId": "245babae-96b8-4d5e-c6ed-9539b7c9e308"
      },
      "outputs": [
        {
          "output_type": "execute_result",
          "data": {
            "text/plain": [
              "Index(['fare_amount', 'pickup_datetime', 'pickup_longitude', 'pickup_latitude',\n",
              "       'dropoff_longitude', 'dropoff_latitude', 'passenger_count',\n",
              "       'is_weekend', 'is_holiday', 'hour', 'Date', 'trip_distance',\n",
              "       'jfk_drop_distance', 'lga_drop_distance', 'ewr_drop_distance',\n",
              "       'met_drop_distance', 'wtc_drop_distance',\n",
              "       'New York State Average ($/gal)'],\n",
              "      dtype='object')"
            ]
          },
          "metadata": {},
          "execution_count": 371
        }
      ],
      "source": [
        "train_df.columns"
      ]
    },
    {
      "cell_type": "code",
      "execution_count": 372,
      "metadata": {
        "id": "kSrS9zSvss1V"
      },
      "outputs": [],
      "source": [
        "input_cols = ['pickup_longitude', 'pickup_latitude',\n",
        "       'dropoff_longitude', 'dropoff_latitude', 'passenger_count',\n",
        "       'is_weekend', 'is_holiday', 'hour', 'trip_distance',\n",
        "       'jfk_drop_distance', 'lga_drop_distance', 'ewr_drop_distance',\n",
        "       'met_drop_distance', 'wtc_drop_distance',\n",
        "       'New York State Average ($/gal)']"
      ]
    },
    {
      "cell_type": "code",
      "execution_count": 373,
      "metadata": {
        "id": "wcB2HYuos1z8"
      },
      "outputs": [],
      "source": [
        "target_cols = 'fare_amount'"
      ]
    },
    {
      "cell_type": "code",
      "execution_count": 374,
      "metadata": {
        "id": "7oN8Vm9Cs4xU"
      },
      "outputs": [],
      "source": [
        "train_inputs = train_df[input_cols]\n",
        "train_targets = train_df[target_cols]"
      ]
    },
    {
      "cell_type": "code",
      "execution_count": 375,
      "metadata": {
        "colab": {
          "base_uri": "https://localhost:8080/",
          "height": 340
        },
        "id": "p8kCyo0Yuf4o",
        "outputId": "7036234e-4f57-43cb-e5a7-e6e696e87d50"
      },
      "outputs": [
        {
          "output_type": "execute_result",
          "data": {
            "text/plain": [
              "   pickup_longitude  pickup_latitude  dropoff_longitude  dropoff_latitude  \\\n",
              "0        -73.986603        40.777008         -73.983513         40.762398   \n",
              "1        -73.982513        40.775196         -73.985092         40.769451   \n",
              "2        -73.988365        40.737541         -73.990646         40.756027   \n",
              "3        -73.991158        40.749142         -73.982712         40.756866   \n",
              "4        -73.980354        40.780384         -73.955025         40.800144   \n",
              "\n",
              "   passenger_count  is_weekend  is_holiday  hour  trip_distance  \\\n",
              "0                2       False       False    19       1.644263   \n",
              "1                5       False       False    18       0.674289   \n",
              "2                1       False       False     6       2.063207   \n",
              "3                1       False       False     8       1.114796   \n",
              "4                1       False       False    23       3.059984   \n",
              "\n",
              "   jfk_drop_distance  lga_drop_distance  ewr_drop_distance  met_drop_distance  \\\n",
              "0          21.921406           9.356100          18.009067           2.547729   \n",
              "1          22.513548           9.385714          18.257477           2.148751   \n",
              "2          21.981661          10.087758          17.158174           3.476056   \n",
              "3          21.496013           9.416364          17.802666           2.994468   \n",
              "4          23.100325           7.290286          22.194601           2.405673   \n",
              "\n",
              "   wtc_drop_distance  New York State Average ($/gal)  \n",
              "0           5.963304                            4.17  \n",
              "1           6.653792                            4.21  \n",
              "2           5.090721                            3.31  \n",
              "3           5.425738                            3.02  \n",
              "4          10.769313                            3.29  "
            ],
            "text/html": [
              "\n",
              "  <div id=\"df-922a4eb5-151a-47b9-bb89-c17e5abbd456\">\n",
              "    <div class=\"colab-df-container\">\n",
              "      <div>\n",
              "<style scoped>\n",
              "    .dataframe tbody tr th:only-of-type {\n",
              "        vertical-align: middle;\n",
              "    }\n",
              "\n",
              "    .dataframe tbody tr th {\n",
              "        vertical-align: top;\n",
              "    }\n",
              "\n",
              "    .dataframe thead th {\n",
              "        text-align: right;\n",
              "    }\n",
              "</style>\n",
              "<table border=\"1\" class=\"dataframe\">\n",
              "  <thead>\n",
              "    <tr style=\"text-align: right;\">\n",
              "      <th></th>\n",
              "      <th>pickup_longitude</th>\n",
              "      <th>pickup_latitude</th>\n",
              "      <th>dropoff_longitude</th>\n",
              "      <th>dropoff_latitude</th>\n",
              "      <th>passenger_count</th>\n",
              "      <th>is_weekend</th>\n",
              "      <th>is_holiday</th>\n",
              "      <th>hour</th>\n",
              "      <th>trip_distance</th>\n",
              "      <th>jfk_drop_distance</th>\n",
              "      <th>lga_drop_distance</th>\n",
              "      <th>ewr_drop_distance</th>\n",
              "      <th>met_drop_distance</th>\n",
              "      <th>wtc_drop_distance</th>\n",
              "      <th>New York State Average ($/gal)</th>\n",
              "    </tr>\n",
              "  </thead>\n",
              "  <tbody>\n",
              "    <tr>\n",
              "      <th>0</th>\n",
              "      <td>-73.986603</td>\n",
              "      <td>40.777008</td>\n",
              "      <td>-73.983513</td>\n",
              "      <td>40.762398</td>\n",
              "      <td>2</td>\n",
              "      <td>False</td>\n",
              "      <td>False</td>\n",
              "      <td>19</td>\n",
              "      <td>1.644263</td>\n",
              "      <td>21.921406</td>\n",
              "      <td>9.356100</td>\n",
              "      <td>18.009067</td>\n",
              "      <td>2.547729</td>\n",
              "      <td>5.963304</td>\n",
              "      <td>4.17</td>\n",
              "    </tr>\n",
              "    <tr>\n",
              "      <th>1</th>\n",
              "      <td>-73.982513</td>\n",
              "      <td>40.775196</td>\n",
              "      <td>-73.985092</td>\n",
              "      <td>40.769451</td>\n",
              "      <td>5</td>\n",
              "      <td>False</td>\n",
              "      <td>False</td>\n",
              "      <td>18</td>\n",
              "      <td>0.674289</td>\n",
              "      <td>22.513548</td>\n",
              "      <td>9.385714</td>\n",
              "      <td>18.257477</td>\n",
              "      <td>2.148751</td>\n",
              "      <td>6.653792</td>\n",
              "      <td>4.21</td>\n",
              "    </tr>\n",
              "    <tr>\n",
              "      <th>2</th>\n",
              "      <td>-73.988365</td>\n",
              "      <td>40.737541</td>\n",
              "      <td>-73.990646</td>\n",
              "      <td>40.756027</td>\n",
              "      <td>1</td>\n",
              "      <td>False</td>\n",
              "      <td>False</td>\n",
              "      <td>6</td>\n",
              "      <td>2.063207</td>\n",
              "      <td>21.981661</td>\n",
              "      <td>10.087758</td>\n",
              "      <td>17.158174</td>\n",
              "      <td>3.476056</td>\n",
              "      <td>5.090721</td>\n",
              "      <td>3.31</td>\n",
              "    </tr>\n",
              "    <tr>\n",
              "      <th>3</th>\n",
              "      <td>-73.991158</td>\n",
              "      <td>40.749142</td>\n",
              "      <td>-73.982712</td>\n",
              "      <td>40.756866</td>\n",
              "      <td>1</td>\n",
              "      <td>False</td>\n",
              "      <td>False</td>\n",
              "      <td>8</td>\n",
              "      <td>1.114796</td>\n",
              "      <td>21.496013</td>\n",
              "      <td>9.416364</td>\n",
              "      <td>17.802666</td>\n",
              "      <td>2.994468</td>\n",
              "      <td>5.425738</td>\n",
              "      <td>3.02</td>\n",
              "    </tr>\n",
              "    <tr>\n",
              "      <th>4</th>\n",
              "      <td>-73.980354</td>\n",
              "      <td>40.780384</td>\n",
              "      <td>-73.955025</td>\n",
              "      <td>40.800144</td>\n",
              "      <td>1</td>\n",
              "      <td>False</td>\n",
              "      <td>False</td>\n",
              "      <td>23</td>\n",
              "      <td>3.059984</td>\n",
              "      <td>23.100325</td>\n",
              "      <td>7.290286</td>\n",
              "      <td>22.194601</td>\n",
              "      <td>2.405673</td>\n",
              "      <td>10.769313</td>\n",
              "      <td>3.29</td>\n",
              "    </tr>\n",
              "  </tbody>\n",
              "</table>\n",
              "</div>\n",
              "      <button class=\"colab-df-convert\" onclick=\"convertToInteractive('df-922a4eb5-151a-47b9-bb89-c17e5abbd456')\"\n",
              "              title=\"Convert this dataframe to an interactive table.\"\n",
              "              style=\"display:none;\">\n",
              "        \n",
              "  <svg xmlns=\"http://www.w3.org/2000/svg\" height=\"24px\"viewBox=\"0 0 24 24\"\n",
              "       width=\"24px\">\n",
              "    <path d=\"M0 0h24v24H0V0z\" fill=\"none\"/>\n",
              "    <path d=\"M18.56 5.44l.94 2.06.94-2.06 2.06-.94-2.06-.94-.94-2.06-.94 2.06-2.06.94zm-11 1L8.5 8.5l.94-2.06 2.06-.94-2.06-.94L8.5 2.5l-.94 2.06-2.06.94zm10 10l.94 2.06.94-2.06 2.06-.94-2.06-.94-.94-2.06-.94 2.06-2.06.94z\"/><path d=\"M17.41 7.96l-1.37-1.37c-.4-.4-.92-.59-1.43-.59-.52 0-1.04.2-1.43.59L10.3 9.45l-7.72 7.72c-.78.78-.78 2.05 0 2.83L4 21.41c.39.39.9.59 1.41.59.51 0 1.02-.2 1.41-.59l7.78-7.78 2.81-2.81c.8-.78.8-2.07 0-2.86zM5.41 20L4 18.59l7.72-7.72 1.47 1.35L5.41 20z\"/>\n",
              "  </svg>\n",
              "      </button>\n",
              "      \n",
              "  <style>\n",
              "    .colab-df-container {\n",
              "      display:flex;\n",
              "      flex-wrap:wrap;\n",
              "      gap: 12px;\n",
              "    }\n",
              "\n",
              "    .colab-df-convert {\n",
              "      background-color: #E8F0FE;\n",
              "      border: none;\n",
              "      border-radius: 50%;\n",
              "      cursor: pointer;\n",
              "      display: none;\n",
              "      fill: #1967D2;\n",
              "      height: 32px;\n",
              "      padding: 0 0 0 0;\n",
              "      width: 32px;\n",
              "    }\n",
              "\n",
              "    .colab-df-convert:hover {\n",
              "      background-color: #E2EBFA;\n",
              "      box-shadow: 0px 1px 2px rgba(60, 64, 67, 0.3), 0px 1px 3px 1px rgba(60, 64, 67, 0.15);\n",
              "      fill: #174EA6;\n",
              "    }\n",
              "\n",
              "    [theme=dark] .colab-df-convert {\n",
              "      background-color: #3B4455;\n",
              "      fill: #D2E3FC;\n",
              "    }\n",
              "\n",
              "    [theme=dark] .colab-df-convert:hover {\n",
              "      background-color: #434B5C;\n",
              "      box-shadow: 0px 1px 3px 1px rgba(0, 0, 0, 0.15);\n",
              "      filter: drop-shadow(0px 1px 2px rgba(0, 0, 0, 0.3));\n",
              "      fill: #FFFFFF;\n",
              "    }\n",
              "  </style>\n",
              "\n",
              "      <script>\n",
              "        const buttonEl =\n",
              "          document.querySelector('#df-922a4eb5-151a-47b9-bb89-c17e5abbd456 button.colab-df-convert');\n",
              "        buttonEl.style.display =\n",
              "          google.colab.kernel.accessAllowed ? 'block' : 'none';\n",
              "\n",
              "        async function convertToInteractive(key) {\n",
              "          const element = document.querySelector('#df-922a4eb5-151a-47b9-bb89-c17e5abbd456');\n",
              "          const dataTable =\n",
              "            await google.colab.kernel.invokeFunction('convertToInteractive',\n",
              "                                                     [key], {});\n",
              "          if (!dataTable) return;\n",
              "\n",
              "          const docLinkHtml = 'Like what you see? Visit the ' +\n",
              "            '<a target=\"_blank\" href=https://colab.research.google.com/notebooks/data_table.ipynb>data table notebook</a>'\n",
              "            + ' to learn more about interactive tables.';\n",
              "          element.innerHTML = '';\n",
              "          dataTable['output_type'] = 'display_data';\n",
              "          await google.colab.output.renderOutput(dataTable, element);\n",
              "          const docLink = document.createElement('div');\n",
              "          docLink.innerHTML = docLinkHtml;\n",
              "          element.appendChild(docLink);\n",
              "        }\n",
              "      </script>\n",
              "    </div>\n",
              "  </div>\n",
              "  "
            ]
          },
          "metadata": {},
          "execution_count": 375
        }
      ],
      "source": [
        "train_inputs.head()"
      ]
    },
    {
      "cell_type": "code",
      "execution_count": 376,
      "metadata": {
        "id": "AMZDQgskJIm3"
      },
      "outputs": [],
      "source": [
        "val_inputs =val_df[input_cols]\n",
        "val_targets = val_df[target_cols]"
      ]
    },
    {
      "cell_type": "code",
      "execution_count": 377,
      "metadata": {
        "id": "orZk9-1N9wGN"
      },
      "outputs": [],
      "source": [
        "test_inputs =test_df[input_cols]"
      ]
    },
    {
      "cell_type": "markdown",
      "metadata": {
        "id": "AyHvxB8AtEFJ"
      },
      "source": [
        "Let's define a helper function to evaluate models"
      ]
    },
    {
      "cell_type": "code",
      "execution_count": 378,
      "metadata": {
        "id": "sZMmXA3ztBlq"
      },
      "outputs": [],
      "source": [
        "def evaluate(model, train_inputs, train_preds):\n",
        "  print(train_inputs.head())\n",
        "  train_preds = model.predict(train_inputs)\n",
        "  train_rmse = mean_squared_error(train_targets, train_preds, squared=False)\n",
        "  val_preds = model.predict(val_inputs)\n",
        "  val_rmse = mean_squared_error(val_targets, val_preds, squared=False)\n",
        "  return train_rmse, val_rmse, train_preds, val_preds"
      ]
    },
    {
      "cell_type": "markdown",
      "metadata": {
        "id": "OQliLFm_tmuO"
      },
      "source": [
        "####Ridge Regression"
      ]
    },
    {
      "cell_type": "code",
      "execution_count": 379,
      "metadata": {
        "id": "wD1ja_1Ttkmb"
      },
      "outputs": [],
      "source": [
        "from sklearn.linear_model import Ridge"
      ]
    },
    {
      "cell_type": "code",
      "execution_count": 380,
      "metadata": {
        "colab": {
          "base_uri": "https://localhost:8080/"
        },
        "id": "AVzz5IUAt2Iz",
        "outputId": "d3a8e4d9-07c6-4b68-b3fb-209fbf7fd40f"
      },
      "outputs": [
        {
          "output_type": "stream",
          "name": "stdout",
          "text": [
            "   pickup_longitude  pickup_latitude  dropoff_longitude  dropoff_latitude  \\\n",
            "0        -73.986603        40.777008         -73.983513         40.762398   \n",
            "1        -73.982513        40.775196         -73.985092         40.769451   \n",
            "2        -73.988365        40.737541         -73.990646         40.756027   \n",
            "3        -73.991158        40.749142         -73.982712         40.756866   \n",
            "4        -73.980354        40.780384         -73.955025         40.800144   \n",
            "\n",
            "   passenger_count  is_weekend  is_holiday  hour  trip_distance  \\\n",
            "0                2       False       False    19       1.644263   \n",
            "1                5       False       False    18       0.674289   \n",
            "2                1       False       False     6       2.063207   \n",
            "3                1       False       False     8       1.114796   \n",
            "4                1       False       False    23       3.059984   \n",
            "\n",
            "   jfk_drop_distance  lga_drop_distance  ewr_drop_distance  met_drop_distance  \\\n",
            "0          21.921406           9.356100          18.009067           2.547729   \n",
            "1          22.513548           9.385714          18.257477           2.148751   \n",
            "2          21.981661          10.087758          17.158174           3.476056   \n",
            "3          21.496013           9.416364          17.802666           2.994468   \n",
            "4          23.100325           7.290286          22.194601           2.405673   \n",
            "\n",
            "   wtc_drop_distance  New York State Average ($/gal)  \n",
            "0           5.963304                            4.17  \n",
            "1           6.653792                            4.21  \n",
            "2           5.090721                            3.31  \n",
            "3           5.425738                            3.02  \n",
            "4          10.769313                            3.29  \n"
          ]
        },
        {
          "output_type": "execute_result",
          "data": {
            "text/plain": [
              "(8.205699227613012,\n",
              " 8.161465132520036,\n",
              " array([9.65549197, 9.90802778, 8.84297422, ..., 7.8832382 , 9.77001074,\n",
              "        9.50028557]),\n",
              " array([ 8.08975031,  9.68658771, 17.40573256, ...,  8.92727258,\n",
              "        10.24239045,  9.15093456]))"
            ]
          },
          "metadata": {},
          "execution_count": 380
        }
      ],
      "source": [
        "ridge_model = Ridge(random_state=42, alpha=0.9)\n",
        "ridge_model.fit(train_inputs, train_targets)\n",
        "train_inputs.head()\n",
        "evaluate(ridge_model, train_inputs, train_preds)"
      ]
    },
    {
      "cell_type": "markdown",
      "metadata": {
        "id": "eFG_iWIB8WQ2"
      },
      "source": [
        "####Ridge Regression after standardization"
      ]
    },
    {
      "cell_type": "code",
      "execution_count": 381,
      "metadata": {
        "colab": {
          "base_uri": "https://localhost:8080/"
        },
        "id": "vMFQKW2LEZL0",
        "outputId": "3f194ecb-049f-48d0-fb7f-6b1e6b9e48c8"
      },
      "outputs": [
        {
          "output_type": "execute_result",
          "data": {
            "text/plain": [
              "['pickup_longitude',\n",
              " 'pickup_latitude',\n",
              " 'dropoff_longitude',\n",
              " 'dropoff_latitude',\n",
              " 'passenger_count',\n",
              " 'hour',\n",
              " 'trip_distance',\n",
              " 'jfk_drop_distance',\n",
              " 'lga_drop_distance',\n",
              " 'ewr_drop_distance',\n",
              " 'met_drop_distance',\n",
              " 'wtc_drop_distance',\n",
              " 'New York State Average ($/gal)']"
            ]
          },
          "metadata": {},
          "execution_count": 381
        }
      ],
      "source": [
        "train_inputs_list = list(train_inputs.columns)\n",
        "train_inputs_list.remove('is_weekend')\n",
        "train_inputs_list.remove('is_holiday')\n",
        "train_inputs_list"
      ]
    },
    {
      "cell_type": "code",
      "execution_count": 382,
      "metadata": {
        "id": "mLnYBwJuD4YP"
      },
      "outputs": [],
      "source": [
        "X_train = train_inputs[train_inputs_list].values\n",
        "y_train = train_targets.values.reshape((-1,1))\n",
        "X_val = val_inputs[train_inputs_list].values\n",
        "y_val = val_targets.values.reshape((-1,1))"
      ]
    },
    {
      "cell_type": "code",
      "execution_count": 383,
      "metadata": {
        "colab": {
          "base_uri": "https://localhost:8080/"
        },
        "id": "LHURe1swMA4S",
        "outputId": "a369be4b-a1cf-4836-b514-a27ab4d76056"
      },
      "outputs": [
        {
          "output_type": "execute_result",
          "data": {
            "text/plain": [
              "((1329371, 1), (332346, 1))"
            ]
          },
          "metadata": {},
          "execution_count": 383
        }
      ],
      "source": [
        "y_train.shape, y_val.shape"
      ]
    },
    {
      "cell_type": "code",
      "execution_count": 384,
      "metadata": {
        "colab": {
          "base_uri": "https://localhost:8080/"
        },
        "id": "GhB7pagLLVvY",
        "outputId": "2b1d48d3-14b3-42df-8e27-6ef6c6edf5a7"
      },
      "outputs": [
        {
          "output_type": "execute_result",
          "data": {
            "text/plain": [
              "(1329371, 13)"
            ]
          },
          "metadata": {},
          "execution_count": 384
        }
      ],
      "source": [
        "X_train.shape"
      ]
    },
    {
      "cell_type": "code",
      "execution_count": 385,
      "metadata": {
        "colab": {
          "base_uri": "https://localhost:8080/"
        },
        "id": "oL42vp8GLYMv",
        "outputId": "902fde27-4bea-49b9-91b8-277e583e5e1e"
      },
      "outputs": [
        {
          "output_type": "execute_result",
          "data": {
            "text/plain": [
              "(1329371, 2)"
            ]
          },
          "metadata": {},
          "execution_count": 385
        }
      ],
      "source": [
        "train_inputs.loc[:,['is_weekend','is_holiday']].values.shape"
      ]
    },
    {
      "cell_type": "code",
      "execution_count": 386,
      "metadata": {
        "id": "NacvX_n__Iyn"
      },
      "outputs": [],
      "source": [
        "from sklearn.preprocessing import StandardScaler\n",
        "sc_x = StandardScaler()\n",
        "sc_y = StandardScaler()\n",
        "X_train = sc_x.fit_transform(X_train)\n",
        "y_train = sc_y.fit_transform(y_train)\n",
        "X_train = np.append(X_train, train_inputs.loc[:,['is_weekend','is_holiday']].values,axis=1)\n",
        "X_val = sc_x.transform(X_val)\n",
        "X_val = np.append(X_val, val_inputs.loc[:,['is_weekend','is_holiday']].values,axis=1)"
      ]
    },
    {
      "cell_type": "code",
      "execution_count": 387,
      "metadata": {
        "colab": {
          "base_uri": "https://localhost:8080/"
        },
        "id": "NWNBJBH38TXP",
        "outputId": "a247bd1c-02da-45bc-b004-b1a8bec08b55"
      },
      "outputs": [
        {
          "output_type": "stream",
          "name": "stdout",
          "text": [
            "CPU times: user 214 ms, sys: 12.9 ms, total: 226 ms\n",
            "Wall time: 211 ms\n"
          ]
        }
      ],
      "source": [
        "%%time\n",
        "model = Ridge(random_state=42, alpha=0.9)\n",
        "model.fit(X_train, y_train)"
      ]
    },
    {
      "cell_type": "code",
      "execution_count": 388,
      "metadata": {
        "id": "8Zf0zP0dNC6Q"
      },
      "outputs": [],
      "source": [
        "y_preds_train = sc_y.inverse_transform(model.predict(X_train).reshape(-1,1))\n",
        "y_preds_val = sc_y.inverse_transform(model.predict(X_val).reshape(-1,1))"
      ]
    },
    {
      "cell_type": "code",
      "execution_count": 389,
      "metadata": {
        "id": "fQ5_AleBNaBl"
      },
      "outputs": [],
      "source": [
        "train_s_rmse = mean_squared_error(y_train, y_preds_train, squared=False)\n",
        "val_s_rmse = mean_squared_error(y_val, y_preds_val, squared=False)"
      ]
    },
    {
      "cell_type": "code",
      "execution_count": 390,
      "metadata": {
        "colab": {
          "base_uri": "https://localhost:8080/"
        },
        "id": "HmFgix1uNpSM",
        "outputId": "e8c461ec-0809-4f2a-c86c-bdef525bb925"
      },
      "outputs": [
        {
          "output_type": "execute_result",
          "data": {
            "text/plain": [
              "(12.001759261507937, 8.344176923951657)"
            ]
          },
          "metadata": {},
          "execution_count": 390
        }
      ],
      "source": [
        "train_s_rmse, val_s_rmse"
      ]
    },
    {
      "cell_type": "markdown",
      "metadata": {
        "id": "glbThfqEwmRb"
      },
      "source": [
        "####XGBoost Regression"
      ]
    },
    {
      "cell_type": "code",
      "execution_count": 391,
      "metadata": {
        "id": "OaeFrsqQ0Gih"
      },
      "outputs": [],
      "source": [
        "from xgboost import XGBRegressor\n",
        "regressor = XGBRegressor(max_depth=5, random_state=42)"
      ]
    },
    {
      "cell_type": "code",
      "execution_count": 392,
      "metadata": {
        "colab": {
          "base_uri": "https://localhost:8080/"
        },
        "id": "zuYhuUQ704uX",
        "outputId": "f4f1db64-4cb6-4783-864a-d6b18f869f0d"
      },
      "outputs": [
        {
          "output_type": "stream",
          "name": "stdout",
          "text": [
            "[05:30:11] WARNING: /workspace/src/objective/regression_obj.cu:152: reg:linear is now deprecated in favor of reg:squarederror.\n",
            "CPU times: user 7min 49s, sys: 1.17 s, total: 7min 50s\n",
            "Wall time: 7min 46s\n"
          ]
        },
        {
          "output_type": "execute_result",
          "data": {
            "text/plain": [
              "XGBRegressor(max_depth=5, random_state=42)"
            ]
          },
          "metadata": {},
          "execution_count": 392
        }
      ],
      "source": [
        "%%time\n",
        "regressor.fit(train_inputs, train_targets)"
      ]
    },
    {
      "cell_type": "code",
      "execution_count": 393,
      "metadata": {
        "id": "Hf9JYTE01DVi"
      },
      "outputs": [],
      "source": [
        "train_m_preds = regressor.predict(train_inputs)\n",
        "train_m_rmse = mean_squared_error(train_targets, train_m_preds, squared=False)\n",
        "val_m_preds = regressor.predict(val_inputs)\n",
        "val_m_rmse = mean_squared_error(val_targets, val_m_preds, squared=False)"
      ]
    },
    {
      "cell_type": "code",
      "execution_count": 394,
      "metadata": {
        "colab": {
          "base_uri": "https://localhost:8080/"
        },
        "id": "CGktfZZA2IPi",
        "outputId": "66628d55-6303-4a01-ceb6-34ea6ed1fb78"
      },
      "outputs": [
        {
          "output_type": "execute_result",
          "data": {
            "text/plain": [
              "4.38885"
            ]
          },
          "metadata": {},
          "execution_count": 394
        }
      ],
      "source": [
        "train_m_rmse"
      ]
    },
    {
      "cell_type": "code",
      "execution_count": 395,
      "metadata": {
        "colab": {
          "base_uri": "https://localhost:8080/"
        },
        "id": "VAN7mMK02K45",
        "outputId": "20463cb7-7535-44e4-c5ab-222242ef9777"
      },
      "outputs": [
        {
          "output_type": "execute_result",
          "data": {
            "text/plain": [
              "4.39392"
            ]
          },
          "metadata": {},
          "execution_count": 395
        }
      ],
      "source": [
        "val_m_rmse"
      ]
    },
    {
      "cell_type": "markdown",
      "metadata": {
        "id": "MvGMpnEClXD1"
      },
      "source": [
        "##7. Predicting Fares for test data & Creating the submission file"
      ]
    },
    {
      "cell_type": "code",
      "execution_count": 396,
      "metadata": {
        "id": "7VVn5rHj2RMM"
      },
      "outputs": [],
      "source": [
        "test_preds = regressor.predict(test_inputs)"
      ]
    },
    {
      "cell_type": "code",
      "execution_count": 397,
      "metadata": {
        "id": "sU0DArsi97-3"
      },
      "outputs": [],
      "source": [
        "submission = pd.read_csv(\n",
        "    data_dir+'/test.csv',)"
      ]
    },
    {
      "cell_type": "code",
      "execution_count": 398,
      "metadata": {
        "id": "WDCmK1Di-Fi_"
      },
      "outputs": [],
      "source": [
        "submission['fare_amount'] = test_preds"
      ]
    },
    {
      "cell_type": "code",
      "execution_count": 399,
      "metadata": {
        "id": "k83UQqLv-H8z"
      },
      "outputs": [],
      "source": [
        "submission = submission.loc[:,['key','fare_amount']]"
      ]
    },
    {
      "cell_type": "code",
      "execution_count": 400,
      "metadata": {
        "colab": {
          "base_uri": "https://localhost:8080/",
          "height": 424
        },
        "id": "sq8xGWNY-jWr",
        "outputId": "7d44a785-6438-40c9-f16d-b0afd1b340bc"
      },
      "outputs": [
        {
          "output_type": "execute_result",
          "data": {
            "text/plain": [
              "                              key  fare_amount\n",
              "0     2015-01-27 13:08:24.0000002     9.794543\n",
              "1     2015-01-27 13:08:24.0000003     9.799504\n",
              "2     2011-10-08 11:53:44.0000002     5.610268\n",
              "3     2012-12-01 21:12:12.0000002     8.202549\n",
              "4     2012-12-01 21:12:12.0000003    15.265446\n",
              "...                           ...          ...\n",
              "9909  2015-05-10 12:37:51.0000002     9.039925\n",
              "9910  2015-01-12 17:05:51.0000001    11.280659\n",
              "9911  2015-04-19 20:44:15.0000001    51.650238\n",
              "9912  2015-01-31 01:05:19.0000005    18.554880\n",
              "9913  2015-01-18 14:06:23.0000006     6.868315\n",
              "\n",
              "[9914 rows x 2 columns]"
            ],
            "text/html": [
              "\n",
              "  <div id=\"df-d78e3450-7438-412e-8339-dc939127fca5\">\n",
              "    <div class=\"colab-df-container\">\n",
              "      <div>\n",
              "<style scoped>\n",
              "    .dataframe tbody tr th:only-of-type {\n",
              "        vertical-align: middle;\n",
              "    }\n",
              "\n",
              "    .dataframe tbody tr th {\n",
              "        vertical-align: top;\n",
              "    }\n",
              "\n",
              "    .dataframe thead th {\n",
              "        text-align: right;\n",
              "    }\n",
              "</style>\n",
              "<table border=\"1\" class=\"dataframe\">\n",
              "  <thead>\n",
              "    <tr style=\"text-align: right;\">\n",
              "      <th></th>\n",
              "      <th>key</th>\n",
              "      <th>fare_amount</th>\n",
              "    </tr>\n",
              "  </thead>\n",
              "  <tbody>\n",
              "    <tr>\n",
              "      <th>0</th>\n",
              "      <td>2015-01-27 13:08:24.0000002</td>\n",
              "      <td>9.794543</td>\n",
              "    </tr>\n",
              "    <tr>\n",
              "      <th>1</th>\n",
              "      <td>2015-01-27 13:08:24.0000003</td>\n",
              "      <td>9.799504</td>\n",
              "    </tr>\n",
              "    <tr>\n",
              "      <th>2</th>\n",
              "      <td>2011-10-08 11:53:44.0000002</td>\n",
              "      <td>5.610268</td>\n",
              "    </tr>\n",
              "    <tr>\n",
              "      <th>3</th>\n",
              "      <td>2012-12-01 21:12:12.0000002</td>\n",
              "      <td>8.202549</td>\n",
              "    </tr>\n",
              "    <tr>\n",
              "      <th>4</th>\n",
              "      <td>2012-12-01 21:12:12.0000003</td>\n",
              "      <td>15.265446</td>\n",
              "    </tr>\n",
              "    <tr>\n",
              "      <th>...</th>\n",
              "      <td>...</td>\n",
              "      <td>...</td>\n",
              "    </tr>\n",
              "    <tr>\n",
              "      <th>9909</th>\n",
              "      <td>2015-05-10 12:37:51.0000002</td>\n",
              "      <td>9.039925</td>\n",
              "    </tr>\n",
              "    <tr>\n",
              "      <th>9910</th>\n",
              "      <td>2015-01-12 17:05:51.0000001</td>\n",
              "      <td>11.280659</td>\n",
              "    </tr>\n",
              "    <tr>\n",
              "      <th>9911</th>\n",
              "      <td>2015-04-19 20:44:15.0000001</td>\n",
              "      <td>51.650238</td>\n",
              "    </tr>\n",
              "    <tr>\n",
              "      <th>9912</th>\n",
              "      <td>2015-01-31 01:05:19.0000005</td>\n",
              "      <td>18.554880</td>\n",
              "    </tr>\n",
              "    <tr>\n",
              "      <th>9913</th>\n",
              "      <td>2015-01-18 14:06:23.0000006</td>\n",
              "      <td>6.868315</td>\n",
              "    </tr>\n",
              "  </tbody>\n",
              "</table>\n",
              "<p>9914 rows × 2 columns</p>\n",
              "</div>\n",
              "      <button class=\"colab-df-convert\" onclick=\"convertToInteractive('df-d78e3450-7438-412e-8339-dc939127fca5')\"\n",
              "              title=\"Convert this dataframe to an interactive table.\"\n",
              "              style=\"display:none;\">\n",
              "        \n",
              "  <svg xmlns=\"http://www.w3.org/2000/svg\" height=\"24px\"viewBox=\"0 0 24 24\"\n",
              "       width=\"24px\">\n",
              "    <path d=\"M0 0h24v24H0V0z\" fill=\"none\"/>\n",
              "    <path d=\"M18.56 5.44l.94 2.06.94-2.06 2.06-.94-2.06-.94-.94-2.06-.94 2.06-2.06.94zm-11 1L8.5 8.5l.94-2.06 2.06-.94-2.06-.94L8.5 2.5l-.94 2.06-2.06.94zm10 10l.94 2.06.94-2.06 2.06-.94-2.06-.94-.94-2.06-.94 2.06-2.06.94z\"/><path d=\"M17.41 7.96l-1.37-1.37c-.4-.4-.92-.59-1.43-.59-.52 0-1.04.2-1.43.59L10.3 9.45l-7.72 7.72c-.78.78-.78 2.05 0 2.83L4 21.41c.39.39.9.59 1.41.59.51 0 1.02-.2 1.41-.59l7.78-7.78 2.81-2.81c.8-.78.8-2.07 0-2.86zM5.41 20L4 18.59l7.72-7.72 1.47 1.35L5.41 20z\"/>\n",
              "  </svg>\n",
              "      </button>\n",
              "      \n",
              "  <style>\n",
              "    .colab-df-container {\n",
              "      display:flex;\n",
              "      flex-wrap:wrap;\n",
              "      gap: 12px;\n",
              "    }\n",
              "\n",
              "    .colab-df-convert {\n",
              "      background-color: #E8F0FE;\n",
              "      border: none;\n",
              "      border-radius: 50%;\n",
              "      cursor: pointer;\n",
              "      display: none;\n",
              "      fill: #1967D2;\n",
              "      height: 32px;\n",
              "      padding: 0 0 0 0;\n",
              "      width: 32px;\n",
              "    }\n",
              "\n",
              "    .colab-df-convert:hover {\n",
              "      background-color: #E2EBFA;\n",
              "      box-shadow: 0px 1px 2px rgba(60, 64, 67, 0.3), 0px 1px 3px 1px rgba(60, 64, 67, 0.15);\n",
              "      fill: #174EA6;\n",
              "    }\n",
              "\n",
              "    [theme=dark] .colab-df-convert {\n",
              "      background-color: #3B4455;\n",
              "      fill: #D2E3FC;\n",
              "    }\n",
              "\n",
              "    [theme=dark] .colab-df-convert:hover {\n",
              "      background-color: #434B5C;\n",
              "      box-shadow: 0px 1px 3px 1px rgba(0, 0, 0, 0.15);\n",
              "      filter: drop-shadow(0px 1px 2px rgba(0, 0, 0, 0.3));\n",
              "      fill: #FFFFFF;\n",
              "    }\n",
              "  </style>\n",
              "\n",
              "      <script>\n",
              "        const buttonEl =\n",
              "          document.querySelector('#df-d78e3450-7438-412e-8339-dc939127fca5 button.colab-df-convert');\n",
              "        buttonEl.style.display =\n",
              "          google.colab.kernel.accessAllowed ? 'block' : 'none';\n",
              "\n",
              "        async function convertToInteractive(key) {\n",
              "          const element = document.querySelector('#df-d78e3450-7438-412e-8339-dc939127fca5');\n",
              "          const dataTable =\n",
              "            await google.colab.kernel.invokeFunction('convertToInteractive',\n",
              "                                                     [key], {});\n",
              "          if (!dataTable) return;\n",
              "\n",
              "          const docLinkHtml = 'Like what you see? Visit the ' +\n",
              "            '<a target=\"_blank\" href=https://colab.research.google.com/notebooks/data_table.ipynb>data table notebook</a>'\n",
              "            + ' to learn more about interactive tables.';\n",
              "          element.innerHTML = '';\n",
              "          dataTable['output_type'] = 'display_data';\n",
              "          await google.colab.output.renderOutput(dataTable, element);\n",
              "          const docLink = document.createElement('div');\n",
              "          docLink.innerHTML = docLinkHtml;\n",
              "          element.appendChild(docLink);\n",
              "        }\n",
              "      </script>\n",
              "    </div>\n",
              "  </div>\n",
              "  "
            ]
          },
          "metadata": {},
          "execution_count": 400
        }
      ],
      "source": [
        "submission"
      ]
    },
    {
      "cell_type": "code",
      "execution_count": 401,
      "metadata": {
        "colab": {
          "base_uri": "https://localhost:8080/"
        },
        "id": "efECTmE__efq",
        "outputId": "7d19a320-acd5-41d3-df10-f8704d535b7e"
      },
      "outputs": [
        {
          "output_type": "execute_result",
          "data": {
            "text/plain": [
              "key            0\n",
              "fare_amount    0\n",
              "dtype: int64"
            ]
          },
          "metadata": {},
          "execution_count": 401
        }
      ],
      "source": [
        "submission.isna().sum()"
      ]
    },
    {
      "cell_type": "code",
      "execution_count": 402,
      "metadata": {
        "id": "IZa0qVQK_ap4"
      },
      "outputs": [],
      "source": [
        "submission.to_csv('submission.csv',index=False)"
      ]
    }
  ],
  "metadata": {
    "colab": {
      "collapsed_sections": [
        "_G_hnytj-c0x",
        "NgB0jZmhKYJD",
        "rPVZGLMkIrhS",
        "Og1BoM_sJlLi",
        "RcqEV86EP-8X",
        "o2V5IbGMKsW4",
        "fOUOcFkWS7un",
        "_gjhxJ46ckLU",
        "mUP9ydpf73Pu"
      ],
      "name": "Taxi_Fare_Predictor.ipynb",
      "provenance": []
    },
    "kernelspec": {
      "display_name": "Python 3",
      "name": "python3"
    },
    "language_info": {
      "name": "python"
    }
  },
  "nbformat": 4,
  "nbformat_minor": 0
}